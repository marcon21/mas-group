{
 "cells": [
  {
   "cell_type": "code",
   "execution_count": 24,
   "metadata": {},
   "outputs": [],
   "source": [
    "import warnings\n",
    "\n",
    "warnings.filterwarnings(\"ignore\")\n",
    "\n",
    "from src import utils\n",
    "from src.outcomes import plurality_outcome\n",
    "from src.happiness_level import HappinessLevel\n",
    "from src.strategic_voting_risk import StrategicVoting\n",
    "import os\n",
    "import numpy as np\n",
    "import src.brute_force_coalitions as coalition_evaluator\n",
    "from matplotlib import pyplot as plt"
   ]
  },
  {
   "cell_type": "code",
   "execution_count": 78,
   "metadata": {},
   "outputs": [],
   "source": [
    "path_voting = \"input/voting_result.json\"\n",
    "if \"env\" in os.environ:\n",
    "    if os.environ[\"env\"] == \"docker\":\n",
    "        path_voting = \"/input/voting_result.json\""
   ]
  },
  {
   "cell_type": "code",
   "execution_count": null,
   "metadata": {},
   "outputs": [],
   "source": [
    "voting = utils.read_voting(path_voting, table_name=\"voting8\")\n",
    "print(set(voting[:, 0]))\n",
    "voting_table = voting.to_pandas()\n",
    "voting_table"
   ]
  },
  {
   "cell_type": "code",
   "execution_count": null,
   "metadata": {},
   "outputs": [],
   "source": [
    "from importlib import reload\n",
    "reload(coalition_evaluator)\n",
    "\n",
    "successful_coalitions_plurality = coalition_evaluator.evaluate_coalition_strategic_voting_plurality(voting)\n",
    "# successful_coalitions_for_two = coalition_evaluator.evaluate_coalition_strategic_voting_for_two(voting)\n",
    "# successful_coalitions_veto = coalition_evaluator.evaluate_coalition_strategic_voting_veto(voting)\n",
    "# successful_coalitions_borda = coalition_evaluator.evaluate_coalition_strategic_voting_borda(voting)\n",
    "\n",
    "coalition_evaluator.print_results_coalition_strategic_voting_plurality(successful_coalitions_plurality)\n",
    "# coalition_evaluator.print_results_coalition_strategic_voting_for_two(successful_coalitions_for_two)\n",
    "# coalition_evaluator.print_results_coalition_strategic_voting_veto(successful_coalitions_veto)\n",
    "# coalition_evaluator.print_results_coalition_strategic_voting_borda(successful_coalitions_borda)\n",
    "\n",
    "#For counter strategic voting, run this cell one more time with proper coalitions\n",
    "if len(successful_coalitions_plurality)>0:\n",
    "    voting = successful_coalitions_plurality[0][-1]\n",
    "voting_table = voting.to_pandas()\n",
    "voting_table\n",
    "\n",
    "\n",
    "\n",
    "\n",
    "\n"
   ]
  },
  {
   "cell_type": "code",
   "execution_count": null,
   "metadata": {},
   "outputs": [],
   "source": [
    "from importlib import reload\n",
    "reload(coalition_evaluator)\n",
    "\n",
    "voting_schemes = {\n",
    "    'Plurality': coalition_evaluator.evaluate_coalition_strategic_voting_plurality,\n",
    "    'Voting for Two': coalition_evaluator.evaluate_coalition_strategic_voting_for_two,\n",
    "    'Veto': coalition_evaluator.evaluate_coalition_strategic_voting_veto,\n",
    "    'Borda': coalition_evaluator.evaluate_coalition_strategic_voting_borda\n",
    "}\n",
    "\n",
    "num_trials = 20\n",
    "square_matrix_sizes = range(2, 5)  # From 2x2 to 5x5 matrices\n",
    "\n",
    "for scheme_name, scheme_function in voting_schemes.items():\n",
    "    average_coalitions = []\n",
    "    average_happiness_changes = []\n",
    "    average_member_changes = []\n",
    "    scenarios = []\n",
    "\n",
    "    print(f'Analyzing {scheme_name}...')\n",
    "\n",
    "    for size in square_matrix_sizes:\n",
    "        print(f'Analyzing {size}x{size} matrix...')\n",
    "        statistics = coalition_evaluator.analyze_coalitions(num_trials, [size], [size], scheme_name, scheme_function)\n",
    "        \n",
    "        average_coalitions.append(statistics['average_coalitions'][0])\n",
    "        average_happiness_changes.append(statistics['average_overall_happiness_change'][0])\n",
    "        average_member_changes.append(statistics['average_member_happiness_change'][0])\n",
    "        scenarios.append(f'{size}x{size}')\n",
    "\n",
    "    # Create subplots\n",
    "   \n",
    "\n",
    "# Assuming `scenarios` is your x-axis data\n",
    "# and you have lists for average_coalitions, average_happiness_changes, and average_member_changes\n",
    "fig, axs = plt.subplots(3, 1, figsize=(10, 15))  # 3 rows, 1 column\n",
    "\n",
    "# Plot for average number of coalitions\n",
    "axs[0].plot(scenarios, average_coalitions, marker='o', color='tab:blue', label='Average Number of Coalitions')\n",
    "axs[0].legend(loc=\"upper left\")\n",
    "\n",
    "# Plot for average change in overall happiness\n",
    "axs[1].plot(scenarios, average_happiness_changes, marker='s', color='tab:red', label='Average Change in Overall Happiness')\n",
    "axs[1].legend(loc=\"upper left\")\n",
    "\n",
    "# Plot for average change in coalition member happiness\n",
    "axs[2].plot(scenarios, average_member_changes, marker='^', color='tab:green', label='Average Change in Coalition Member Happiness')\n",
    "axs[2].set_xlabel('Square Matrix Size')\n",
    "axs[2].legend(loc=\"upper left\")\n",
    "\n",
    "plt.tight_layout()\n",
    "plt.show()\n",
    "\n"
   ]
  }
 ],
 "metadata": {
  "kernelspec": {
   "display_name": "Python 3",
   "language": "python",
   "name": "python3"
  },
  "language_info": {
   "codemirror_mode": {
    "name": "ipython",
    "version": 3
   },
   "file_extension": ".py",
   "mimetype": "text/x-python",
   "name": "python",
   "nbconvert_exporter": "python",
   "pygments_lexer": "ipython3",
   "version": "3.11.1"
  }
 },
 "nbformat": 4,
 "nbformat_minor": 2
}
