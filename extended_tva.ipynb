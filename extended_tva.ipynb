{
 "cells": [
  {
   "cell_type": "code",
   "execution_count": 15,
   "metadata": {},
   "outputs": [],
   "source": [
    "import warnings\n",
    "\n",
    "warnings.filterwarnings(\"ignore\")\n",
    "\n",
    "from src import utils\n",
    "from src.outcomes import plurality_outcome\n",
    "from src.happiness_level import HappinessLevel\n",
    "from src.strategic_voting_risk import StrategicVoting\n",
    "import os\n",
    "import numpy as np\n",
    "import src.coalition_evaluator as coalition_evaluator\n",
    "from matplotlib import pyplot as plt"
   ]
  },
  {
   "cell_type": "code",
   "execution_count": 16,
   "metadata": {},
   "outputs": [],
   "source": [
    "path_voting = \"input/voting_result.json\"\n",
    "if \"env\" in os.environ:\n",
    "    if os.environ[\"env\"] == \"docker\":\n",
    "        path_voting = \"/input/voting_result.json\""
   ]
  },
  {
   "cell_type": "code",
   "execution_count": null,
   "metadata": {},
   "outputs": [],
   "source": [
    "voting = utils.read_voting(path_voting, table_name=\"voting10\")\n",
    "voting_table = voting.to_pandas()\n",
    "voting_table"
   ]
  },
  {
   "cell_type": "code",
   "execution_count": null,
   "metadata": {},
   "outputs": [],
   "source": [
    "from importlib import reload\n",
    "reload(coalition_evaluator)\n",
    "successful_coalitions_plurality = coalition_evaluator.evaluate_coalition_strategic_voting_plurality(voting)\n",
    "successful_coalitions_for_two = coalition_evaluator.evaluate_coalition_strategic_voting_for_two(voting)\n",
    "successful_coalitions_veto = coalition_evaluator.evaluate_coalition_strategic_voting_veto(voting)\n",
    "successful_coalitions_borda = coalition_evaluator.evaluate_coalition_strategic_voting_borda(voting)\n",
    "\n",
    "\n",
    "\n",
    "coalition_evaluator.print_results_coalition_strategic_voting_plurality(successful_coalitions_plurality)\n",
    "coalition_evaluator.print_results_coalition_strategic_voting_for_two(successful_coalitions_for_two)\n",
    "coalition_evaluator.print_results_coalition_strategic_voting_veto(successful_coalitions_veto)\n",
    "coalition_evaluator.print_results_coalition_strategic_voting_borda(successful_coalitions_borda)\n",
    "\n"
   ]
  },
  {
   "cell_type": "code",
   "execution_count": null,
   "metadata": {},
   "outputs": [],
   "source": [
    "from importlib import reload\n",
    "reload(coalition_evaluator)\n",
    "\n",
    "voting_schemes = {\n",
    "    'Plurality': coalition_evaluator.evaluate_coalition_strategic_voting_plurality,\n",
    "    # 'Voting for Two': coalition_evaluator.evaluate_coalition_strategic_voting_for_two,\n",
    "    # 'Veto': coalition_evaluator.evaluate_coalition_strategic_voting_veto,\n",
    "    # 'Borda': coalition_evaluator.evaluate_coalition_strategic_voting_borda\n",
    "}\n",
    "\n",
    "num_trials = 30\n",
    "square_matrix_sizes = range(2, 15)  # From 2x2 to 5x5 matrices\n",
    "\n",
    "for scheme_name, scheme_function in voting_schemes.items():\n",
    "    average_coalitions = []\n",
    "    average_happiness_changes = []\n",
    "    scenarios = []\n",
    "\n",
    "    print(f'Analyzing {scheme_name}...')\n",
    "\n",
    "    for size in square_matrix_sizes:\n",
    "        print(f'Analyzing {size}x{size} matrix...')\n",
    "        statistics = coalition_evaluator.analyze_coalitions(num_trials, [size], [size], scheme_name, scheme_function)\n",
    "        \n",
    "        average_coalitions.append(statistics['average_coalitions'][0])\n",
    "        average_happiness_changes.append(statistics['average_overall_happiness_change'][0])\n",
    "        scenarios.append(f'{size}x{size}')\n",
    "\n",
    "    # Create subplots\n",
    "    fig, ax1 = plt.subplots(figsize=(14, 8))\n",
    "\n",
    "    # Plot for average number of coalitions\n",
    "    ax1.set_xlabel('Square Matrix Size')\n",
    "    ax1.set_ylabel('Average Number of Coalitions', color='tab:blue')\n",
    "    ax1.plot(scenarios, average_coalitions, marker='o', color='tab:blue', label='Average Number of Coalitions')\n",
    "    ax1.tick_params(axis='y', labelcolor='tab:blue')\n",
    "\n",
    "    # Instantiate a second y-axis to plot average change in overall happiness\n",
    "    ax2 = ax1.twinx()  \n",
    "    ax2.set_ylabel('Average Change in Overall Happiness', color='tab:red')\n",
    "    ax2.plot(scenarios, average_happiness_changes, marker='s', color='tab:red', label='Average Change in Overall Happiness')\n",
    "    ax2.tick_params(axis='y', labelcolor='tab:red')\n",
    "\n",
    "    # Title and customizations\n",
    "    plt.title(f'Analysis of Strategic Voting Outcomes for {scheme_name}')\n",
    "    fig.tight_layout()\n",
    "    plt.xticks(rotation=45, fontsize=10)\n",
    "    plt.show()\n"
   ]
  }
 ],
 "metadata": {
  "kernelspec": {
   "display_name": "Python 3",
   "language": "python",
   "name": "python3"
  },
  "language_info": {
   "codemirror_mode": {
    "name": "ipython",
    "version": 3
   },
   "file_extension": ".py",
   "mimetype": "text/x-python",
   "name": "python",
   "nbconvert_exporter": "python",
   "pygments_lexer": "ipython3",
   "version": "3.11.1"
  }
 },
 "nbformat": 4,
 "nbformat_minor": 2
}
