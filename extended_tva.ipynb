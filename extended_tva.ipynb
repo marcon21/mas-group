{
 "cells": [
  {
   "cell_type": "code",
   "execution_count": 1,
   "metadata": {},
   "outputs": [],
   "source": [
    "import warnings\n",
    "\n",
    "warnings.filterwarnings(\"ignore\")\n",
    "\n",
    "from src import utils\n",
    "from src.outcomes import plurality_outcome\n",
    "from src.happiness_level import HappinessLevel\n",
    "from src.strategic_voting_risk import StrategicVoting\n",
    "import os\n",
    "import numpy as np\n",
    "import src.coalition_evaluator as coalition_evaluator\n",
    "from matplotlib import pyplot as plt"
   ]
  },
  {
   "cell_type": "code",
   "execution_count": 2,
   "metadata": {},
   "outputs": [],
   "source": [
    "path_voting = \"input/voting_result.json\"\n",
    "if \"env\" in os.environ:\n",
    "    if os.environ[\"env\"] == \"docker\":\n",
    "        path_voting = \"/input/voting_result.json\""
   ]
  },
  {
   "cell_type": "code",
   "execution_count": 6,
   "metadata": {},
   "outputs": [
    {
     "data": {
      "text/html": [
       "<div>\n",
       "<style scoped>\n",
       "    .dataframe tbody tr th:only-of-type {\n",
       "        vertical-align: middle;\n",
       "    }\n",
       "\n",
       "    .dataframe tbody tr th {\n",
       "        vertical-align: top;\n",
       "    }\n",
       "\n",
       "    .dataframe thead th {\n",
       "        text-align: right;\n",
       "    }\n",
       "</style>\n",
       "<table border=\"1\" class=\"dataframe\">\n",
       "  <thead>\n",
       "    <tr style=\"text-align: right;\">\n",
       "      <th></th>\n",
       "      <th>voter_0</th>\n",
       "      <th>voter_1</th>\n",
       "      <th>voter_2</th>\n",
       "      <th>voter_3</th>\n",
       "      <th>voter_4</th>\n",
       "      <th>voter_5</th>\n",
       "    </tr>\n",
       "  </thead>\n",
       "  <tbody>\n",
       "    <tr>\n",
       "      <th>preference_0</th>\n",
       "      <td>C</td>\n",
       "      <td>B</td>\n",
       "      <td>C</td>\n",
       "      <td>C</td>\n",
       "      <td>B</td>\n",
       "      <td>A</td>\n",
       "    </tr>\n",
       "    <tr>\n",
       "      <th>preference_1</th>\n",
       "      <td>A</td>\n",
       "      <td>D</td>\n",
       "      <td>D</td>\n",
       "      <td>D</td>\n",
       "      <td>A</td>\n",
       "      <td>D</td>\n",
       "    </tr>\n",
       "    <tr>\n",
       "      <th>preference_2</th>\n",
       "      <td>D</td>\n",
       "      <td>C</td>\n",
       "      <td>A</td>\n",
       "      <td>B</td>\n",
       "      <td>D</td>\n",
       "      <td>B</td>\n",
       "    </tr>\n",
       "    <tr>\n",
       "      <th>preference_3</th>\n",
       "      <td>B</td>\n",
       "      <td>A</td>\n",
       "      <td>B</td>\n",
       "      <td>A</td>\n",
       "      <td>C</td>\n",
       "      <td>C</td>\n",
       "    </tr>\n",
       "  </tbody>\n",
       "</table>\n",
       "</div>"
      ],
      "text/plain": [
       "             voter_0 voter_1 voter_2 voter_3 voter_4 voter_5\n",
       "preference_0       C       B       C       C       B       A\n",
       "preference_1       A       D       D       D       A       D\n",
       "preference_2       D       C       A       B       D       B\n",
       "preference_3       B       A       B       A       C       C"
      ]
     },
     "execution_count": 6,
     "metadata": {},
     "output_type": "execute_result"
    }
   ],
   "source": [
    "voting = utils.read_voting(path_voting, table_name=\"voting5\")\n",
    "voting_table = voting.to_pandas()\n",
    "voting_table"
   ]
  },
  {
   "cell_type": "code",
   "execution_count": 8,
   "metadata": {},
   "outputs": [
    {
     "name": "stdout",
     "output_type": "stream",
     "text": [
      "\n",
      "Summary of Successful Coalitions under Plurality Voting:\n",
      "\n",
      "Successful Coalition: Voter_5, Strategic Vote: B, Original Winner: C, New Winner: B\n",
      "Voter 5: Happiness Change = 0.410\n",
      "Overall Happiness Change: -0.590\n",
      "\n",
      "\n",
      "\n",
      "Summary of Successful Coalitions and their Strategic Votes (Voting for Two):\n",
      "\n",
      "Successful Coalition: Voter_5\n",
      "Strategic Votes Changes: Voter_5: ('A', 'B')\n",
      "Original Winner: D, New Winner: A\n",
      "Changes in Happiness Levels for Coalition Members: Voter_5: 0.410\n",
      "\n",
      "Overall Happiness Change: -0.590\n",
      "\n",
      "\n",
      "Summary of Successful Coalitions and their Strategic Votes for VETO scheme:\n"
     ]
    }
   ],
   "source": [
    "from importlib import reload\n",
    "reload(coalition_evaluator)\n",
    "successful_coalitions_plurality = coalition_evaluator.evaluate_coalition_strategic_voting_plurality(voting)\n",
    "successful_coalitions_for_two = coalition_evaluator.evaluate_coalition_strategic_voting_for_two(voting)\n",
    "successful_coalitions_veto = coalition_evaluator.evaluate_coalition_strategic_voting_veto(voting)\n",
    "successful_coalitions_borda = coalition_evaluator.evaluate_coalition_strategic_voting_borda(voting)\n",
    "\n",
    "\n",
    "\n",
    "coalition_evaluator.print_results_coalition_strategic_voting_plurality(successful_coalitions_plurality)\n",
    "coalition_evaluator.print_results_coalition_strategic_voting_for_two(successful_coalitions_for_two)\n",
    "coalition_evaluator.print_results_coalition_strategic_voting_veto(successful_coalitions_veto)\n",
    "coalition_evaluator.print_results_coalition_strategic_voting_borda(successful_coalitions_borda)\n",
    "\n"
   ]
  },
  {
   "cell_type": "code",
   "execution_count": 9,
   "metadata": {},
   "outputs": [
    {
     "name": "stdout",
     "output_type": "stream",
     "text": [
      "Analyzing Veto...\n",
      "Analyzing 2x2 matrix...\n",
      "Analyzing 3x3 matrix...\n",
      "Analyzing 4x4 matrix...\n",
      "Analyzing 5x5 matrix...\n",
      "Analyzing 6x6 matrix...\n",
      "Analyzing 7x7 matrix...\n"
     ]
    },
    {
     "ename": "KeyboardInterrupt",
     "evalue": "",
     "output_type": "error",
     "traceback": [
      "\u001b[0;31m---------------------------------------------------------------------------\u001b[0m",
      "\u001b[0;31mKeyboardInterrupt\u001b[0m                         Traceback (most recent call last)",
      "Cell \u001b[0;32mIn[9], line 23\u001b[0m\n\u001b[1;32m     21\u001b[0m \u001b[38;5;28;01mfor\u001b[39;00m size \u001b[38;5;129;01min\u001b[39;00m square_matrix_sizes:\n\u001b[1;32m     22\u001b[0m     \u001b[38;5;28mprint\u001b[39m(\u001b[38;5;124mf\u001b[39m\u001b[38;5;124m'\u001b[39m\u001b[38;5;124mAnalyzing \u001b[39m\u001b[38;5;132;01m{\u001b[39;00msize\u001b[38;5;132;01m}\u001b[39;00m\u001b[38;5;124mx\u001b[39m\u001b[38;5;132;01m{\u001b[39;00msize\u001b[38;5;132;01m}\u001b[39;00m\u001b[38;5;124m matrix...\u001b[39m\u001b[38;5;124m'\u001b[39m)\n\u001b[0;32m---> 23\u001b[0m     statistics \u001b[38;5;241m=\u001b[39m \u001b[43mcoalition_evaluator\u001b[49m\u001b[38;5;241;43m.\u001b[39;49m\u001b[43manalyze_coalitions\u001b[49m\u001b[43m(\u001b[49m\u001b[43mnum_trials\u001b[49m\u001b[43m,\u001b[49m\u001b[43m \u001b[49m\u001b[43m[\u001b[49m\u001b[43msize\u001b[49m\u001b[43m]\u001b[49m\u001b[43m,\u001b[49m\u001b[43m \u001b[49m\u001b[43m[\u001b[49m\u001b[43msize\u001b[49m\u001b[43m]\u001b[49m\u001b[43m,\u001b[49m\u001b[43m \u001b[49m\u001b[43mscheme_name\u001b[49m\u001b[43m,\u001b[49m\u001b[43m \u001b[49m\u001b[43mscheme_function\u001b[49m\u001b[43m)\u001b[49m\n\u001b[1;32m     25\u001b[0m     average_coalitions\u001b[38;5;241m.\u001b[39mappend(statistics[\u001b[38;5;124m'\u001b[39m\u001b[38;5;124maverage_coalitions\u001b[39m\u001b[38;5;124m'\u001b[39m][\u001b[38;5;241m0\u001b[39m])\n\u001b[1;32m     26\u001b[0m     average_happiness_changes\u001b[38;5;241m.\u001b[39mappend(statistics[\u001b[38;5;124m'\u001b[39m\u001b[38;5;124maverage_overall_happiness_change\u001b[39m\u001b[38;5;124m'\u001b[39m][\u001b[38;5;241m0\u001b[39m])\n",
      "File \u001b[0;32m~/Desktop/mas-group/src/coalition_evaluator.py:315\u001b[0m, in \u001b[0;36manalyze_coalitions\u001b[0;34m(n_scenarios, n_voters_list, n_candidates_list, voting_scheme_name, evaluate_function)\u001b[0m\n\u001b[1;32m    313\u001b[0m \u001b[38;5;28;01mfor\u001b[39;00m _ \u001b[38;5;129;01min\u001b[39;00m \u001b[38;5;28mrange\u001b[39m(n_scenarios):\n\u001b[1;32m    314\u001b[0m     voting_array \u001b[38;5;241m=\u001b[39m random_voting(n_voters, n_candidates)\n\u001b[0;32m--> 315\u001b[0m     successful_coalitions \u001b[38;5;241m=\u001b[39m \u001b[43mevaluate_function\u001b[49m\u001b[43m(\u001b[49m\u001b[43mvoting_array\u001b[49m\u001b[43m)\u001b[49m\n\u001b[1;32m    317\u001b[0m     num_coalitions \u001b[38;5;241m=\u001b[39m \u001b[38;5;28mlen\u001b[39m(successful_coalitions)\n\u001b[1;32m    318\u001b[0m     overall_happiness_change \u001b[38;5;241m=\u001b[39m \u001b[38;5;28msum\u001b[39m(data[\u001b[38;5;241m5\u001b[39m] \u001b[38;5;28;01mfor\u001b[39;00m data \u001b[38;5;129;01min\u001b[39;00m successful_coalitions) \u001b[38;5;241m/\u001b[39m \u001b[38;5;28mlen\u001b[39m(successful_coalitions) \u001b[38;5;28;01mif\u001b[39;00m successful_coalitions \u001b[38;5;28;01melse\u001b[39;00m \u001b[38;5;241m0\u001b[39m\n",
      "File \u001b[0;32m~/Desktop/mas-group/src/coalition_evaluator.py:127\u001b[0m, in \u001b[0;36mevaluate_coalition_strategic_voting_veto\u001b[0;34m(voting_data)\u001b[0m\n\u001b[1;32m    124\u001b[0m         new_voting_array[:, voter] \u001b[38;5;241m=\u001b[39m updated_preferences\n\u001b[1;32m    125\u001b[0m         strategic_changes[voter] \u001b[38;5;241m=\u001b[39m new_least\n\u001b[0;32m--> 127\u001b[0m new_winner \u001b[38;5;241m=\u001b[39m \u001b[43mveto_outcome\u001b[49m\u001b[43m(\u001b[49m\u001b[43mnew_voting_array\u001b[49m\u001b[43m)\u001b[49m\u001b[38;5;241m.\u001b[39mwinner\n\u001b[1;32m    128\u001b[0m \u001b[38;5;28;01mif\u001b[39;00m new_winner \u001b[38;5;241m!=\u001b[39m original_winner:\n\u001b[1;32m    129\u001b[0m     temp_happiness \u001b[38;5;241m=\u001b[39m HappinessLevel(voting_data, new_winner)\n",
      "File \u001b[0;32m~/Desktop/mas-group/src/outcomes.py:46\u001b[0m, in \u001b[0;36moutcome_wrapper.<locals>.wrapper\u001b[0;34m(preferences, *args, **kwargs)\u001b[0m\n\u001b[1;32m     43\u001b[0m \u001b[38;5;28;01melse\u001b[39;00m:\n\u001b[1;32m     44\u001b[0m     s \u001b[38;5;241m=\u001b[39m preferences\n\u001b[0;32m---> 46\u001b[0m res \u001b[38;5;241m=\u001b[39m \u001b[43mfunc\u001b[49m\u001b[43m(\u001b[49m\u001b[43ms\u001b[49m\u001b[43m,\u001b[49m\u001b[43m \u001b[49m\u001b[38;5;241;43m*\u001b[39;49m\u001b[43margs\u001b[49m\u001b[43m,\u001b[49m\u001b[43m \u001b[49m\u001b[38;5;241;43m*\u001b[39;49m\u001b[38;5;241;43m*\u001b[39;49m\u001b[43mkwargs\u001b[49m\u001b[43m)\u001b[49m\n\u001b[1;32m     48\u001b[0m \u001b[38;5;66;03m# Adds all the remaining alternatives with 0 votes\u001b[39;00m\n\u001b[1;32m     49\u001b[0m \u001b[38;5;28;01mif\u001b[39;00m \u001b[38;5;28misinstance\u001b[39m(res, \u001b[38;5;28mdict\u001b[39m):\n",
      "File \u001b[0;32m~/Desktop/mas-group/src/outcomes.py:98\u001b[0m, in \u001b[0;36mveto_outcome\u001b[0;34m(preferences)\u001b[0m\n\u001b[1;32m     94\u001b[0m \u001b[38;5;250m\u001b[39m\u001b[38;5;124;03m\"\"\"\u001b[39;00m\n\u001b[1;32m     95\u001b[0m \u001b[38;5;124;03mVoting for veto\u001b[39;00m\n\u001b[1;32m     96\u001b[0m \u001b[38;5;124;03m\"\"\"\u001b[39;00m\n\u001b[1;32m     97\u001b[0m last_prefs \u001b[38;5;241m=\u001b[39m preferences[:\u001b[38;5;241m-\u001b[39m\u001b[38;5;241m1\u001b[39m, :]\n\u001b[0;32m---> 98\u001b[0m alternatives, votes \u001b[38;5;241m=\u001b[39m \u001b[43mnp\u001b[49m\u001b[38;5;241;43m.\u001b[39;49m\u001b[43munique\u001b[49m\u001b[43m(\u001b[49m\u001b[43mlast_prefs\u001b[49m\u001b[43m,\u001b[49m\u001b[43m \u001b[49m\u001b[43mreturn_counts\u001b[49m\u001b[38;5;241;43m=\u001b[39;49m\u001b[38;5;28;43;01mTrue\u001b[39;49;00m\u001b[43m)\u001b[49m\n\u001b[1;32m     99\u001b[0m results \u001b[38;5;241m=\u001b[39m Result(\u001b[38;5;28mzip\u001b[39m(alternatives, votes))\n\u001b[1;32m    101\u001b[0m \u001b[38;5;28;01mreturn\u001b[39;00m results\n",
      "File \u001b[0;32m/opt/homebrew/lib/python3.11/site-packages/numpy/lib/arraysetops.py:274\u001b[0m, in \u001b[0;36munique\u001b[0;34m(ar, return_index, return_inverse, return_counts, axis, equal_nan)\u001b[0m\n\u001b[1;32m    272\u001b[0m ar \u001b[38;5;241m=\u001b[39m np\u001b[38;5;241m.\u001b[39masanyarray(ar)\n\u001b[1;32m    273\u001b[0m \u001b[38;5;28;01mif\u001b[39;00m axis \u001b[38;5;129;01mis\u001b[39;00m \u001b[38;5;28;01mNone\u001b[39;00m:\n\u001b[0;32m--> 274\u001b[0m     ret \u001b[38;5;241m=\u001b[39m \u001b[43m_unique1d\u001b[49m\u001b[43m(\u001b[49m\u001b[43mar\u001b[49m\u001b[43m,\u001b[49m\u001b[43m \u001b[49m\u001b[43mreturn_index\u001b[49m\u001b[43m,\u001b[49m\u001b[43m \u001b[49m\u001b[43mreturn_inverse\u001b[49m\u001b[43m,\u001b[49m\u001b[43m \u001b[49m\u001b[43mreturn_counts\u001b[49m\u001b[43m,\u001b[49m\u001b[43m \u001b[49m\n\u001b[1;32m    275\u001b[0m \u001b[43m                    \u001b[49m\u001b[43mequal_nan\u001b[49m\u001b[38;5;241;43m=\u001b[39;49m\u001b[43mequal_nan\u001b[49m\u001b[43m)\u001b[49m\n\u001b[1;32m    276\u001b[0m     \u001b[38;5;28;01mreturn\u001b[39;00m _unpack_tuple(ret)\n\u001b[1;32m    278\u001b[0m \u001b[38;5;66;03m# axis was specified and not None\u001b[39;00m\n",
      "File \u001b[0;32m/opt/homebrew/lib/python3.11/site-packages/numpy/lib/arraysetops.py:363\u001b[0m, in \u001b[0;36m_unique1d\u001b[0;34m(ar, return_index, return_inverse, return_counts, equal_nan)\u001b[0m\n\u001b[1;32m    361\u001b[0m     ret \u001b[38;5;241m+\u001b[39m\u001b[38;5;241m=\u001b[39m (inv_idx,)\n\u001b[1;32m    362\u001b[0m \u001b[38;5;28;01mif\u001b[39;00m return_counts:\n\u001b[0;32m--> 363\u001b[0m     idx \u001b[38;5;241m=\u001b[39m np\u001b[38;5;241m.\u001b[39mconcatenate(\u001b[43mnp\u001b[49m\u001b[38;5;241;43m.\u001b[39;49m\u001b[43mnonzero\u001b[49m\u001b[43m(\u001b[49m\u001b[43mmask\u001b[49m\u001b[43m)\u001b[49m \u001b[38;5;241m+\u001b[39m ([mask\u001b[38;5;241m.\u001b[39msize],))\n\u001b[1;32m    364\u001b[0m     ret \u001b[38;5;241m+\u001b[39m\u001b[38;5;241m=\u001b[39m (np\u001b[38;5;241m.\u001b[39mdiff(idx),)\n\u001b[1;32m    365\u001b[0m \u001b[38;5;28;01mreturn\u001b[39;00m ret\n",
      "File \u001b[0;32m/opt/homebrew/lib/python3.11/site-packages/numpy/core/fromnumeric.py:1877\u001b[0m, in \u001b[0;36m_nonzero_dispatcher\u001b[0;34m(a)\u001b[0m\n\u001b[1;32m   1873\u001b[0m     \u001b[38;5;28;01melse\u001b[39;00m:\n\u001b[1;32m   1874\u001b[0m         \u001b[38;5;28;01mreturn\u001b[39;00m asanyarray(a)\u001b[38;5;241m.\u001b[39mravel(order\u001b[38;5;241m=\u001b[39morder)\n\u001b[0;32m-> 1877\u001b[0m \u001b[38;5;28;01mdef\u001b[39;00m \u001b[38;5;21m_nonzero_dispatcher\u001b[39m(a):\n\u001b[1;32m   1878\u001b[0m     \u001b[38;5;28;01mreturn\u001b[39;00m (a,)\n\u001b[1;32m   1881\u001b[0m \u001b[38;5;129m@array_function_dispatch\u001b[39m(_nonzero_dispatcher)\n\u001b[1;32m   1882\u001b[0m \u001b[38;5;28;01mdef\u001b[39;00m \u001b[38;5;21mnonzero\u001b[39m(a):\n",
      "\u001b[0;31mKeyboardInterrupt\u001b[0m: "
     ]
    }
   ],
   "source": [
    "from importlib import reload\n",
    "reload(coalition_evaluator)\n",
    "\n",
    "voting_schemes = {\n",
    "    # 'Plurality': coalition_evaluator.evaluate_coalition_strategic_voting_plurality,\n",
    "    # 'Voting for Two': coalition_evaluator.evaluate_coalition_strategic_voting_for_two,\n",
    "    'Veto': coalition_evaluator.evaluate_coalition_strategic_voting_veto,\n",
    "    # 'Borda': coalition_evaluator.evaluate_coalition_strategic_voting_borda\n",
    "}\n",
    "\n",
    "num_trials = 30\n",
    "square_matrix_sizes = range(2, 7)  # From 2x2 to 5x5 matrices\n",
    "\n",
    "for scheme_name, scheme_function in voting_schemes.items():\n",
    "    average_coalitions = []\n",
    "    average_happiness_changes = []\n",
    "    scenarios = []\n",
    "\n",
    "    print(f'Analyzing {scheme_name}...')\n",
    "\n",
    "    for size in square_matrix_sizes:\n",
    "        print(f'Analyzing {size}x{size} matrix...')\n",
    "        statistics = coalition_evaluator.analyze_coalitions(num_trials, [size], [size], scheme_name, scheme_function)\n",
    "        \n",
    "        average_coalitions.append(statistics['average_coalitions'][0])\n",
    "        average_happiness_changes.append(statistics['average_overall_happiness_change'][0])\n",
    "        scenarios.append(f'{size}x{size}')\n",
    "\n",
    "    # Create subplots\n",
    "    fig, ax1 = plt.subplots(figsize=(14, 8))\n",
    "\n",
    "    # Plot for average number of coalitions\n",
    "    ax1.set_xlabel('Square Matrix Size')\n",
    "    ax1.set_ylabel('Average Number of Coalitions', color='tab:blue')\n",
    "    ax1.plot(scenarios, average_coalitions, marker='o', color='tab:blue', label='Average Number of Coalitions')\n",
    "    ax1.tick_params(axis='y', labelcolor='tab:blue')\n",
    "\n",
    "    # Instantiate a second y-axis to plot average change in overall happiness\n",
    "    ax2 = ax1.twinx()  \n",
    "    ax2.set_ylabel('Average Change in Overall Happiness', color='tab:red')\n",
    "    ax2.plot(scenarios, average_happiness_changes, marker='s', color='tab:red', label='Average Change in Overall Happiness')\n",
    "    ax2.tick_params(axis='y', labelcolor='tab:red')\n",
    "\n",
    "    # Title and customizations\n",
    "    plt.title(f'Analysis of Strategic Voting Outcomes for {scheme_name}')\n",
    "    fig.tight_layout()\n",
    "    plt.xticks(rotation=45, fontsize=10)\n",
    "    plt.show()\n"
   ]
  }
 ],
 "metadata": {
  "kernelspec": {
   "display_name": "Python 3",
   "language": "python",
   "name": "python3"
  },
  "language_info": {
   "codemirror_mode": {
    "name": "ipython",
    "version": 3
   },
   "file_extension": ".py",
   "mimetype": "text/x-python",
   "name": "python",
   "nbconvert_exporter": "python",
   "pygments_lexer": "ipython3",
   "version": "3.11.1"
  }
 },
 "nbformat": 4,
 "nbformat_minor": 2
}
