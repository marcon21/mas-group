{
 "cells": [
  {
   "cell_type": "code",
   "execution_count": 1,
   "metadata": {},
   "outputs": [
    {
     "name": "stderr",
     "output_type": "stream",
     "text": [
      "/var/folders/n7/mscr753j2cv6tdsjb7n5q4kr0000gn/T/ipykernel_44903/366378190.py:5: DeprecationWarning: \n",
      "Pyarrow will become a required dependency of pandas in the next major release of pandas (pandas 3.0),\n",
      "(to allow more performant data types, such as the Arrow string type, and better interoperability with other libraries)\n",
      "but was not found to be installed on your system.\n",
      "If this would cause problems for you,\n",
      "please provide us feedback at https://github.com/pandas-dev/pandas/issues/54466\n",
      "        \n",
      "  import pandas as pd\n"
     ]
    }
   ],
   "source": [
    "import numpy as np\n",
    "from typing import Callable\n",
    "from itertools import permutations\n",
    "from numba import prange\n",
    "import pandas as pd\n",
    "from collections import Counter\n",
    "import matplotlib.pyplot as plt\n",
    "import timeit\n",
    "from joblib import Parallel, delayed\n",
    "from src.optimized_code import compute_risk,plurality_outcome_op,for_two_outcome_op, borda_outcome_op,veto_outcome_op, happiness_level\n",
    "from src.utils import read_voting\n",
    "import os\n",
    "from src.outcomes import all_schemas_outcomes\n",
    "from src.happiness_level import HappinessLevel\n",
    "from src.utils import VotingSchemas\n",
    "from src.strategic_voting_risk import StrategicVoting\n",
    "from src.outcomes import plurality_outcome, for_two_outcome, veto_outcome, borda_outcome"
   ]
  },
  {
   "cell_type": "code",
   "execution_count": 2,
   "metadata": {},
   "outputs": [],
   "source": [
    "path_voting = \"input/voting_result.json\"\n",
    "if \"env\" in os.environ:\n",
    "    if os.environ[\"env\"] == \"docker\":\n",
    "        path_voting = \"/input/voting_result.json\"\n",
    "        \n",
    "voting = read_voting(path_voting, table_name=\"six_candidates\")"
   ]
  },
  {
   "cell_type": "code",
   "execution_count": 4,
   "metadata": {},
   "outputs": [
    {
     "name": "stdout",
     "output_type": "stream",
     "text": [
      "18.8 µs ± 4.62 µs per loop (mean ± std. dev. of 7 runs, 1,000 loops each)\n",
      "7.65 µs ± 36.1 ns per loop (mean ± std. dev. of 7 runs, 100,000 loops each)\n",
      "115 µs ± 407 ns per loop (mean ± std. dev. of 7 runs, 1,000 loops each)\n",
      "139 µs ± 443 ns per loop (mean ± std. dev. of 7 runs, 1,000 loops each)\n",
      "16.4 µs ± 186 ns per loop (mean ± std. dev. of 7 runs, 1,000 loops each)\n",
      "30.5 µs ± 148 ns per loop (mean ± std. dev. of 7 runs, 1,000 loops each)\n",
      "25.1 µs ± 154 ns per loop (mean ± std. dev. of 7 runs, 1,000 loops each)\n",
      "9.21 µs ± 381 ns per loop (mean ± std. dev. of 7 runs, 1,000 loops each)\n"
     ]
    }
   ],
   "source": [
    "%timeit -n 1000 plurality_outcome(voting).winner\n",
    "%timeit plurality_outcome_op(voting)\n",
    "\n",
    "%timeit -n 1000 borda_outcome(voting).winner\n",
    "%timeit -n 1000 borda_outcome_op(voting)\n",
    "\n",
    "%timeit -n 1000 veto_outcome(voting).winner\n",
    "%timeit -n 1000 veto_outcome_op(voting)\n",
    "\n",
    "%timeit -n 1000 for_two_outcome(voting).winner\n",
    "%timeit -n 1000 for_two_outcome_op(voting)"
   ]
  },
  {
   "cell_type": "code",
   "execution_count": 3,
   "metadata": {},
   "outputs": [
    {
     "name": "stdout",
     "output_type": "stream",
     "text": [
      "211 µs ± 13.1 µs per loop (mean ± std. dev. of 7 runs, 1,000 loops each)\n",
      "211 µs ± 1.19 µs per loop (mean ± std. dev. of 7 runs, 1,000 loops each)\n",
      "303 µs ± 2.09 µs per loop (mean ± std. dev. of 7 runs, 1,000 loops each)\n",
      "201 µs ± 1.52 µs per loop (mean ± std. dev. of 7 runs, 1,000 loops each)\n",
      "428 µs ± 3.75 µs per loop (mean ± std. dev. of 7 runs, 100 loops each)\n",
      "500 µs ± 17.4 µs per loop (mean ± std. dev. of 7 runs, 100 loops each)\n",
      "1.56 ms ± 6.35 µs per loop (mean ± std. dev. of 7 runs, 100 loops each)\n",
      "6.91 ms ± 17 µs per loop (mean ± std. dev. of 7 runs, 100 loops each)\n"
     ]
    }
   ],
   "source": [
    "%timeit -n 1000 HappinessLevel(voting,plurality_outcome(voting),\"PLURALITY\").run().voter\n",
    "\n",
    "%timeit -n 1000 HappinessLevel(voting,for_two_outcome(voting),\"FOR TWO\").run().voter\n",
    "\n",
    "%timeit -n 1000 HappinessLevel(voting,borda_outcome(voting),\"BORDA\").run().voter\n",
    "\n",
    "%timeit -n 1000 HappinessLevel(voting,veto_outcome(voting),\"VETO\").run().voter\n",
    "\n",
    "%timeit -n 100 for voter in range(voting.shape[1]): happiness_level(voting, voter, plurality_outcome_op(voting))\n",
    "\n",
    "%timeit -n 100 for voter in range(voting.shape[1]): happiness_level(voting, voter, for_two_outcome_op(voting))\n",
    "\n",
    "%timeit -n 100 for voter in range(voting.shape[1]): happiness_level(voting, voter, veto_outcome_op(voting))\n",
    "\n",
    "%timeit -n 100 for voter in range(voting.shape[1]): happiness_level(voting, voter, borda_outcome_op(voting))"
   ]
  },
  {
   "cell_type": "code",
   "execution_count": null,
   "metadata": {},
   "outputs": [
    {
     "name": "stderr",
     "output_type": "stream",
     "text": [
      "UsageError: Line magic function `%%timeit` not found.\n"
     ]
    }
   ],
   "source": [
    "\n"
   ]
  },
  {
   "cell_type": "code",
   "execution_count": null,
   "metadata": {},
   "outputs": [
    {
     "name": "stdout",
     "output_type": "stream",
     "text": [
      "ok\n",
      "CPU times: user 15.8 ms, sys: 908 µs, total: 16.7 ms\n",
      "Wall time: 16.1 ms\n"
     ]
    }
   ],
   "source": [
    "%%time\n",
    "hap = np.zeros(voting.shape[1])\n",
    "\n",
    "    \n",
    "if np.array_equal(bh,hap):\n",
    "    print(\"ok\")\n",
    "else:\n",
    "    print(\"no\")"
   ]
  },
  {
   "cell_type": "code",
   "execution_count": null,
   "metadata": {},
   "outputs": [
    {
     "name": "stdout",
     "output_type": "stream",
     "text": [
      "ok\n",
      "CPU times: user 1.57 ms, sys: 877 µs, total: 2.45 ms\n",
      "Wall time: 1.79 ms\n"
     ]
    }
   ],
   "source": [
    "%%time\n",
    "hap = np.zeros(voting.shape[1])\n",
    "\n",
    "    \n",
    "if np.array_equal(f2h,hap):\n",
    "    print(\"ok\")\n",
    "else:\n",
    "    print(\"no\")"
   ]
  },
  {
   "cell_type": "code",
   "execution_count": null,
   "metadata": {},
   "outputs": [
    {
     "name": "stdout",
     "output_type": "stream",
     "text": [
      "ok\n",
      "CPU times: user 3.7 ms, sys: 115 µs, total: 3.82 ms\n",
      "Wall time: 3.9 ms\n"
     ]
    }
   ],
   "source": [
    "%%time\n",
    "hap = np.zeros(voting.shape[1])\n",
    "\n",
    "    \n",
    "if np.array_equal(vh,hap):\n",
    "    print(\"ok\")\n",
    "else:\n",
    "    print(\"no\")"
   ]
  },
  {
   "cell_type": "code",
   "execution_count": null,
   "metadata": {},
   "outputs": [
    {
     "ename": "TypingError",
     "evalue": "Failed in nopython mode pipeline (step: nopython frontend)\nnon-precise type pyobject\nDuring: typing of argument at /Users/macbook/Desktop/mas-group-1/src/optimized_code.py (37)\n\nFile \"src/optimized_code.py\", line 37:\ndef borda_outcome_op(preferences: np.ndarray) -> int:\n    <source elided>\n\n@jit(nopython=True)\n^ \n\nThis error may have been caused by the following argument(s):\n- argument 2: Cannot determine Numba type of <class 'src.outcomes.Result'>\n",
     "output_type": "error",
     "traceback": [
      "\u001b[0;31m---------------------------------------------------------------------------\u001b[0m",
      "\u001b[0;31mTypingError\u001b[0m                               Traceback (most recent call last)",
      "File \u001b[0;32m<timed eval>:1\u001b[0m\n",
      "File \u001b[0;32m~/Desktop/mas-group-1/src/optimized_code.py:134\u001b[0m, in \u001b[0;36mcompute_risk\u001b[0;34m(preferences, schema_outcome_f)\u001b[0m\n\u001b[1;32m    123\u001b[0m \u001b[38;5;250m\u001b[39m\u001b[38;5;124;03m\"\"\"\u001b[39;00m\n\u001b[1;32m    124\u001b[0m \u001b[38;5;124;03mCompute the average risk for all voters.\u001b[39;00m\n\u001b[1;32m    125\u001b[0m \n\u001b[0;32m   (...)\u001b[0m\n\u001b[1;32m    131\u001b[0m \u001b[38;5;124;03m    float: The average risk for all voters.\u001b[39;00m\n\u001b[1;32m    132\u001b[0m \u001b[38;5;124;03m\"\"\"\u001b[39;00m\n\u001b[1;32m    133\u001b[0m result \u001b[38;5;241m=\u001b[39m schema_outcome_f(preferences)\n\u001b[0;32m--> 134\u001b[0m initial_happinesses \u001b[38;5;241m=\u001b[39m np\u001b[38;5;241m.\u001b[39marray([happiness_level(preferences, voter, result) \u001b[38;5;28;01mfor\u001b[39;00m voter \u001b[38;5;129;01min\u001b[39;00m \u001b[38;5;28mrange\u001b[39m(preferences\u001b[38;5;241m.\u001b[39mshape[\u001b[38;5;241m1\u001b[39m])])\n\u001b[1;32m    135\u001b[0m total_risk \u001b[38;5;241m=\u001b[39m \u001b[38;5;28msum\u001b[39m(Parallel(n_jobs\u001b[38;5;241m=\u001b[39m\u001b[38;5;241m-\u001b[39m\u001b[38;5;241m1\u001b[39m)(delayed(compute_voter_risk)(preferences, result, initial_happinesses, i, schema_outcome_f) \u001b[38;5;28;01mfor\u001b[39;00m i \u001b[38;5;129;01min\u001b[39;00m \u001b[38;5;28mrange\u001b[39m(preferences\u001b[38;5;241m.\u001b[39mshape[\u001b[38;5;241m1\u001b[39m])))\n\u001b[1;32m    136\u001b[0m num_unhappy_voters \u001b[38;5;241m=\u001b[39m np\u001b[38;5;241m.\u001b[39mcount_nonzero(initial_happinesses \u001b[38;5;241m!=\u001b[39m \u001b[38;5;241m1\u001b[39m)\n",
      "File \u001b[0;32m~/Desktop/mas-group-1/src/optimized_code.py:134\u001b[0m, in \u001b[0;36m<listcomp>\u001b[0;34m(.0)\u001b[0m\n\u001b[1;32m    123\u001b[0m \u001b[38;5;250m\u001b[39m\u001b[38;5;124;03m\"\"\"\u001b[39;00m\n\u001b[1;32m    124\u001b[0m \u001b[38;5;124;03mCompute the average risk for all voters.\u001b[39;00m\n\u001b[1;32m    125\u001b[0m \n\u001b[0;32m   (...)\u001b[0m\n\u001b[1;32m    131\u001b[0m \u001b[38;5;124;03m    float: The average risk for all voters.\u001b[39;00m\n\u001b[1;32m    132\u001b[0m \u001b[38;5;124;03m\"\"\"\u001b[39;00m\n\u001b[1;32m    133\u001b[0m result \u001b[38;5;241m=\u001b[39m schema_outcome_f(preferences)\n\u001b[0;32m--> 134\u001b[0m initial_happinesses \u001b[38;5;241m=\u001b[39m np\u001b[38;5;241m.\u001b[39marray([\u001b[43mhappiness_level\u001b[49m\u001b[43m(\u001b[49m\u001b[43mpreferences\u001b[49m\u001b[43m,\u001b[49m\u001b[43m \u001b[49m\u001b[43mvoter\u001b[49m\u001b[43m,\u001b[49m\u001b[43m \u001b[49m\u001b[43mresult\u001b[49m\u001b[43m)\u001b[49m \u001b[38;5;28;01mfor\u001b[39;00m voter \u001b[38;5;129;01min\u001b[39;00m \u001b[38;5;28mrange\u001b[39m(preferences\u001b[38;5;241m.\u001b[39mshape[\u001b[38;5;241m1\u001b[39m])])\n\u001b[1;32m    135\u001b[0m total_risk \u001b[38;5;241m=\u001b[39m \u001b[38;5;28msum\u001b[39m(Parallel(n_jobs\u001b[38;5;241m=\u001b[39m\u001b[38;5;241m-\u001b[39m\u001b[38;5;241m1\u001b[39m)(delayed(compute_voter_risk)(preferences, result, initial_happinesses, i, schema_outcome_f) \u001b[38;5;28;01mfor\u001b[39;00m i \u001b[38;5;129;01min\u001b[39;00m \u001b[38;5;28mrange\u001b[39m(preferences\u001b[38;5;241m.\u001b[39mshape[\u001b[38;5;241m1\u001b[39m])))\n\u001b[1;32m    136\u001b[0m num_unhappy_voters \u001b[38;5;241m=\u001b[39m np\u001b[38;5;241m.\u001b[39mcount_nonzero(initial_happinesses \u001b[38;5;241m!=\u001b[39m \u001b[38;5;241m1\u001b[39m)\n",
      "File \u001b[0;32m~/Library/Python/3.9/lib/python/site-packages/numba/core/dispatcher.py:468\u001b[0m, in \u001b[0;36m_DispatcherBase._compile_for_args\u001b[0;34m(self, *args, **kws)\u001b[0m\n\u001b[1;32m    464\u001b[0m         msg \u001b[38;5;241m=\u001b[39m (\u001b[38;5;124mf\u001b[39m\u001b[38;5;124m\"\u001b[39m\u001b[38;5;132;01m{\u001b[39;00m\u001b[38;5;28mstr\u001b[39m(e)\u001b[38;5;241m.\u001b[39mrstrip()\u001b[38;5;132;01m}\u001b[39;00m\u001b[38;5;124m \u001b[39m\u001b[38;5;130;01m\\n\u001b[39;00m\u001b[38;5;130;01m\\n\u001b[39;00m\u001b[38;5;124mThis error may have been caused \u001b[39m\u001b[38;5;124m\"\u001b[39m\n\u001b[1;32m    465\u001b[0m                \u001b[38;5;124mf\u001b[39m\u001b[38;5;124m\"\u001b[39m\u001b[38;5;124mby the following argument(s):\u001b[39m\u001b[38;5;130;01m\\n\u001b[39;00m\u001b[38;5;132;01m{\u001b[39;00margs_str\u001b[38;5;132;01m}\u001b[39;00m\u001b[38;5;130;01m\\n\u001b[39;00m\u001b[38;5;124m\"\u001b[39m)\n\u001b[1;32m    466\u001b[0m         e\u001b[38;5;241m.\u001b[39mpatch_message(msg)\n\u001b[0;32m--> 468\u001b[0m     \u001b[43merror_rewrite\u001b[49m\u001b[43m(\u001b[49m\u001b[43me\u001b[49m\u001b[43m,\u001b[49m\u001b[43m \u001b[49m\u001b[38;5;124;43m'\u001b[39;49m\u001b[38;5;124;43mtyping\u001b[39;49m\u001b[38;5;124;43m'\u001b[39;49m\u001b[43m)\u001b[49m\n\u001b[1;32m    469\u001b[0m \u001b[38;5;28;01mexcept\u001b[39;00m errors\u001b[38;5;241m.\u001b[39mUnsupportedError \u001b[38;5;28;01mas\u001b[39;00m e:\n\u001b[1;32m    470\u001b[0m     \u001b[38;5;66;03m# Something unsupported is present in the user code, add help info\u001b[39;00m\n\u001b[1;32m    471\u001b[0m     error_rewrite(e, \u001b[38;5;124m'\u001b[39m\u001b[38;5;124munsupported_error\u001b[39m\u001b[38;5;124m'\u001b[39m)\n",
      "File \u001b[0;32m~/Library/Python/3.9/lib/python/site-packages/numba/core/dispatcher.py:409\u001b[0m, in \u001b[0;36m_DispatcherBase._compile_for_args.<locals>.error_rewrite\u001b[0;34m(e, issue_type)\u001b[0m\n\u001b[1;32m    407\u001b[0m     \u001b[38;5;28;01mraise\u001b[39;00m e\n\u001b[1;32m    408\u001b[0m \u001b[38;5;28;01melse\u001b[39;00m:\n\u001b[0;32m--> 409\u001b[0m     \u001b[38;5;28;01mraise\u001b[39;00m e\u001b[38;5;241m.\u001b[39mwith_traceback(\u001b[38;5;28;01mNone\u001b[39;00m)\n",
      "\u001b[0;31mTypingError\u001b[0m: Failed in nopython mode pipeline (step: nopython frontend)\nnon-precise type pyobject\nDuring: typing of argument at /Users/macbook/Desktop/mas-group-1/src/optimized_code.py (37)\n\nFile \"src/optimized_code.py\", line 37:\ndef borda_outcome_op(preferences: np.ndarray) -> int:\n    <source elided>\n\n@jit(nopython=True)\n^ \n\nThis error may have been caused by the following argument(s):\n- argument 2: Cannot determine Numba type of <class 'src.outcomes.Result'>\n"
     ]
    },
    {
     "ename": "TypingError",
     "evalue": "Failed in nopython mode pipeline (step: nopython frontend)\nnon-precise type pyobject\nDuring: typing of argument at /Users/macbook/Desktop/mas-group-1/src/optimized_code.py (37)\n\nFile \"src/optimized_code.py\", line 37:\ndef borda_outcome_op(preferences: np.ndarray) -> int:\n    <source elided>\n\n@jit(nopython=True)\n^ \n\nThis error may have been caused by the following argument(s):\n- argument 2: Cannot determine Numba type of <class 'src.outcomes.Result'> \n\nThis error may have been caused by the following argument(s):\n- argument 2: Cannot determine Numba type of <class 'src.outcomes.Result'>\n",
     "output_type": "error",
     "traceback": [
      "\u001b[0;31m---------------------------------------------------------------------------\u001b[0m",
      "\u001b[0;31mTypingError\u001b[0m                               Traceback (most recent call last)",
      "File \u001b[0;32m<timed eval>:1\u001b[0m\n",
      "File \u001b[0;32m~/Desktop/mas-group-1/src/optimized_code.py:134\u001b[0m, in \u001b[0;36mcompute_risk\u001b[0;34m(preferences, schema_outcome_f)\u001b[0m\n\u001b[1;32m    123\u001b[0m \u001b[38;5;250m\u001b[39m\u001b[38;5;124;03m\"\"\"\u001b[39;00m\n\u001b[1;32m    124\u001b[0m \u001b[38;5;124;03mCompute the average risk for all voters.\u001b[39;00m\n\u001b[1;32m    125\u001b[0m \n\u001b[0;32m   (...)\u001b[0m\n\u001b[1;32m    131\u001b[0m \u001b[38;5;124;03m    float: The average risk for all voters.\u001b[39;00m\n\u001b[1;32m    132\u001b[0m \u001b[38;5;124;03m\"\"\"\u001b[39;00m\n\u001b[1;32m    133\u001b[0m result \u001b[38;5;241m=\u001b[39m schema_outcome_f(preferences)\n\u001b[0;32m--> 134\u001b[0m initial_happinesses \u001b[38;5;241m=\u001b[39m np\u001b[38;5;241m.\u001b[39marray([happiness_level(preferences, voter, result) \u001b[38;5;28;01mfor\u001b[39;00m voter \u001b[38;5;129;01min\u001b[39;00m \u001b[38;5;28mrange\u001b[39m(preferences\u001b[38;5;241m.\u001b[39mshape[\u001b[38;5;241m1\u001b[39m])])\n\u001b[1;32m    135\u001b[0m total_risk \u001b[38;5;241m=\u001b[39m \u001b[38;5;28msum\u001b[39m(Parallel(n_jobs\u001b[38;5;241m=\u001b[39m\u001b[38;5;241m-\u001b[39m\u001b[38;5;241m1\u001b[39m)(delayed(compute_voter_risk)(preferences, result, initial_happinesses, i, schema_outcome_f) \u001b[38;5;28;01mfor\u001b[39;00m i \u001b[38;5;129;01min\u001b[39;00m \u001b[38;5;28mrange\u001b[39m(preferences\u001b[38;5;241m.\u001b[39mshape[\u001b[38;5;241m1\u001b[39m])))\n\u001b[1;32m    136\u001b[0m num_unhappy_voters \u001b[38;5;241m=\u001b[39m np\u001b[38;5;241m.\u001b[39mcount_nonzero(initial_happinesses \u001b[38;5;241m!=\u001b[39m \u001b[38;5;241m1\u001b[39m)\n",
      "File \u001b[0;32m~/Desktop/mas-group-1/src/optimized_code.py:134\u001b[0m, in \u001b[0;36m<listcomp>\u001b[0;34m(.0)\u001b[0m\n\u001b[1;32m    123\u001b[0m \u001b[38;5;250m\u001b[39m\u001b[38;5;124;03m\"\"\"\u001b[39;00m\n\u001b[1;32m    124\u001b[0m \u001b[38;5;124;03mCompute the average risk for all voters.\u001b[39;00m\n\u001b[1;32m    125\u001b[0m \n\u001b[0;32m   (...)\u001b[0m\n\u001b[1;32m    131\u001b[0m \u001b[38;5;124;03m    float: The average risk for all voters.\u001b[39;00m\n\u001b[1;32m    132\u001b[0m \u001b[38;5;124;03m\"\"\"\u001b[39;00m\n\u001b[1;32m    133\u001b[0m result \u001b[38;5;241m=\u001b[39m schema_outcome_f(preferences)\n\u001b[0;32m--> 134\u001b[0m initial_happinesses \u001b[38;5;241m=\u001b[39m np\u001b[38;5;241m.\u001b[39marray([\u001b[43mhappiness_level\u001b[49m\u001b[43m(\u001b[49m\u001b[43mpreferences\u001b[49m\u001b[43m,\u001b[49m\u001b[43m \u001b[49m\u001b[43mvoter\u001b[49m\u001b[43m,\u001b[49m\u001b[43m \u001b[49m\u001b[43mresult\u001b[49m\u001b[43m)\u001b[49m \u001b[38;5;28;01mfor\u001b[39;00m voter \u001b[38;5;129;01min\u001b[39;00m \u001b[38;5;28mrange\u001b[39m(preferences\u001b[38;5;241m.\u001b[39mshape[\u001b[38;5;241m1\u001b[39m])])\n\u001b[1;32m    135\u001b[0m total_risk \u001b[38;5;241m=\u001b[39m \u001b[38;5;28msum\u001b[39m(Parallel(n_jobs\u001b[38;5;241m=\u001b[39m\u001b[38;5;241m-\u001b[39m\u001b[38;5;241m1\u001b[39m)(delayed(compute_voter_risk)(preferences, result, initial_happinesses, i, schema_outcome_f) \u001b[38;5;28;01mfor\u001b[39;00m i \u001b[38;5;129;01min\u001b[39;00m \u001b[38;5;28mrange\u001b[39m(preferences\u001b[38;5;241m.\u001b[39mshape[\u001b[38;5;241m1\u001b[39m])))\n\u001b[1;32m    136\u001b[0m num_unhappy_voters \u001b[38;5;241m=\u001b[39m np\u001b[38;5;241m.\u001b[39mcount_nonzero(initial_happinesses \u001b[38;5;241m!=\u001b[39m \u001b[38;5;241m1\u001b[39m)\n",
      "File \u001b[0;32m~/Library/Python/3.9/lib/python/site-packages/numba/core/dispatcher.py:468\u001b[0m, in \u001b[0;36m_DispatcherBase._compile_for_args\u001b[0;34m(self, *args, **kws)\u001b[0m\n\u001b[1;32m    464\u001b[0m         msg \u001b[38;5;241m=\u001b[39m (\u001b[38;5;124mf\u001b[39m\u001b[38;5;124m\"\u001b[39m\u001b[38;5;132;01m{\u001b[39;00m\u001b[38;5;28mstr\u001b[39m(e)\u001b[38;5;241m.\u001b[39mrstrip()\u001b[38;5;132;01m}\u001b[39;00m\u001b[38;5;124m \u001b[39m\u001b[38;5;130;01m\\n\u001b[39;00m\u001b[38;5;130;01m\\n\u001b[39;00m\u001b[38;5;124mThis error may have been caused \u001b[39m\u001b[38;5;124m\"\u001b[39m\n\u001b[1;32m    465\u001b[0m                \u001b[38;5;124mf\u001b[39m\u001b[38;5;124m\"\u001b[39m\u001b[38;5;124mby the following argument(s):\u001b[39m\u001b[38;5;130;01m\\n\u001b[39;00m\u001b[38;5;132;01m{\u001b[39;00margs_str\u001b[38;5;132;01m}\u001b[39;00m\u001b[38;5;130;01m\\n\u001b[39;00m\u001b[38;5;124m\"\u001b[39m)\n\u001b[1;32m    466\u001b[0m         e\u001b[38;5;241m.\u001b[39mpatch_message(msg)\n\u001b[0;32m--> 468\u001b[0m     \u001b[43merror_rewrite\u001b[49m\u001b[43m(\u001b[49m\u001b[43me\u001b[49m\u001b[43m,\u001b[49m\u001b[43m \u001b[49m\u001b[38;5;124;43m'\u001b[39;49m\u001b[38;5;124;43mtyping\u001b[39;49m\u001b[38;5;124;43m'\u001b[39;49m\u001b[43m)\u001b[49m\n\u001b[1;32m    469\u001b[0m \u001b[38;5;28;01mexcept\u001b[39;00m errors\u001b[38;5;241m.\u001b[39mUnsupportedError \u001b[38;5;28;01mas\u001b[39;00m e:\n\u001b[1;32m    470\u001b[0m     \u001b[38;5;66;03m# Something unsupported is present in the user code, add help info\u001b[39;00m\n\u001b[1;32m    471\u001b[0m     error_rewrite(e, \u001b[38;5;124m'\u001b[39m\u001b[38;5;124munsupported_error\u001b[39m\u001b[38;5;124m'\u001b[39m)\n",
      "File \u001b[0;32m~/Library/Python/3.9/lib/python/site-packages/numba/core/dispatcher.py:409\u001b[0m, in \u001b[0;36m_DispatcherBase._compile_for_args.<locals>.error_rewrite\u001b[0;34m(e, issue_type)\u001b[0m\n\u001b[1;32m    407\u001b[0m     \u001b[38;5;28;01mraise\u001b[39;00m e\n\u001b[1;32m    408\u001b[0m \u001b[38;5;28;01melse\u001b[39;00m:\n\u001b[0;32m--> 409\u001b[0m     \u001b[38;5;28;01mraise\u001b[39;00m e\u001b[38;5;241m.\u001b[39mwith_traceback(\u001b[38;5;28;01mNone\u001b[39;00m)\n",
      "\u001b[0;31mTypingError\u001b[0m: Failed in nopython mode pipeline (step: nopython frontend)\nnon-precise type pyobject\nDuring: typing of argument at /Users/macbook/Desktop/mas-group-1/src/optimized_code.py (37)\n\nFile \"src/optimized_code.py\", line 37:\ndef borda_outcome_op(preferences: np.ndarray) -> int:\n    <source elided>\n\n@jit(nopython=True)\n^ \n\nThis error may have been caused by the following argument(s):\n- argument 2: Cannot determine Numba type of <class 'src.outcomes.Result'> \n\nThis error may have been caused by the following argument(s):\n- argument 2: Cannot determine Numba type of <class 'src.outcomes.Result'>\n"
     ]
    },
    {
     "ename": "TypingError",
     "evalue": "Failed in nopython mode pipeline (step: nopython frontend)\nnon-precise type pyobject\nDuring: typing of argument at /Users/macbook/Desktop/mas-group-1/src/optimized_code.py (37)\n\nFile \"src/optimized_code.py\", line 37:\ndef borda_outcome_op(preferences: np.ndarray) -> int:\n    <source elided>\n\n@jit(nopython=True)\n^ \n\nThis error may have been caused by the following argument(s):\n- argument 2: Cannot determine Numba type of <class 'src.outcomes.Result'> \n\nThis error may have been caused by the following argument(s):\n- argument 2: Cannot determine Numba type of <class 'src.outcomes.Result'> \n\nThis error may have been caused by the following argument(s):\n- argument 2: Cannot determine Numba type of <class 'src.outcomes.Result'>\n",
     "output_type": "error",
     "traceback": [
      "\u001b[0;31m---------------------------------------------------------------------------\u001b[0m",
      "\u001b[0;31mTypingError\u001b[0m                               Traceback (most recent call last)",
      "File \u001b[0;32m<timed eval>:1\u001b[0m\n",
      "File \u001b[0;32m~/Desktop/mas-group-1/src/optimized_code.py:134\u001b[0m, in \u001b[0;36mcompute_risk\u001b[0;34m(preferences, schema_outcome_f)\u001b[0m\n\u001b[1;32m    123\u001b[0m \u001b[38;5;250m\u001b[39m\u001b[38;5;124;03m\"\"\"\u001b[39;00m\n\u001b[1;32m    124\u001b[0m \u001b[38;5;124;03mCompute the average risk for all voters.\u001b[39;00m\n\u001b[1;32m    125\u001b[0m \n\u001b[0;32m   (...)\u001b[0m\n\u001b[1;32m    131\u001b[0m \u001b[38;5;124;03m    float: The average risk for all voters.\u001b[39;00m\n\u001b[1;32m    132\u001b[0m \u001b[38;5;124;03m\"\"\"\u001b[39;00m\n\u001b[1;32m    133\u001b[0m result \u001b[38;5;241m=\u001b[39m schema_outcome_f(preferences)\n\u001b[0;32m--> 134\u001b[0m initial_happinesses \u001b[38;5;241m=\u001b[39m np\u001b[38;5;241m.\u001b[39marray([happiness_level(preferences, voter, result) \u001b[38;5;28;01mfor\u001b[39;00m voter \u001b[38;5;129;01min\u001b[39;00m \u001b[38;5;28mrange\u001b[39m(preferences\u001b[38;5;241m.\u001b[39mshape[\u001b[38;5;241m1\u001b[39m])])\n\u001b[1;32m    135\u001b[0m total_risk \u001b[38;5;241m=\u001b[39m \u001b[38;5;28msum\u001b[39m(Parallel(n_jobs\u001b[38;5;241m=\u001b[39m\u001b[38;5;241m-\u001b[39m\u001b[38;5;241m1\u001b[39m)(delayed(compute_voter_risk)(preferences, result, initial_happinesses, i, schema_outcome_f) \u001b[38;5;28;01mfor\u001b[39;00m i \u001b[38;5;129;01min\u001b[39;00m \u001b[38;5;28mrange\u001b[39m(preferences\u001b[38;5;241m.\u001b[39mshape[\u001b[38;5;241m1\u001b[39m])))\n\u001b[1;32m    136\u001b[0m num_unhappy_voters \u001b[38;5;241m=\u001b[39m np\u001b[38;5;241m.\u001b[39mcount_nonzero(initial_happinesses \u001b[38;5;241m!=\u001b[39m \u001b[38;5;241m1\u001b[39m)\n",
      "File \u001b[0;32m~/Desktop/mas-group-1/src/optimized_code.py:134\u001b[0m, in \u001b[0;36m<listcomp>\u001b[0;34m(.0)\u001b[0m\n\u001b[1;32m    123\u001b[0m \u001b[38;5;250m\u001b[39m\u001b[38;5;124;03m\"\"\"\u001b[39;00m\n\u001b[1;32m    124\u001b[0m \u001b[38;5;124;03mCompute the average risk for all voters.\u001b[39;00m\n\u001b[1;32m    125\u001b[0m \n\u001b[0;32m   (...)\u001b[0m\n\u001b[1;32m    131\u001b[0m \u001b[38;5;124;03m    float: The average risk for all voters.\u001b[39;00m\n\u001b[1;32m    132\u001b[0m \u001b[38;5;124;03m\"\"\"\u001b[39;00m\n\u001b[1;32m    133\u001b[0m result \u001b[38;5;241m=\u001b[39m schema_outcome_f(preferences)\n\u001b[0;32m--> 134\u001b[0m initial_happinesses \u001b[38;5;241m=\u001b[39m np\u001b[38;5;241m.\u001b[39marray([\u001b[43mhappiness_level\u001b[49m\u001b[43m(\u001b[49m\u001b[43mpreferences\u001b[49m\u001b[43m,\u001b[49m\u001b[43m \u001b[49m\u001b[43mvoter\u001b[49m\u001b[43m,\u001b[49m\u001b[43m \u001b[49m\u001b[43mresult\u001b[49m\u001b[43m)\u001b[49m \u001b[38;5;28;01mfor\u001b[39;00m voter \u001b[38;5;129;01min\u001b[39;00m \u001b[38;5;28mrange\u001b[39m(preferences\u001b[38;5;241m.\u001b[39mshape[\u001b[38;5;241m1\u001b[39m])])\n\u001b[1;32m    135\u001b[0m total_risk \u001b[38;5;241m=\u001b[39m \u001b[38;5;28msum\u001b[39m(Parallel(n_jobs\u001b[38;5;241m=\u001b[39m\u001b[38;5;241m-\u001b[39m\u001b[38;5;241m1\u001b[39m)(delayed(compute_voter_risk)(preferences, result, initial_happinesses, i, schema_outcome_f) \u001b[38;5;28;01mfor\u001b[39;00m i \u001b[38;5;129;01min\u001b[39;00m \u001b[38;5;28mrange\u001b[39m(preferences\u001b[38;5;241m.\u001b[39mshape[\u001b[38;5;241m1\u001b[39m])))\n\u001b[1;32m    136\u001b[0m num_unhappy_voters \u001b[38;5;241m=\u001b[39m np\u001b[38;5;241m.\u001b[39mcount_nonzero(initial_happinesses \u001b[38;5;241m!=\u001b[39m \u001b[38;5;241m1\u001b[39m)\n",
      "File \u001b[0;32m~/Library/Python/3.9/lib/python/site-packages/numba/core/dispatcher.py:468\u001b[0m, in \u001b[0;36m_DispatcherBase._compile_for_args\u001b[0;34m(self, *args, **kws)\u001b[0m\n\u001b[1;32m    464\u001b[0m         msg \u001b[38;5;241m=\u001b[39m (\u001b[38;5;124mf\u001b[39m\u001b[38;5;124m\"\u001b[39m\u001b[38;5;132;01m{\u001b[39;00m\u001b[38;5;28mstr\u001b[39m(e)\u001b[38;5;241m.\u001b[39mrstrip()\u001b[38;5;132;01m}\u001b[39;00m\u001b[38;5;124m \u001b[39m\u001b[38;5;130;01m\\n\u001b[39;00m\u001b[38;5;130;01m\\n\u001b[39;00m\u001b[38;5;124mThis error may have been caused \u001b[39m\u001b[38;5;124m\"\u001b[39m\n\u001b[1;32m    465\u001b[0m                \u001b[38;5;124mf\u001b[39m\u001b[38;5;124m\"\u001b[39m\u001b[38;5;124mby the following argument(s):\u001b[39m\u001b[38;5;130;01m\\n\u001b[39;00m\u001b[38;5;132;01m{\u001b[39;00margs_str\u001b[38;5;132;01m}\u001b[39;00m\u001b[38;5;130;01m\\n\u001b[39;00m\u001b[38;5;124m\"\u001b[39m)\n\u001b[1;32m    466\u001b[0m         e\u001b[38;5;241m.\u001b[39mpatch_message(msg)\n\u001b[0;32m--> 468\u001b[0m     \u001b[43merror_rewrite\u001b[49m\u001b[43m(\u001b[49m\u001b[43me\u001b[49m\u001b[43m,\u001b[49m\u001b[43m \u001b[49m\u001b[38;5;124;43m'\u001b[39;49m\u001b[38;5;124;43mtyping\u001b[39;49m\u001b[38;5;124;43m'\u001b[39;49m\u001b[43m)\u001b[49m\n\u001b[1;32m    469\u001b[0m \u001b[38;5;28;01mexcept\u001b[39;00m errors\u001b[38;5;241m.\u001b[39mUnsupportedError \u001b[38;5;28;01mas\u001b[39;00m e:\n\u001b[1;32m    470\u001b[0m     \u001b[38;5;66;03m# Something unsupported is present in the user code, add help info\u001b[39;00m\n\u001b[1;32m    471\u001b[0m     error_rewrite(e, \u001b[38;5;124m'\u001b[39m\u001b[38;5;124munsupported_error\u001b[39m\u001b[38;5;124m'\u001b[39m)\n",
      "File \u001b[0;32m~/Library/Python/3.9/lib/python/site-packages/numba/core/dispatcher.py:409\u001b[0m, in \u001b[0;36m_DispatcherBase._compile_for_args.<locals>.error_rewrite\u001b[0;34m(e, issue_type)\u001b[0m\n\u001b[1;32m    407\u001b[0m     \u001b[38;5;28;01mraise\u001b[39;00m e\n\u001b[1;32m    408\u001b[0m \u001b[38;5;28;01melse\u001b[39;00m:\n\u001b[0;32m--> 409\u001b[0m     \u001b[38;5;28;01mraise\u001b[39;00m e\u001b[38;5;241m.\u001b[39mwith_traceback(\u001b[38;5;28;01mNone\u001b[39;00m)\n",
      "\u001b[0;31mTypingError\u001b[0m: Failed in nopython mode pipeline (step: nopython frontend)\nnon-precise type pyobject\nDuring: typing of argument at /Users/macbook/Desktop/mas-group-1/src/optimized_code.py (37)\n\nFile \"src/optimized_code.py\", line 37:\ndef borda_outcome_op(preferences: np.ndarray) -> int:\n    <source elided>\n\n@jit(nopython=True)\n^ \n\nThis error may have been caused by the following argument(s):\n- argument 2: Cannot determine Numba type of <class 'src.outcomes.Result'> \n\nThis error may have been caused by the following argument(s):\n- argument 2: Cannot determine Numba type of <class 'src.outcomes.Result'> \n\nThis error may have been caused by the following argument(s):\n- argument 2: Cannot determine Numba type of <class 'src.outcomes.Result'>\n"
     ]
    },
    {
     "ename": "TypingError",
     "evalue": "Failed in nopython mode pipeline (step: nopython frontend)\nnon-precise type pyobject\nDuring: typing of argument at /Users/macbook/Desktop/mas-group-1/src/optimized_code.py (37)\n\nFile \"src/optimized_code.py\", line 37:\ndef borda_outcome_op(preferences: np.ndarray) -> int:\n    <source elided>\n\n@jit(nopython=True)\n^ \n\nThis error may have been caused by the following argument(s):\n- argument 2: Cannot determine Numba type of <class 'src.outcomes.Result'> \n\nThis error may have been caused by the following argument(s):\n- argument 2: Cannot determine Numba type of <class 'src.outcomes.Result'> \n\nThis error may have been caused by the following argument(s):\n- argument 2: Cannot determine Numba type of <class 'src.outcomes.Result'> \n\nThis error may have been caused by the following argument(s):\n- argument 2: Cannot determine Numba type of <class 'src.outcomes.Result'>\n",
     "output_type": "error",
     "traceback": [
      "\u001b[0;31m---------------------------------------------------------------------------\u001b[0m",
      "\u001b[0;31mTypingError\u001b[0m                               Traceback (most recent call last)",
      "File \u001b[0;32m<timed eval>:1\u001b[0m\n",
      "File \u001b[0;32m~/Desktop/mas-group-1/src/optimized_code.py:134\u001b[0m, in \u001b[0;36mcompute_risk\u001b[0;34m(preferences, schema_outcome_f)\u001b[0m\n\u001b[1;32m    123\u001b[0m \u001b[38;5;250m\u001b[39m\u001b[38;5;124;03m\"\"\"\u001b[39;00m\n\u001b[1;32m    124\u001b[0m \u001b[38;5;124;03mCompute the average risk for all voters.\u001b[39;00m\n\u001b[1;32m    125\u001b[0m \n\u001b[0;32m   (...)\u001b[0m\n\u001b[1;32m    131\u001b[0m \u001b[38;5;124;03m    float: The average risk for all voters.\u001b[39;00m\n\u001b[1;32m    132\u001b[0m \u001b[38;5;124;03m\"\"\"\u001b[39;00m\n\u001b[1;32m    133\u001b[0m result \u001b[38;5;241m=\u001b[39m schema_outcome_f(preferences)\n\u001b[0;32m--> 134\u001b[0m initial_happinesses \u001b[38;5;241m=\u001b[39m np\u001b[38;5;241m.\u001b[39marray([happiness_level(preferences, voter, result) \u001b[38;5;28;01mfor\u001b[39;00m voter \u001b[38;5;129;01min\u001b[39;00m \u001b[38;5;28mrange\u001b[39m(preferences\u001b[38;5;241m.\u001b[39mshape[\u001b[38;5;241m1\u001b[39m])])\n\u001b[1;32m    135\u001b[0m total_risk \u001b[38;5;241m=\u001b[39m \u001b[38;5;28msum\u001b[39m(Parallel(n_jobs\u001b[38;5;241m=\u001b[39m\u001b[38;5;241m-\u001b[39m\u001b[38;5;241m1\u001b[39m)(delayed(compute_voter_risk)(preferences, result, initial_happinesses, i, schema_outcome_f) \u001b[38;5;28;01mfor\u001b[39;00m i \u001b[38;5;129;01min\u001b[39;00m \u001b[38;5;28mrange\u001b[39m(preferences\u001b[38;5;241m.\u001b[39mshape[\u001b[38;5;241m1\u001b[39m])))\n\u001b[1;32m    136\u001b[0m num_unhappy_voters \u001b[38;5;241m=\u001b[39m np\u001b[38;5;241m.\u001b[39mcount_nonzero(initial_happinesses \u001b[38;5;241m!=\u001b[39m \u001b[38;5;241m1\u001b[39m)\n",
      "File \u001b[0;32m~/Desktop/mas-group-1/src/optimized_code.py:134\u001b[0m, in \u001b[0;36m<listcomp>\u001b[0;34m(.0)\u001b[0m\n\u001b[1;32m    123\u001b[0m \u001b[38;5;250m\u001b[39m\u001b[38;5;124;03m\"\"\"\u001b[39;00m\n\u001b[1;32m    124\u001b[0m \u001b[38;5;124;03mCompute the average risk for all voters.\u001b[39;00m\n\u001b[1;32m    125\u001b[0m \n\u001b[0;32m   (...)\u001b[0m\n\u001b[1;32m    131\u001b[0m \u001b[38;5;124;03m    float: The average risk for all voters.\u001b[39;00m\n\u001b[1;32m    132\u001b[0m \u001b[38;5;124;03m\"\"\"\u001b[39;00m\n\u001b[1;32m    133\u001b[0m result \u001b[38;5;241m=\u001b[39m schema_outcome_f(preferences)\n\u001b[0;32m--> 134\u001b[0m initial_happinesses \u001b[38;5;241m=\u001b[39m np\u001b[38;5;241m.\u001b[39marray([\u001b[43mhappiness_level\u001b[49m\u001b[43m(\u001b[49m\u001b[43mpreferences\u001b[49m\u001b[43m,\u001b[49m\u001b[43m \u001b[49m\u001b[43mvoter\u001b[49m\u001b[43m,\u001b[49m\u001b[43m \u001b[49m\u001b[43mresult\u001b[49m\u001b[43m)\u001b[49m \u001b[38;5;28;01mfor\u001b[39;00m voter \u001b[38;5;129;01min\u001b[39;00m \u001b[38;5;28mrange\u001b[39m(preferences\u001b[38;5;241m.\u001b[39mshape[\u001b[38;5;241m1\u001b[39m])])\n\u001b[1;32m    135\u001b[0m total_risk \u001b[38;5;241m=\u001b[39m \u001b[38;5;28msum\u001b[39m(Parallel(n_jobs\u001b[38;5;241m=\u001b[39m\u001b[38;5;241m-\u001b[39m\u001b[38;5;241m1\u001b[39m)(delayed(compute_voter_risk)(preferences, result, initial_happinesses, i, schema_outcome_f) \u001b[38;5;28;01mfor\u001b[39;00m i \u001b[38;5;129;01min\u001b[39;00m \u001b[38;5;28mrange\u001b[39m(preferences\u001b[38;5;241m.\u001b[39mshape[\u001b[38;5;241m1\u001b[39m])))\n\u001b[1;32m    136\u001b[0m num_unhappy_voters \u001b[38;5;241m=\u001b[39m np\u001b[38;5;241m.\u001b[39mcount_nonzero(initial_happinesses \u001b[38;5;241m!=\u001b[39m \u001b[38;5;241m1\u001b[39m)\n",
      "File \u001b[0;32m~/Library/Python/3.9/lib/python/site-packages/numba/core/dispatcher.py:468\u001b[0m, in \u001b[0;36m_DispatcherBase._compile_for_args\u001b[0;34m(self, *args, **kws)\u001b[0m\n\u001b[1;32m    464\u001b[0m         msg \u001b[38;5;241m=\u001b[39m (\u001b[38;5;124mf\u001b[39m\u001b[38;5;124m\"\u001b[39m\u001b[38;5;132;01m{\u001b[39;00m\u001b[38;5;28mstr\u001b[39m(e)\u001b[38;5;241m.\u001b[39mrstrip()\u001b[38;5;132;01m}\u001b[39;00m\u001b[38;5;124m \u001b[39m\u001b[38;5;130;01m\\n\u001b[39;00m\u001b[38;5;130;01m\\n\u001b[39;00m\u001b[38;5;124mThis error may have been caused \u001b[39m\u001b[38;5;124m\"\u001b[39m\n\u001b[1;32m    465\u001b[0m                \u001b[38;5;124mf\u001b[39m\u001b[38;5;124m\"\u001b[39m\u001b[38;5;124mby the following argument(s):\u001b[39m\u001b[38;5;130;01m\\n\u001b[39;00m\u001b[38;5;132;01m{\u001b[39;00margs_str\u001b[38;5;132;01m}\u001b[39;00m\u001b[38;5;130;01m\\n\u001b[39;00m\u001b[38;5;124m\"\u001b[39m)\n\u001b[1;32m    466\u001b[0m         e\u001b[38;5;241m.\u001b[39mpatch_message(msg)\n\u001b[0;32m--> 468\u001b[0m     \u001b[43merror_rewrite\u001b[49m\u001b[43m(\u001b[49m\u001b[43me\u001b[49m\u001b[43m,\u001b[49m\u001b[43m \u001b[49m\u001b[38;5;124;43m'\u001b[39;49m\u001b[38;5;124;43mtyping\u001b[39;49m\u001b[38;5;124;43m'\u001b[39;49m\u001b[43m)\u001b[49m\n\u001b[1;32m    469\u001b[0m \u001b[38;5;28;01mexcept\u001b[39;00m errors\u001b[38;5;241m.\u001b[39mUnsupportedError \u001b[38;5;28;01mas\u001b[39;00m e:\n\u001b[1;32m    470\u001b[0m     \u001b[38;5;66;03m# Something unsupported is present in the user code, add help info\u001b[39;00m\n\u001b[1;32m    471\u001b[0m     error_rewrite(e, \u001b[38;5;124m'\u001b[39m\u001b[38;5;124munsupported_error\u001b[39m\u001b[38;5;124m'\u001b[39m)\n",
      "File \u001b[0;32m~/Library/Python/3.9/lib/python/site-packages/numba/core/dispatcher.py:409\u001b[0m, in \u001b[0;36m_DispatcherBase._compile_for_args.<locals>.error_rewrite\u001b[0;34m(e, issue_type)\u001b[0m\n\u001b[1;32m    407\u001b[0m     \u001b[38;5;28;01mraise\u001b[39;00m e\n\u001b[1;32m    408\u001b[0m \u001b[38;5;28;01melse\u001b[39;00m:\n\u001b[0;32m--> 409\u001b[0m     \u001b[38;5;28;01mraise\u001b[39;00m e\u001b[38;5;241m.\u001b[39mwith_traceback(\u001b[38;5;28;01mNone\u001b[39;00m)\n",
      "\u001b[0;31mTypingError\u001b[0m: Failed in nopython mode pipeline (step: nopython frontend)\nnon-precise type pyobject\nDuring: typing of argument at /Users/macbook/Desktop/mas-group-1/src/optimized_code.py (37)\n\nFile \"src/optimized_code.py\", line 37:\ndef borda_outcome_op(preferences: np.ndarray) -> int:\n    <source elided>\n\n@jit(nopython=True)\n^ \n\nThis error may have been caused by the following argument(s):\n- argument 2: Cannot determine Numba type of <class 'src.outcomes.Result'> \n\nThis error may have been caused by the following argument(s):\n- argument 2: Cannot determine Numba type of <class 'src.outcomes.Result'> \n\nThis error may have been caused by the following argument(s):\n- argument 2: Cannot determine Numba type of <class 'src.outcomes.Result'> \n\nThis error may have been caused by the following argument(s):\n- argument 2: Cannot determine Numba type of <class 'src.outcomes.Result'>\n"
     ]
    }
   ],
   "source": [
    "\n",
    "\n",
    "%time display(compute_risk(voting,plurality_outcome))\n",
    "%time display(compute_risk(voting,for_two_outcome))\n",
    "%time display(compute_risk(voting,veto_outcome))\n",
    "%time display(compute_risk(voting,borda_outcome))\n",
    "\n"
   ]
  },
  {
   "cell_type": "code",
   "execution_count": null,
   "metadata": {},
   "outputs": [
    {
     "data": {
      "text/plain": [
       "0.0"
      ]
     },
     "metadata": {},
     "output_type": "display_data"
    },
    {
     "name": "stdout",
     "output_type": "stream",
     "text": [
      "CPU times: user 1.76 s, sys: 4.8 ms, total: 1.77 s\n",
      "Wall time: 1.78 s\n"
     ]
    },
    {
     "data": {
      "text/plain": [
       "0.0"
      ]
     },
     "metadata": {},
     "output_type": "display_data"
    },
    {
     "name": "stdout",
     "output_type": "stream",
     "text": [
      "CPU times: user 2.04 s, sys: 2.32 ms, total: 2.04 s\n",
      "Wall time: 2.05 s\n"
     ]
    },
    {
     "data": {
      "text/plain": [
       "0.13143917595117005"
      ]
     },
     "metadata": {},
     "output_type": "display_data"
    },
    {
     "name": "stdout",
     "output_type": "stream",
     "text": [
      "CPU times: user 2.07 s, sys: 3.42 ms, total: 2.07 s\n",
      "Wall time: 2.08 s\n"
     ]
    },
    {
     "data": {
      "text/plain": [
       "0.041643825935209364"
      ]
     },
     "metadata": {},
     "output_type": "display_data"
    },
    {
     "name": "stdout",
     "output_type": "stream",
     "text": [
      "CPU times: user 4.11 s, sys: 1.92 ms, total: 4.11 s\n",
      "Wall time: 4.13 s\n",
      "CPU times: user 9.98 s, sys: 12.5 ms, total: 9.99 s\n",
      "Wall time: 10 s\n"
     ]
    }
   ],
   "source": [
    "%%time  \n",
    "\n",
    "\n",
    "%time display(StrategicVoting(voting,HappinessLevel(voting,plurality_outcome(voting),\"PLURALITY\").run(),plurality_outcome).run().risk)\n",
    "%time display(StrategicVoting(voting,HappinessLevel(voting,for_two_outcome(voting),\"FOR TWO\").run(),for_two_outcome).run().risk)\n",
    "%time display(StrategicVoting(voting,HappinessLevel(voting,veto_outcome(voting),\"VETO\").run(),veto_outcome).run().risk)\n",
    "%time display(StrategicVoting(voting,HappinessLevel(voting,borda_outcome(voting),\"BORDA\").run(),borda_outcome).run().risk)\n",
    "\n"
   ]
  },
  {
   "cell_type": "code",
   "execution_count": null,
   "metadata": {},
   "outputs": [],
   "source": []
  }
 ],
 "metadata": {
  "kernelspec": {
   "display_name": "Python 3",
   "language": "python",
   "name": "python3"
  },
  "language_info": {
   "codemirror_mode": {
    "name": "ipython",
    "version": 3
   },
   "file_extension": ".py",
   "mimetype": "text/x-python",
   "name": "python",
   "nbconvert_exporter": "python",
   "pygments_lexer": "ipython3",
   "version": "3.9.6"
  }
 },
 "nbformat": 4,
 "nbformat_minor": 2
}
