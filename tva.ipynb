{
 "cells": [
  {
   "cell_type": "markdown",
   "metadata": {},
   "source": [
    "# Advance TVA, with Clustering, Compromising and Burying"
   ]
  },
  {
   "cell_type": "code",
   "execution_count": 436,
   "metadata": {},
   "outputs": [],
   "source": [
    "import warnings\n",
    "\n",
    "warnings.filterwarnings(\"ignore\")\n",
    "\n",
    "from src import utils\n",
    "from src.outcomes import plurality_outcome\n",
    "from src.outcomes import borda_outcome\n",
    "from src.outcomes import borda_outcome\n",
    "from src.outcomes import veto_outcome\n",
    "from src.happiness_level import HappinessLevel\n",
    "from src.strategic_voting_risk import StrategicVoting\n",
    "from src.outcomes import for_two_outcome\n",
    "from src.CoalitionManipulations import find_stable_coalitions_by_compromising, coalition_dataframe\n",
    "\n",
    "import os\n",
    "import numpy as np \n",
    "import pandas as pd"
   ]
  },
  {
   "cell_type": "code",
   "execution_count": 437,
   "metadata": {},
   "outputs": [],
   "source": [
    "path_voting = \"input/voting_result.json\"\n",
    "if \"env\" in os.environ:\n",
    "    if os.environ[\"env\"] == \"docker\":\n",
    "        path_voting = \"/input/voting_result.json\""
   ]
  },
  {
   "cell_type": "markdown",
   "metadata": {},
   "source": [
    "This is the voting input"
   ]
  },
  {
   "cell_type": "code",
   "execution_count": 438,
   "metadata": {},
   "outputs": [],
   "source": [
    "n_cand = 3\n",
    "random_voting = utils.random_voting(3, n_cand)\n",
    "\n"
   ]
  },
  {
   "cell_type": "code",
   "execution_count": 439,
   "metadata": {},
   "outputs": [
    {
     "name": "stdout",
     "output_type": "stream",
     "text": [
      "  Number_voters  voters number_manipulations strategic_voting_risk  \\\n",
      "0             1    (2,)                    1                   0.5   \n",
      "1             1    (1,)                    1                   0.5   \n",
      "2             2  (1, 2)                    2                  0.75   \n",
      "\n",
      "  overall_happiness_change_inside_coalition overall_happiness_change_system  \n",
      "0                                       0.5                        0.333333  \n",
      "1                                       0.5                        0.166667  \n",
      "2                                      0.75                            0.25  \n",
      "[(True,    0  1  2    H  gruppo manipulation  New_H  diff\n",
      "2  B  C  A  0.0       0    [C, B, A]    0.5   0.5, Winner: C\n",
      "{'A': 1, 'B': 0, 'C': 2}), (True,    0  1  2    H  gruppo manipulation  New_H  diff\n",
      "1  C  B  A  0.0       1    [B, C, A]    0.5   0.5, Winner: B\n",
      "{'A': 1, 'B': 2, 'C': 0}), (True,    0  1  2    H  gruppo manipulation  New_H  diff\n",
      "1  C  B  A  0.0     0.0    [C, B, A]    1.0   1.0\n",
      "2  B  C  A  0.0     0.0    [C, B, A]    0.5   0.5, Winner: C\n",
      "{'A': 1, 'B': 0, 'C': 2}), (True,    0  1  2    H  gruppo manipulation  New_H  diff\n",
      "1  C  B  A  0.0     0.0    [B, C, A]    0.5   0.5\n",
      "2  B  C  A  0.0     0.0    [B, C, A]    1.0   1.0, Winner: B\n",
      "{'A': 1, 'B': 2, 'C': 0})]\n"
     ]
    }
   ],
   "source": [
    "borda_result = plurality_outcome(random_voting)\n",
    "voting_df_2= pd.DataFrame(random_voting).T\n",
    "hlevel = HappinessLevel(random_voting, borda_result.winner)\n",
    "valori = np.array(list(hlevel.happiness_level_dict.values()))\n",
    "coals = find_stable_coalitions_by_compromising(voting_df_2, valori, borda_result, voting='plurality', strategy='compromising')\n",
    "df = coalition_dataframe(coals, random_voting, valori)\n",
    "\n",
    "print(df)\n",
    "print(coals)"
   ]
  }
 ],
 "metadata": {
  "kernelspec": {
   "display_name": "venv",
   "language": "python",
   "name": "python3"
  },
  "language_info": {
   "codemirror_mode": {
    "name": "ipython",
    "version": 3
   },
   "file_extension": ".py",
   "mimetype": "text/x-python",
   "name": "python",
   "nbconvert_exporter": "python",
   "pygments_lexer": "ipython3",
   "version": "3.11.5"
  }
 },
 "nbformat": 4,
 "nbformat_minor": 2
}
