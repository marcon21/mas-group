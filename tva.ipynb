{
 "cells": [
  {
   "cell_type": "markdown",
   "metadata": {},
   "source": [
    "# TVA"
   ]
  },
  {
   "cell_type": "code",
   "execution_count": 1,
   "metadata": {},
   "outputs": [],
   "source": [
    "import warnings\n",
    "\n",
    "warnings.filterwarnings(\"ignore\")\n",
    "\n",
    "from src import utils\n",
    "from src.utils import VotingSchemas\n",
    "from src.outcomes import *\n",
    "from src.happiness_level import HappinessLevel\n",
    "from src.strategic_voting_risk import StrategicVoting\n",
    "from src.coalitions import find_stable_coalitions_by_compromising\n",
    "import os\n",
    "import numpy as np"
   ]
  },
  {
   "cell_type": "code",
   "execution_count": 2,
   "metadata": {},
   "outputs": [],
   "source": [
    "path_voting = \"input/voting_result.json\"\n",
    "if \"env\" in os.environ:\n",
    "    if os.environ[\"env\"] == \"docker\":\n",
    "        path_voting = \"/input/voting_result.json\""
   ]
  },
  {
   "cell_type": "markdown",
   "metadata": {},
   "source": [
    "## Input Voting Preference"
   ]
  },
  {
   "cell_type": "code",
   "execution_count": 3,
   "metadata": {},
   "outputs": [
    {
     "data": {
      "text/html": [
       "<div>\n",
       "<style scoped>\n",
       "    .dataframe tbody tr th:only-of-type {\n",
       "        vertical-align: middle;\n",
       "    }\n",
       "\n",
       "    .dataframe tbody tr th {\n",
       "        vertical-align: top;\n",
       "    }\n",
       "\n",
       "    .dataframe thead th {\n",
       "        text-align: right;\n",
       "    }\n",
       "</style>\n",
       "<table border=\"1\" class=\"dataframe\">\n",
       "  <thead>\n",
       "    <tr style=\"text-align: right;\">\n",
       "      <th></th>\n",
       "      <th>voter_0</th>\n",
       "      <th>voter_1</th>\n",
       "      <th>voter_2</th>\n",
       "      <th>voter_3</th>\n",
       "      <th>voter_4</th>\n",
       "      <th>voter_5</th>\n",
       "      <th>voter_6</th>\n",
       "    </tr>\n",
       "  </thead>\n",
       "  <tbody>\n",
       "    <tr>\n",
       "      <th>preference_0</th>\n",
       "      <td>C</td>\n",
       "      <td>B</td>\n",
       "      <td>C</td>\n",
       "      <td>C</td>\n",
       "      <td>B</td>\n",
       "      <td>A</td>\n",
       "      <td>A</td>\n",
       "    </tr>\n",
       "    <tr>\n",
       "      <th>preference_1</th>\n",
       "      <td>A</td>\n",
       "      <td>D</td>\n",
       "      <td>D</td>\n",
       "      <td>D</td>\n",
       "      <td>A</td>\n",
       "      <td>B</td>\n",
       "      <td>B</td>\n",
       "    </tr>\n",
       "    <tr>\n",
       "      <th>preference_2</th>\n",
       "      <td>D</td>\n",
       "      <td>C</td>\n",
       "      <td>A</td>\n",
       "      <td>B</td>\n",
       "      <td>D</td>\n",
       "      <td>D</td>\n",
       "      <td>D</td>\n",
       "    </tr>\n",
       "    <tr>\n",
       "      <th>preference_3</th>\n",
       "      <td>B</td>\n",
       "      <td>A</td>\n",
       "      <td>B</td>\n",
       "      <td>A</td>\n",
       "      <td>C</td>\n",
       "      <td>C</td>\n",
       "      <td>C</td>\n",
       "    </tr>\n",
       "  </tbody>\n",
       "</table>\n",
       "</div>"
      ],
      "text/plain": [
       "             voter_0 voter_1 voter_2 voter_3 voter_4 voter_5 voter_6\n",
       "preference_0       C       B       C       C       B       A       A\n",
       "preference_1       A       D       D       D       A       B       B\n",
       "preference_2       D       C       A       B       D       D       D\n",
       "preference_3       B       A       B       A       C       C       C"
      ]
     },
     "execution_count": 3,
     "metadata": {},
     "output_type": "execute_result"
    }
   ],
   "source": [
    "voting = utils.read_voting(path_voting, table_name=\"voting6\")\n",
    "voting.to_pandas()"
   ]
  },
  {
   "cell_type": "markdown",
   "metadata": {},
   "source": [
    "## Voting Outcomes"
   ]
  },
  {
   "cell_type": "code",
   "execution_count": 4,
   "metadata": {},
   "outputs": [
    {
     "data": {
      "text/html": [
       "<div>\n",
       "<style scoped>\n",
       "    .dataframe tbody tr th:only-of-type {\n",
       "        vertical-align: middle;\n",
       "    }\n",
       "\n",
       "    .dataframe tbody tr th {\n",
       "        vertical-align: top;\n",
       "    }\n",
       "\n",
       "    .dataframe thead th {\n",
       "        text-align: right;\n",
       "    }\n",
       "</style>\n",
       "<table border=\"1\" class=\"dataframe\">\n",
       "  <thead>\n",
       "    <tr style=\"text-align: right;\">\n",
       "      <th></th>\n",
       "      <th>A</th>\n",
       "      <th>B</th>\n",
       "      <th>C</th>\n",
       "      <th>D</th>\n",
       "      <th>Winner</th>\n",
       "    </tr>\n",
       "  </thead>\n",
       "  <tbody>\n",
       "    <tr>\n",
       "      <th>Plurality Voting</th>\n",
       "      <td>2</td>\n",
       "      <td>2</td>\n",
       "      <td>3</td>\n",
       "      <td>0</td>\n",
       "      <td>C</td>\n",
       "    </tr>\n",
       "    <tr>\n",
       "      <th>Voting for Two</th>\n",
       "      <td>4</td>\n",
       "      <td>4</td>\n",
       "      <td>3</td>\n",
       "      <td>3</td>\n",
       "      <td>A</td>\n",
       "    </tr>\n",
       "    <tr>\n",
       "      <th>Veto Voting</th>\n",
       "      <td>5</td>\n",
       "      <td>5</td>\n",
       "      <td>4</td>\n",
       "      <td>7</td>\n",
       "      <td>D</td>\n",
       "    </tr>\n",
       "    <tr>\n",
       "      <th>Borda Voting</th>\n",
       "      <td>11</td>\n",
       "      <td>11</td>\n",
       "      <td>10</td>\n",
       "      <td>10</td>\n",
       "      <td>A</td>\n",
       "    </tr>\n",
       "  </tbody>\n",
       "</table>\n",
       "</div>"
      ],
      "text/plain": [
       "                   A   B   C   D Winner\n",
       "Plurality Voting   2   2   3   0      C\n",
       "Voting for Two     4   4   3   3      A\n",
       "Veto Voting        5   5   4   7      D\n",
       "Borda Voting      11  11  10  10      A"
      ]
     },
     "execution_count": 4,
     "metadata": {},
     "output_type": "execute_result"
    }
   ],
   "source": [
    "outcomes = all_schemas_outcomes(voting)\n",
    "outcomes_df = all_schemas_outcomes_to_pandas(outcomes)\n",
    "outcomes_df"
   ]
  },
  {
   "cell_type": "markdown",
   "metadata": {},
   "source": [
    "## Happiness Level"
   ]
  },
  {
   "cell_type": "markdown",
   "metadata": {},
   "source": [
    "### Plurality Voting"
   ]
  },
  {
   "cell_type": "code",
   "execution_count": 5,
   "metadata": {},
   "outputs": [
    {
     "name": "stdout",
     "output_type": "stream",
     "text": [
      "Voters Happiness Level\n"
     ]
    },
    {
     "data": {
      "text/html": [
       "<div>\n",
       "<style scoped>\n",
       "    .dataframe tbody tr th:only-of-type {\n",
       "        vertical-align: middle;\n",
       "    }\n",
       "\n",
       "    .dataframe tbody tr th {\n",
       "        vertical-align: top;\n",
       "    }\n",
       "\n",
       "    .dataframe thead th {\n",
       "        text-align: right;\n",
       "    }\n",
       "</style>\n",
       "<table border=\"1\" class=\"dataframe\">\n",
       "  <thead>\n",
       "    <tr style=\"text-align: right;\">\n",
       "      <th></th>\n",
       "      <th>Happiness Level</th>\n",
       "    </tr>\n",
       "  </thead>\n",
       "  <tbody>\n",
       "    <tr>\n",
       "      <th>0</th>\n",
       "      <td>1.000000</td>\n",
       "    </tr>\n",
       "    <tr>\n",
       "      <th>1</th>\n",
       "      <td>0.410487</td>\n",
       "    </tr>\n",
       "    <tr>\n",
       "      <th>2</th>\n",
       "      <td>1.000000</td>\n",
       "    </tr>\n",
       "    <tr>\n",
       "      <th>3</th>\n",
       "      <td>1.000000</td>\n",
       "    </tr>\n",
       "    <tr>\n",
       "      <th>4</th>\n",
       "      <td>0.000000</td>\n",
       "    </tr>\n",
       "    <tr>\n",
       "      <th>5</th>\n",
       "      <td>0.000000</td>\n",
       "    </tr>\n",
       "    <tr>\n",
       "      <th>6</th>\n",
       "      <td>0.000000</td>\n",
       "    </tr>\n",
       "  </tbody>\n",
       "</table>\n",
       "</div>"
      ],
      "text/plain": [
       "   Happiness Level\n",
       "0         1.000000\n",
       "1         0.410487\n",
       "2         1.000000\n",
       "3         1.000000\n",
       "4         0.000000\n",
       "5         0.000000\n",
       "6         0.000000"
      ]
     },
     "metadata": {},
     "output_type": "display_data"
    },
    {
     "name": "stdout",
     "output_type": "stream",
     "text": [
      "\n",
      "Overall Happiness Level: 3.410486590766719\n",
      "\n",
      "Happiness Level Distribution\n"
     ]
    },
    {
     "data": {
      "image/png": "[encoded data removed]",
      "text/plain": [
       "<Figure size 640x480 with 1 Axes>"
      ]
     },
     "metadata": {},
     "output_type": "display_data"
    },
    {
     "name": "stdout",
     "output_type": "stream",
     "text": [
      "\n",
      "Histogram of Happiness Level\n"
     ]
    },
    {
     "data": {
      "image/png": "[encoded data removed]",
      "text/plain": [
       "<Figure size 640x480 with 1 Axes>"
      ]
     },
     "metadata": {},
     "output_type": "display_data"
    }
   ],
   "source": [
    "pv_h = HappinessLevel(\n",
    "    voting,\n",
    "    outcomes[VotingSchemas.PLURALITY_VOTING.value].winner,\n",
    "    VotingSchemas.PLURALITY_VOTING,\n",
    ").run(show=True)"
   ]
  },
  {
   "cell_type": "markdown",
   "metadata": {},
   "source": [
    "### Voting for Two"
   ]
  },
  {
   "cell_type": "code",
   "execution_count": 6,
   "metadata": {},
   "outputs": [
    {
     "name": "stdout",
     "output_type": "stream",
     "text": [
      "Voters Happiness Level\n"
     ]
    },
    {
     "data": {
      "text/html": [
       "<div>\n",
       "<style scoped>\n",
       "    .dataframe tbody tr th:only-of-type {\n",
       "        vertical-align: middle;\n",
       "    }\n",
       "\n",
       "    .dataframe tbody tr th {\n",
       "        vertical-align: top;\n",
       "    }\n",
       "\n",
       "    .dataframe thead th {\n",
       "        text-align: right;\n",
       "    }\n",
       "</style>\n",
       "<table border=\"1\" class=\"dataframe\">\n",
       "  <thead>\n",
       "    <tr style=\"text-align: right;\">\n",
       "      <th></th>\n",
       "      <th>Happiness Level</th>\n",
       "    </tr>\n",
       "  </thead>\n",
       "  <tbody>\n",
       "    <tr>\n",
       "      <th>0</th>\n",
       "      <td>0.589513</td>\n",
       "    </tr>\n",
       "    <tr>\n",
       "      <th>1</th>\n",
       "      <td>0.000000</td>\n",
       "    </tr>\n",
       "    <tr>\n",
       "      <th>2</th>\n",
       "      <td>0.410487</td>\n",
       "    </tr>\n",
       "    <tr>\n",
       "      <th>3</th>\n",
       "      <td>0.000000</td>\n",
       "    </tr>\n",
       "    <tr>\n",
       "      <th>4</th>\n",
       "      <td>0.589513</td>\n",
       "    </tr>\n",
       "    <tr>\n",
       "      <th>5</th>\n",
       "      <td>1.000000</td>\n",
       "    </tr>\n",
       "    <tr>\n",
       "      <th>6</th>\n",
       "      <td>1.000000</td>\n",
       "    </tr>\n",
       "  </tbody>\n",
       "</table>\n",
       "</div>"
      ],
      "text/plain": [
       "   Happiness Level\n",
       "0         0.589513\n",
       "1         0.000000\n",
       "2         0.410487\n",
       "3         0.000000\n",
       "4         0.589513\n",
       "5         1.000000\n",
       "6         1.000000"
      ]
     },
     "metadata": {},
     "output_type": "display_data"
    },
    {
     "name": "stdout",
     "output_type": "stream",
     "text": [
      "\n",
      "Overall Happiness Level: 3.589513409233281\n",
      "\n",
      "Happiness Level Distribution\n"
     ]
    },
    {
     "data": {
      "image/png": "[encoded data removed]",
      "text/plain": [
       "<Figure size 640x480 with 1 Axes>"
      ]
     },
     "metadata": {},
     "output_type": "display_data"
    },
    {
     "name": "stdout",
     "output_type": "stream",
     "text": [
      "\n",
      "Histogram of Happiness Level\n"
     ]
    },
    {
     "data": {
      "image/png": "[encoded data removed]",
      "text/plain": [
       "<Figure size 640x480 with 1 Axes>"
      ]
     },
     "metadata": {},
     "output_type": "display_data"
    }
   ],
   "source": [
    "vt_h = HappinessLevel(\n",
    "    voting,\n",
    "    outcomes[VotingSchemas.VOTING_FOR_TWO.value].winner,\n",
    "    VotingSchemas.VOTING_FOR_TWO,\n",
    ").run(show=True)"
   ]
  },
  {
   "cell_type": "markdown",
   "metadata": {},
   "source": [
    "### Veto Voting"
   ]
  },
  {
   "cell_type": "code",
   "execution_count": 7,
   "metadata": {},
   "outputs": [
    {
     "name": "stdout",
     "output_type": "stream",
     "text": [
      "Voters Happiness Level\n"
     ]
    },
    {
     "data": {
      "text/html": [
       "<div>\n",
       "<style scoped>\n",
       "    .dataframe tbody tr th:only-of-type {\n",
       "        vertical-align: middle;\n",
       "    }\n",
       "\n",
       "    .dataframe tbody tr th {\n",
       "        vertical-align: top;\n",
       "    }\n",
       "\n",
       "    .dataframe thead th {\n",
       "        text-align: right;\n",
       "    }\n",
       "</style>\n",
       "<table border=\"1\" class=\"dataframe\">\n",
       "  <thead>\n",
       "    <tr style=\"text-align: right;\">\n",
       "      <th></th>\n",
       "      <th>Happiness Level</th>\n",
       "    </tr>\n",
       "  </thead>\n",
       "  <tbody>\n",
       "    <tr>\n",
       "      <th>0</th>\n",
       "      <td>0.410487</td>\n",
       "    </tr>\n",
       "    <tr>\n",
       "      <th>1</th>\n",
       "      <td>0.589513</td>\n",
       "    </tr>\n",
       "    <tr>\n",
       "      <th>2</th>\n",
       "      <td>0.589513</td>\n",
       "    </tr>\n",
       "    <tr>\n",
       "      <th>3</th>\n",
       "      <td>0.589513</td>\n",
       "    </tr>\n",
       "    <tr>\n",
       "      <th>4</th>\n",
       "      <td>0.410487</td>\n",
       "    </tr>\n",
       "    <tr>\n",
       "      <th>5</th>\n",
       "      <td>0.410487</td>\n",
       "    </tr>\n",
       "    <tr>\n",
       "      <th>6</th>\n",
       "      <td>0.410487</td>\n",
       "    </tr>\n",
       "  </tbody>\n",
       "</table>\n",
       "</div>"
      ],
      "text/plain": [
       "   Happiness Level\n",
       "0         0.410487\n",
       "1         0.589513\n",
       "2         0.589513\n",
       "3         0.589513\n",
       "4         0.410487\n",
       "5         0.410487\n",
       "6         0.410487"
      ]
     },
     "metadata": {},
     "output_type": "display_data"
    },
    {
     "name": "stdout",
     "output_type": "stream",
     "text": [
      "\n",
      "Overall Happiness Level: 3.410486590766719\n",
      "\n",
      "Happiness Level Distribution\n"
     ]
    },
    {
     "data": {
      "image/png": "[encoded data removed]",
      "text/plain": [
       "<Figure size 640x480 with 1 Axes>"
      ]
     },
     "metadata": {},
     "output_type": "display_data"
    },
    {
     "name": "stdout",
     "output_type": "stream",
     "text": [
      "\n",
      "Histogram of Happiness Level\n"
     ]
    },
    {
     "data": {
      "image/png": "[encoded data removed]",
      "text/plain": [
       "<Figure size 640x480 with 1 Axes>"
      ]
     },
     "metadata": {},
     "output_type": "display_data"
    }
   ],
   "source": [
    "vv_h = HappinessLevel(\n",
    "    voting,\n",
    "    outcomes[VotingSchemas.VETO_VOTING.value].winner,\n",
    "    VotingSchemas.VETO_VOTING,\n",
    ").run(show=True)"
   ]
  },
  {
   "cell_type": "markdown",
   "metadata": {},
   "source": [
    "### Borda Voting"
   ]
  },
  {
   "cell_type": "code",
   "execution_count": 8,
   "metadata": {},
   "outputs": [
    {
     "name": "stdout",
     "output_type": "stream",
     "text": [
      "Voters Happiness Level\n"
     ]
    },
    {
     "data": {
      "text/html": [
       "<div>\n",
       "<style scoped>\n",
       "    .dataframe tbody tr th:only-of-type {\n",
       "        vertical-align: middle;\n",
       "    }\n",
       "\n",
       "    .dataframe tbody tr th {\n",
       "        vertical-align: top;\n",
       "    }\n",
       "\n",
       "    .dataframe thead th {\n",
       "        text-align: right;\n",
       "    }\n",
       "</style>\n",
       "<table border=\"1\" class=\"dataframe\">\n",
       "  <thead>\n",
       "    <tr style=\"text-align: right;\">\n",
       "      <th></th>\n",
       "      <th>Happiness Level</th>\n",
       "    </tr>\n",
       "  </thead>\n",
       "  <tbody>\n",
       "    <tr>\n",
       "      <th>0</th>\n",
       "      <td>0.589513</td>\n",
       "    </tr>\n",
       "    <tr>\n",
       "      <th>1</th>\n",
       "      <td>0.000000</td>\n",
       "    </tr>\n",
       "    <tr>\n",
       "      <th>2</th>\n",
       "      <td>0.410487</td>\n",
       "    </tr>\n",
       "    <tr>\n",
       "      <th>3</th>\n",
       "      <td>0.000000</td>\n",
       "    </tr>\n",
       "    <tr>\n",
       "      <th>4</th>\n",
       "      <td>0.589513</td>\n",
       "    </tr>\n",
       "    <tr>\n",
       "      <th>5</th>\n",
       "      <td>1.000000</td>\n",
       "    </tr>\n",
       "    <tr>\n",
       "      <th>6</th>\n",
       "      <td>1.000000</td>\n",
       "    </tr>\n",
       "  </tbody>\n",
       "</table>\n",
       "</div>"
      ],
      "text/plain": [
       "   Happiness Level\n",
       "0         0.589513\n",
       "1         0.000000\n",
       "2         0.410487\n",
       "3         0.000000\n",
       "4         0.589513\n",
       "5         1.000000\n",
       "6         1.000000"
      ]
     },
     "metadata": {},
     "output_type": "display_data"
    },
    {
     "name": "stdout",
     "output_type": "stream",
     "text": [
      "\n",
      "Overall Happiness Level: 3.589513409233281\n",
      "\n",
      "Happiness Level Distribution\n"
     ]
    },
    {
     "data": {
      "image/png": "[encoded data removed]",
      "text/plain": [
       "<Figure size 640x480 with 1 Axes>"
      ]
     },
     "metadata": {},
     "output_type": "display_data"
    },
    {
     "name": "stdout",
     "output_type": "stream",
     "text": [
      "\n",
      "Histogram of Happiness Level\n"
     ]
    },
    {
     "data": {
      "image/png": "[encoded data removed]",
      "text/plain": [
       "<Figure size 640x480 with 1 Axes>"
      ]
     },
     "metadata": {},
     "output_type": "display_data"
    }
   ],
   "source": [
    "bv_h = HappinessLevel(\n",
    "    voting,\n",
    "    outcomes[VotingSchemas.BORDA_VOTING.value].winner,\n",
    "    VotingSchemas.BORDA_VOTING,\n",
    ").run(show=True)"
   ]
  },
  {
   "cell_type": "markdown",
   "metadata": {},
   "source": [
    "## Strategic Voting"
   ]
  },
  {
   "cell_type": "markdown",
   "metadata": {},
   "source": [
    "### Plurality Voting"
   ]
  },
  {
   "cell_type": "code",
   "execution_count": 9,
   "metadata": {},
   "outputs": [
    {
     "name": "stdout",
     "output_type": "stream",
     "text": [
      "Strategic Voting\n"
     ]
    },
    {
     "data": {
      "text/html": [
       "<div>\n",
       "<style scoped>\n",
       "    .dataframe tbody tr th:only-of-type {\n",
       "        vertical-align: middle;\n",
       "    }\n",
       "\n",
       "    .dataframe tbody tr th {\n",
       "        vertical-align: top;\n",
       "    }\n",
       "\n",
       "    .dataframe thead th {\n",
       "        text-align: right;\n",
       "    }\n",
       "</style>\n",
       "<table border=\"1\" class=\"dataframe\">\n",
       "  <thead>\n",
       "    <tr style=\"text-align: right;\">\n",
       "      <th></th>\n",
       "      <th>voter</th>\n",
       "      <th>strategic_voting</th>\n",
       "      <th>new_result</th>\n",
       "      <th>strategic_H</th>\n",
       "      <th>previous_H</th>\n",
       "      <th>strategic_overall_H</th>\n",
       "      <th>previous_overall_H</th>\n",
       "    </tr>\n",
       "  </thead>\n",
       "  <tbody>\n",
       "    <tr>\n",
       "      <th>0</th>\n",
       "      <td>4</td>\n",
       "      <td>[A, B, D, C]</td>\n",
       "      <td>A</td>\n",
       "      <td>0.589513</td>\n",
       "      <td>0.0</td>\n",
       "      <td>3.589513</td>\n",
       "      <td>3.410487</td>\n",
       "    </tr>\n",
       "    <tr>\n",
       "      <th>1</th>\n",
       "      <td>4</td>\n",
       "      <td>[A, D, B, C]</td>\n",
       "      <td>A</td>\n",
       "      <td>0.589513</td>\n",
       "      <td>0.0</td>\n",
       "      <td>3.589513</td>\n",
       "      <td>3.410487</td>\n",
       "    </tr>\n",
       "    <tr>\n",
       "      <th>2</th>\n",
       "      <td>5</td>\n",
       "      <td>[B, A, D, C]</td>\n",
       "      <td>B</td>\n",
       "      <td>0.589513</td>\n",
       "      <td>0.0</td>\n",
       "      <td>3.589513</td>\n",
       "      <td>3.410487</td>\n",
       "    </tr>\n",
       "    <tr>\n",
       "      <th>3</th>\n",
       "      <td>5</td>\n",
       "      <td>[B, D, A, C]</td>\n",
       "      <td>B</td>\n",
       "      <td>0.589513</td>\n",
       "      <td>0.0</td>\n",
       "      <td>3.589513</td>\n",
       "      <td>3.410487</td>\n",
       "    </tr>\n",
       "    <tr>\n",
       "      <th>4</th>\n",
       "      <td>6</td>\n",
       "      <td>[B, A, D, C]</td>\n",
       "      <td>B</td>\n",
       "      <td>0.589513</td>\n",
       "      <td>0.0</td>\n",
       "      <td>3.589513</td>\n",
       "      <td>3.410487</td>\n",
       "    </tr>\n",
       "    <tr>\n",
       "      <th>5</th>\n",
       "      <td>6</td>\n",
       "      <td>[B, D, A, C]</td>\n",
       "      <td>B</td>\n",
       "      <td>0.589513</td>\n",
       "      <td>0.0</td>\n",
       "      <td>3.589513</td>\n",
       "      <td>3.410487</td>\n",
       "    </tr>\n",
       "  </tbody>\n",
       "</table>\n",
       "</div>"
      ],
      "text/plain": [
       "   voter strategic_voting new_result  strategic_H  previous_H  \\\n",
       "0      4     [A, B, D, C]          A     0.589513         0.0   \n",
       "1      4     [A, D, B, C]          A     0.589513         0.0   \n",
       "2      5     [B, A, D, C]          B     0.589513         0.0   \n",
       "3      5     [B, D, A, C]          B     0.589513         0.0   \n",
       "4      6     [B, A, D, C]          B     0.589513         0.0   \n",
       "5      6     [B, D, A, C]          B     0.589513         0.0   \n",
       "\n",
       "   strategic_overall_H  previous_overall_H  \n",
       "0             3.589513            3.410487  \n",
       "1             3.589513            3.410487  \n",
       "2             3.589513            3.410487  \n",
       "3             3.589513            3.410487  \n",
       "4             3.589513            3.410487  \n",
       "5             3.589513            3.410487  "
      ]
     },
     "metadata": {},
     "output_type": "display_data"
    },
    {
     "name": "stdout",
     "output_type": "stream",
     "text": [
      "Best Strategic Voting\n"
     ]
    },
    {
     "data": {
      "text/html": [
       "<div>\n",
       "<style scoped>\n",
       "    .dataframe tbody tr th:only-of-type {\n",
       "        vertical-align: middle;\n",
       "    }\n",
       "\n",
       "    .dataframe tbody tr th {\n",
       "        vertical-align: top;\n",
       "    }\n",
       "\n",
       "    .dataframe thead th {\n",
       "        text-align: right;\n",
       "    }\n",
       "</style>\n",
       "<table border=\"1\" class=\"dataframe\">\n",
       "  <thead>\n",
       "    <tr style=\"text-align: right;\">\n",
       "      <th></th>\n",
       "      <th>voter</th>\n",
       "      <th>strategic_voting</th>\n",
       "      <th>new_result</th>\n",
       "      <th>strategic_H</th>\n",
       "      <th>previous_H</th>\n",
       "      <th>strategic_overall_H</th>\n",
       "      <th>previous_overall_H</th>\n",
       "    </tr>\n",
       "  </thead>\n",
       "  <tbody>\n",
       "    <tr>\n",
       "      <th>0</th>\n",
       "      <td>4</td>\n",
       "      <td>[A, B, D, C]</td>\n",
       "      <td>A</td>\n",
       "      <td>0.589513</td>\n",
       "      <td>0.0</td>\n",
       "      <td>3.589513</td>\n",
       "      <td>3.410487</td>\n",
       "    </tr>\n",
       "    <tr>\n",
       "      <th>2</th>\n",
       "      <td>5</td>\n",
       "      <td>[B, A, D, C]</td>\n",
       "      <td>B</td>\n",
       "      <td>0.589513</td>\n",
       "      <td>0.0</td>\n",
       "      <td>3.589513</td>\n",
       "      <td>3.410487</td>\n",
       "    </tr>\n",
       "    <tr>\n",
       "      <th>4</th>\n",
       "      <td>6</td>\n",
       "      <td>[B, A, D, C]</td>\n",
       "      <td>B</td>\n",
       "      <td>0.589513</td>\n",
       "      <td>0.0</td>\n",
       "      <td>3.589513</td>\n",
       "      <td>3.410487</td>\n",
       "    </tr>\n",
       "  </tbody>\n",
       "</table>\n",
       "</div>"
      ],
      "text/plain": [
       "   voter strategic_voting new_result  strategic_H  previous_H  \\\n",
       "0      4     [A, B, D, C]          A     0.589513         0.0   \n",
       "2      5     [B, A, D, C]          B     0.589513         0.0   \n",
       "4      6     [B, A, D, C]          B     0.589513         0.0   \n",
       "\n",
       "   strategic_overall_H  previous_overall_H  \n",
       "0             3.589513            3.410487  \n",
       "2             3.589513            3.410487  \n",
       "4             3.589513            3.410487  "
      ]
     },
     "metadata": {},
     "output_type": "display_data"
    },
    {
     "name": "stdout",
     "output_type": "stream",
     "text": [
      "Risk: 0.442135056924961\n"
     ]
    }
   ],
   "source": [
    "pv_s = StrategicVoting(voting, pv_h, plurality_outcome).run(show=True)"
   ]
  },
  {
   "cell_type": "markdown",
   "metadata": {},
   "source": [
    "### Voting for Two"
   ]
  },
  {
   "cell_type": "code",
   "execution_count": 10,
   "metadata": {},
   "outputs": [
    {
     "name": "stdout",
     "output_type": "stream",
     "text": [
      "Strategic Voting\n"
     ]
    },
    {
     "data": {
      "text/html": [
       "<div>\n",
       "<style scoped>\n",
       "    .dataframe tbody tr th:only-of-type {\n",
       "        vertical-align: middle;\n",
       "    }\n",
       "\n",
       "    .dataframe tbody tr th {\n",
       "        vertical-align: top;\n",
       "    }\n",
       "\n",
       "    .dataframe thead th {\n",
       "        text-align: right;\n",
       "    }\n",
       "</style>\n",
       "<table border=\"1\" class=\"dataframe\">\n",
       "  <thead>\n",
       "    <tr style=\"text-align: right;\">\n",
       "      <th></th>\n",
       "      <th>voter</th>\n",
       "      <th>strategic_voting</th>\n",
       "      <th>new_result</th>\n",
       "      <th>strategic_H</th>\n",
       "      <th>previous_H</th>\n",
       "      <th>strategic_overall_H</th>\n",
       "      <th>previous_overall_H</th>\n",
       "    </tr>\n",
       "  </thead>\n",
       "  <tbody>\n",
       "    <tr>\n",
       "      <th>0</th>\n",
       "      <td>3</td>\n",
       "      <td>[C, B, D, A]</td>\n",
       "      <td>B</td>\n",
       "      <td>0.410487</td>\n",
       "      <td>0.000000</td>\n",
       "      <td>3.589513</td>\n",
       "      <td>3.589513</td>\n",
       "    </tr>\n",
       "    <tr>\n",
       "      <th>1</th>\n",
       "      <td>3</td>\n",
       "      <td>[D, B, C, A]</td>\n",
       "      <td>B</td>\n",
       "      <td>0.410487</td>\n",
       "      <td>0.000000</td>\n",
       "      <td>3.589513</td>\n",
       "      <td>3.589513</td>\n",
       "    </tr>\n",
       "    <tr>\n",
       "      <th>2</th>\n",
       "      <td>3</td>\n",
       "      <td>[B, C, D, A]</td>\n",
       "      <td>B</td>\n",
       "      <td>0.410487</td>\n",
       "      <td>0.000000</td>\n",
       "      <td>3.589513</td>\n",
       "      <td>3.589513</td>\n",
       "    </tr>\n",
       "    <tr>\n",
       "      <th>3</th>\n",
       "      <td>3</td>\n",
       "      <td>[B, D, C, A]</td>\n",
       "      <td>B</td>\n",
       "      <td>0.410487</td>\n",
       "      <td>0.000000</td>\n",
       "      <td>3.589513</td>\n",
       "      <td>3.589513</td>\n",
       "    </tr>\n",
       "    <tr>\n",
       "      <th>4</th>\n",
       "      <td>4</td>\n",
       "      <td>[B, D, A, C]</td>\n",
       "      <td>B</td>\n",
       "      <td>1.000000</td>\n",
       "      <td>0.589513</td>\n",
       "      <td>3.589513</td>\n",
       "      <td>3.589513</td>\n",
       "    </tr>\n",
       "    <tr>\n",
       "      <th>5</th>\n",
       "      <td>4</td>\n",
       "      <td>[B, D, C, A]</td>\n",
       "      <td>B</td>\n",
       "      <td>1.000000</td>\n",
       "      <td>0.589513</td>\n",
       "      <td>3.589513</td>\n",
       "      <td>3.589513</td>\n",
       "    </tr>\n",
       "    <tr>\n",
       "      <th>6</th>\n",
       "      <td>4</td>\n",
       "      <td>[B, C, A, D]</td>\n",
       "      <td>B</td>\n",
       "      <td>1.000000</td>\n",
       "      <td>0.589513</td>\n",
       "      <td>3.589513</td>\n",
       "      <td>3.589513</td>\n",
       "    </tr>\n",
       "    <tr>\n",
       "      <th>7</th>\n",
       "      <td>4</td>\n",
       "      <td>[B, C, D, A]</td>\n",
       "      <td>B</td>\n",
       "      <td>1.000000</td>\n",
       "      <td>0.589513</td>\n",
       "      <td>3.589513</td>\n",
       "      <td>3.589513</td>\n",
       "    </tr>\n",
       "    <tr>\n",
       "      <th>8</th>\n",
       "      <td>4</td>\n",
       "      <td>[D, B, A, C]</td>\n",
       "      <td>B</td>\n",
       "      <td>1.000000</td>\n",
       "      <td>0.589513</td>\n",
       "      <td>3.589513</td>\n",
       "      <td>3.589513</td>\n",
       "    </tr>\n",
       "    <tr>\n",
       "      <th>9</th>\n",
       "      <td>4</td>\n",
       "      <td>[D, B, C, A]</td>\n",
       "      <td>B</td>\n",
       "      <td>1.000000</td>\n",
       "      <td>0.589513</td>\n",
       "      <td>3.589513</td>\n",
       "      <td>3.589513</td>\n",
       "    </tr>\n",
       "    <tr>\n",
       "      <th>10</th>\n",
       "      <td>4</td>\n",
       "      <td>[C, B, A, D]</td>\n",
       "      <td>B</td>\n",
       "      <td>1.000000</td>\n",
       "      <td>0.589513</td>\n",
       "      <td>3.589513</td>\n",
       "      <td>3.589513</td>\n",
       "    </tr>\n",
       "    <tr>\n",
       "      <th>11</th>\n",
       "      <td>4</td>\n",
       "      <td>[C, B, D, A]</td>\n",
       "      <td>B</td>\n",
       "      <td>1.000000</td>\n",
       "      <td>0.589513</td>\n",
       "      <td>3.589513</td>\n",
       "      <td>3.589513</td>\n",
       "    </tr>\n",
       "  </tbody>\n",
       "</table>\n",
       "</div>"
      ],
      "text/plain": [
       "    voter strategic_voting new_result  strategic_H  previous_H  \\\n",
       "0       3     [C, B, D, A]          B     0.410487    0.000000   \n",
       "1       3     [D, B, C, A]          B     0.410487    0.000000   \n",
       "2       3     [B, C, D, A]          B     0.410487    0.000000   \n",
       "3       3     [B, D, C, A]          B     0.410487    0.000000   \n",
       "4       4     [B, D, A, C]          B     1.000000    0.589513   \n",
       "5       4     [B, D, C, A]          B     1.000000    0.589513   \n",
       "6       4     [B, C, A, D]          B     1.000000    0.589513   \n",
       "7       4     [B, C, D, A]          B     1.000000    0.589513   \n",
       "8       4     [D, B, A, C]          B     1.000000    0.589513   \n",
       "9       4     [D, B, C, A]          B     1.000000    0.589513   \n",
       "10      4     [C, B, A, D]          B     1.000000    0.589513   \n",
       "11      4     [C, B, D, A]          B     1.000000    0.589513   \n",
       "\n",
       "    strategic_overall_H  previous_overall_H  \n",
       "0              3.589513            3.589513  \n",
       "1              3.589513            3.589513  \n",
       "2              3.589513            3.589513  \n",
       "3              3.589513            3.589513  \n",
       "4              3.589513            3.589513  \n",
       "5              3.589513            3.589513  \n",
       "6              3.589513            3.589513  \n",
       "7              3.589513            3.589513  \n",
       "8              3.589513            3.589513  \n",
       "9              3.589513            3.589513  \n",
       "10             3.589513            3.589513  \n",
       "11             3.589513            3.589513  "
      ]
     },
     "metadata": {},
     "output_type": "display_data"
    },
    {
     "name": "stdout",
     "output_type": "stream",
     "text": [
      "Best Strategic Voting\n"
     ]
    },
    {
     "data": {
      "text/html": [
       "<div>\n",
       "<style scoped>\n",
       "    .dataframe tbody tr th:only-of-type {\n",
       "        vertical-align: middle;\n",
       "    }\n",
       "\n",
       "    .dataframe tbody tr th {\n",
       "        vertical-align: top;\n",
       "    }\n",
       "\n",
       "    .dataframe thead th {\n",
       "        text-align: right;\n",
       "    }\n",
       "</style>\n",
       "<table border=\"1\" class=\"dataframe\">\n",
       "  <thead>\n",
       "    <tr style=\"text-align: right;\">\n",
       "      <th></th>\n",
       "      <th>voter</th>\n",
       "      <th>strategic_voting</th>\n",
       "      <th>new_result</th>\n",
       "      <th>strategic_H</th>\n",
       "      <th>previous_H</th>\n",
       "      <th>strategic_overall_H</th>\n",
       "      <th>previous_overall_H</th>\n",
       "    </tr>\n",
       "  </thead>\n",
       "  <tbody>\n",
       "    <tr>\n",
       "      <th>4</th>\n",
       "      <td>4</td>\n",
       "      <td>[B, D, A, C]</td>\n",
       "      <td>B</td>\n",
       "      <td>1.000000</td>\n",
       "      <td>0.589513</td>\n",
       "      <td>3.589513</td>\n",
       "      <td>3.589513</td>\n",
       "    </tr>\n",
       "    <tr>\n",
       "      <th>0</th>\n",
       "      <td>3</td>\n",
       "      <td>[C, B, D, A]</td>\n",
       "      <td>B</td>\n",
       "      <td>0.410487</td>\n",
       "      <td>0.000000</td>\n",
       "      <td>3.589513</td>\n",
       "      <td>3.589513</td>\n",
       "    </tr>\n",
       "  </tbody>\n",
       "</table>\n",
       "</div>"
      ],
      "text/plain": [
       "   voter strategic_voting new_result  strategic_H  previous_H  \\\n",
       "4      4     [B, D, A, C]          B     1.000000    0.589513   \n",
       "0      3     [C, B, D, A]          B     0.410487    0.000000   \n",
       "\n",
       "   strategic_overall_H  previous_overall_H  \n",
       "4             3.589513            3.589513  \n",
       "0             3.589513            3.589513  "
      ]
     },
     "metadata": {},
     "output_type": "display_data"
    },
    {
     "name": "stdout",
     "output_type": "stream",
     "text": [
      "Risk: 0.16419463630668746\n"
     ]
    }
   ],
   "source": [
    "vt_s = StrategicVoting(voting, vt_h, for_two_outcome).run(show=True)"
   ]
  },
  {
   "cell_type": "markdown",
   "metadata": {},
   "source": [
    "### Veto Voting"
   ]
  },
  {
   "cell_type": "code",
   "execution_count": 11,
   "metadata": {},
   "outputs": [
    {
     "name": "stdout",
     "output_type": "stream",
     "text": [
      "Strategic Voting\n"
     ]
    },
    {
     "data": {
      "text/html": [
       "<div>\n",
       "<style scoped>\n",
       "    .dataframe tbody tr th:only-of-type {\n",
       "        vertical-align: middle;\n",
       "    }\n",
       "\n",
       "    .dataframe tbody tr th {\n",
       "        vertical-align: top;\n",
       "    }\n",
       "\n",
       "    .dataframe thead th {\n",
       "        text-align: right;\n",
       "    }\n",
       "</style>\n",
       "<table border=\"1\" class=\"dataframe\">\n",
       "  <thead>\n",
       "    <tr style=\"text-align: right;\">\n",
       "      <th></th>\n",
       "      <th>voter</th>\n",
       "      <th>strategic_voting</th>\n",
       "      <th>new_result</th>\n",
       "      <th>strategic_H</th>\n",
       "      <th>previous_H</th>\n",
       "      <th>strategic_overall_H</th>\n",
       "      <th>previous_overall_H</th>\n",
       "    </tr>\n",
       "  </thead>\n",
       "  <tbody>\n",
       "  </tbody>\n",
       "</table>\n",
       "</div>"
      ],
      "text/plain": [
       "Empty DataFrame\n",
       "Columns: [voter, strategic_voting, new_result, strategic_H, previous_H, strategic_overall_H, previous_overall_H]\n",
       "Index: []"
      ]
     },
     "metadata": {},
     "output_type": "display_data"
    },
    {
     "name": "stdout",
     "output_type": "stream",
     "text": [
      "Best Strategic Voting\n"
     ]
    },
    {
     "data": {
      "text/html": [
       "<div>\n",
       "<style scoped>\n",
       "    .dataframe tbody tr th:only-of-type {\n",
       "        vertical-align: middle;\n",
       "    }\n",
       "\n",
       "    .dataframe tbody tr th {\n",
       "        vertical-align: top;\n",
       "    }\n",
       "\n",
       "    .dataframe thead th {\n",
       "        text-align: right;\n",
       "    }\n",
       "</style>\n",
       "<table border=\"1\" class=\"dataframe\">\n",
       "  <thead>\n",
       "    <tr style=\"text-align: right;\">\n",
       "      <th></th>\n",
       "      <th>voter</th>\n",
       "      <th>strategic_voting</th>\n",
       "      <th>new_result</th>\n",
       "      <th>strategic_H</th>\n",
       "      <th>previous_H</th>\n",
       "      <th>strategic_overall_H</th>\n",
       "      <th>previous_overall_H</th>\n",
       "    </tr>\n",
       "  </thead>\n",
       "  <tbody>\n",
       "  </tbody>\n",
       "</table>\n",
       "</div>"
      ],
      "text/plain": [
       "Empty DataFrame\n",
       "Columns: [voter, strategic_voting, new_result, strategic_H, previous_H, strategic_overall_H, previous_overall_H]\n",
       "Index: []"
      ]
     },
     "metadata": {},
     "output_type": "display_data"
    },
    {
     "name": "stdout",
     "output_type": "stream",
     "text": [
      "Risk: 0.0\n"
     ]
    }
   ],
   "source": [
    "vv_s = StrategicVoting(voting, vv_h, veto_outcome).run(show=True)"
   ]
  },
  {
   "cell_type": "markdown",
   "metadata": {},
   "source": [
    "### Borda Voting"
   ]
  },
  {
   "cell_type": "code",
   "execution_count": 14,
   "metadata": {},
   "outputs": [
    {
     "name": "stdout",
     "output_type": "stream",
     "text": [
      "Strategic Voting\n"
     ]
    },
    {
     "data": {
      "text/html": [
       "<div>\n",
       "<style scoped>\n",
       "    .dataframe tbody tr th:only-of-type {\n",
       "        vertical-align: middle;\n",
       "    }\n",
       "\n",
       "    .dataframe tbody tr th {\n",
       "        vertical-align: top;\n",
       "    }\n",
       "\n",
       "    .dataframe thead th {\n",
       "        text-align: right;\n",
       "    }\n",
       "</style>\n",
       "<table border=\"1\" class=\"dataframe\">\n",
       "  <thead>\n",
       "    <tr style=\"text-align: right;\">\n",
       "      <th></th>\n",
       "      <th>voter</th>\n",
       "      <th>strategic_voting</th>\n",
       "      <th>new_result</th>\n",
       "      <th>strategic_H</th>\n",
       "      <th>previous_H</th>\n",
       "      <th>strategic_overall_H</th>\n",
       "      <th>previous_overall_H</th>\n",
       "    </tr>\n",
       "  </thead>\n",
       "  <tbody>\n",
       "    <tr>\n",
       "      <th>0</th>\n",
       "      <td>1</td>\n",
       "      <td>[C, B, D, A]</td>\n",
       "      <td>C</td>\n",
       "      <td>0.410487</td>\n",
       "      <td>0.000000</td>\n",
       "      <td>3.410487</td>\n",
       "      <td>3.589513</td>\n",
       "    </tr>\n",
       "    <tr>\n",
       "      <th>1</th>\n",
       "      <td>1</td>\n",
       "      <td>[C, D, B, A]</td>\n",
       "      <td>C</td>\n",
       "      <td>0.410487</td>\n",
       "      <td>0.000000</td>\n",
       "      <td>3.410487</td>\n",
       "      <td>3.589513</td>\n",
       "    </tr>\n",
       "    <tr>\n",
       "      <th>2</th>\n",
       "      <td>3</td>\n",
       "      <td>[C, B, D, A]</td>\n",
       "      <td>B</td>\n",
       "      <td>0.410487</td>\n",
       "      <td>0.000000</td>\n",
       "      <td>3.589513</td>\n",
       "      <td>3.589513</td>\n",
       "    </tr>\n",
       "    <tr>\n",
       "      <th>3</th>\n",
       "      <td>3</td>\n",
       "      <td>[D, B, C, A]</td>\n",
       "      <td>B</td>\n",
       "      <td>0.410487</td>\n",
       "      <td>0.000000</td>\n",
       "      <td>3.589513</td>\n",
       "      <td>3.589513</td>\n",
       "    </tr>\n",
       "    <tr>\n",
       "      <th>4</th>\n",
       "      <td>3</td>\n",
       "      <td>[B, C, D, A]</td>\n",
       "      <td>B</td>\n",
       "      <td>0.410487</td>\n",
       "      <td>0.000000</td>\n",
       "      <td>3.589513</td>\n",
       "      <td>3.589513</td>\n",
       "    </tr>\n",
       "    <tr>\n",
       "      <th>5</th>\n",
       "      <td>3</td>\n",
       "      <td>[B, D, C, A]</td>\n",
       "      <td>B</td>\n",
       "      <td>0.410487</td>\n",
       "      <td>0.000000</td>\n",
       "      <td>3.589513</td>\n",
       "      <td>3.589513</td>\n",
       "    </tr>\n",
       "    <tr>\n",
       "      <th>6</th>\n",
       "      <td>4</td>\n",
       "      <td>[B, D, A, C]</td>\n",
       "      <td>B</td>\n",
       "      <td>1.000000</td>\n",
       "      <td>0.589513</td>\n",
       "      <td>3.589513</td>\n",
       "      <td>3.589513</td>\n",
       "    </tr>\n",
       "    <tr>\n",
       "      <th>7</th>\n",
       "      <td>4</td>\n",
       "      <td>[B, D, C, A]</td>\n",
       "      <td>B</td>\n",
       "      <td>1.000000</td>\n",
       "      <td>0.589513</td>\n",
       "      <td>3.589513</td>\n",
       "      <td>3.589513</td>\n",
       "    </tr>\n",
       "  </tbody>\n",
       "</table>\n",
       "</div>"
      ],
      "text/plain": [
       "   voter strategic_voting new_result  strategic_H  previous_H  \\\n",
       "0      1     [C, B, D, A]          C     0.410487    0.000000   \n",
       "1      1     [C, D, B, A]          C     0.410487    0.000000   \n",
       "2      3     [C, B, D, A]          B     0.410487    0.000000   \n",
       "3      3     [D, B, C, A]          B     0.410487    0.000000   \n",
       "4      3     [B, C, D, A]          B     0.410487    0.000000   \n",
       "5      3     [B, D, C, A]          B     0.410487    0.000000   \n",
       "6      4     [B, D, A, C]          B     1.000000    0.589513   \n",
       "7      4     [B, D, C, A]          B     1.000000    0.589513   \n",
       "\n",
       "   strategic_overall_H  previous_overall_H  \n",
       "0             3.410487            3.589513  \n",
       "1             3.410487            3.589513  \n",
       "2             3.589513            3.589513  \n",
       "3             3.589513            3.589513  \n",
       "4             3.589513            3.589513  \n",
       "5             3.589513            3.589513  \n",
       "6             3.589513            3.589513  \n",
       "7             3.589513            3.589513  "
      ]
     },
     "metadata": {},
     "output_type": "display_data"
    },
    {
     "name": "stdout",
     "output_type": "stream",
     "text": [
      "Best Strategic Voting\n"
     ]
    },
    {
     "data": {
      "text/html": [
       "<div>\n",
       "<style scoped>\n",
       "    .dataframe tbody tr th:only-of-type {\n",
       "        vertical-align: middle;\n",
       "    }\n",
       "\n",
       "    .dataframe tbody tr th {\n",
       "        vertical-align: top;\n",
       "    }\n",
       "\n",
       "    .dataframe thead th {\n",
       "        text-align: right;\n",
       "    }\n",
       "</style>\n",
       "<table border=\"1\" class=\"dataframe\">\n",
       "  <thead>\n",
       "    <tr style=\"text-align: right;\">\n",
       "      <th></th>\n",
       "      <th>voter</th>\n",
       "      <th>strategic_voting</th>\n",
       "      <th>new_result</th>\n",
       "      <th>strategic_H</th>\n",
       "      <th>previous_H</th>\n",
       "      <th>strategic_overall_H</th>\n",
       "      <th>previous_overall_H</th>\n",
       "    </tr>\n",
       "  </thead>\n",
       "  <tbody>\n",
       "    <tr>\n",
       "      <th>6</th>\n",
       "      <td>4</td>\n",
       "      <td>[B, D, A, C]</td>\n",
       "      <td>B</td>\n",
       "      <td>1.000000</td>\n",
       "      <td>0.589513</td>\n",
       "      <td>3.589513</td>\n",
       "      <td>3.589513</td>\n",
       "    </tr>\n",
       "    <tr>\n",
       "      <th>2</th>\n",
       "      <td>3</td>\n",
       "      <td>[C, B, D, A]</td>\n",
       "      <td>B</td>\n",
       "      <td>0.410487</td>\n",
       "      <td>0.000000</td>\n",
       "      <td>3.589513</td>\n",
       "      <td>3.589513</td>\n",
       "    </tr>\n",
       "    <tr>\n",
       "      <th>0</th>\n",
       "      <td>1</td>\n",
       "      <td>[C, B, D, A]</td>\n",
       "      <td>C</td>\n",
       "      <td>0.410487</td>\n",
       "      <td>0.000000</td>\n",
       "      <td>3.410487</td>\n",
       "      <td>3.589513</td>\n",
       "    </tr>\n",
       "  </tbody>\n",
       "</table>\n",
       "</div>"
      ],
      "text/plain": [
       "   voter strategic_voting new_result  strategic_H  previous_H  \\\n",
       "6      4     [B, D, A, C]          B     1.000000    0.589513   \n",
       "2      3     [C, B, D, A]          B     0.410487    0.000000   \n",
       "0      1     [C, B, D, A]          C     0.410487    0.000000   \n",
       "\n",
       "   strategic_overall_H  previous_overall_H  \n",
       "6             3.589513            3.589513  \n",
       "2             3.589513            3.589513  \n",
       "0             3.410487            3.589513  "
      ]
     },
     "metadata": {},
     "output_type": "display_data"
    },
    {
     "name": "stdout",
     "output_type": "stream",
     "text": [
      "Risk: 0.2462919544600312\n"
     ]
    }
   ],
   "source": [
    "bv_s = StrategicVoting(voting, bv_h, borda_outcome).run(show=True)"
   ]
  },
  {
   "cell_type": "markdown",
   "metadata": {},
   "source": [
    "## Coalitions"
   ]
  },
  {
   "cell_type": "markdown",
   "metadata": {},
   "source": [
    "### Plurality Voting"
   ]
  },
  {
   "cell_type": "code",
   "execution_count": 15,
   "metadata": {},
   "outputs": [
    {
     "name": "stdout",
     "output_type": "stream",
     "text": [
      "Pushing B made everyone in the group 5 happier, here the new winner:   {'A': 0, 'B': 4, 'C': 3, 'D': 0}\n",
      "is it stable?\n",
      "True\n",
      "Pushing B made everyone in the group 10 happier, here the new winner:   {'A': 0, 'B': 4, 'C': 3, 'D': 0}\n",
      "is it stable?\n",
      "True\n"
     ]
    },
    {
     "data": {
      "text/html": [
       "<div>\n",
       "<style scoped>\n",
       "    .dataframe tbody tr th:only-of-type {\n",
       "        vertical-align: middle;\n",
       "    }\n",
       "\n",
       "    .dataframe tbody tr th {\n",
       "        vertical-align: top;\n",
       "    }\n",
       "\n",
       "    .dataframe thead th {\n",
       "        text-align: right;\n",
       "    }\n",
       "</style>\n",
       "<table border=\"1\" class=\"dataframe\">\n",
       "  <thead>\n",
       "    <tr style=\"text-align: right;\">\n",
       "      <th></th>\n",
       "      <th>coalition_group</th>\n",
       "      <th>voter</th>\n",
       "      <th>strategic_voting</th>\n",
       "      <th>is_stable</th>\n",
       "      <th>new_result</th>\n",
       "      <th>strategic_H</th>\n",
       "      <th>previous_H</th>\n",
       "      <th>strategic_overall_H</th>\n",
       "      <th>previous_overall_H</th>\n",
       "    </tr>\n",
       "  </thead>\n",
       "  <tbody>\n",
       "    <tr>\n",
       "      <th>0</th>\n",
       "      <td>5</td>\n",
       "      <td>5</td>\n",
       "      <td>[B, A, D, C]</td>\n",
       "      <td>True</td>\n",
       "      <td>B</td>\n",
       "      <td>0.589513</td>\n",
       "      <td>0.000000</td>\n",
       "      <td>3.589513</td>\n",
       "      <td>3.410487</td>\n",
       "    </tr>\n",
       "    <tr>\n",
       "      <th>1</th>\n",
       "      <td>5</td>\n",
       "      <td>6</td>\n",
       "      <td>[B, A, D, C]</td>\n",
       "      <td>True</td>\n",
       "      <td>B</td>\n",
       "      <td>0.589513</td>\n",
       "      <td>0.000000</td>\n",
       "      <td>3.589513</td>\n",
       "      <td>3.410487</td>\n",
       "    </tr>\n",
       "    <tr>\n",
       "      <th>2</th>\n",
       "      <td>10</td>\n",
       "      <td>1</td>\n",
       "      <td>[B, D, C, A]</td>\n",
       "      <td>True</td>\n",
       "      <td>B</td>\n",
       "      <td>1.000000</td>\n",
       "      <td>0.410487</td>\n",
       "      <td>3.589513</td>\n",
       "      <td>3.410487</td>\n",
       "    </tr>\n",
       "    <tr>\n",
       "      <th>3</th>\n",
       "      <td>10</td>\n",
       "      <td>5</td>\n",
       "      <td>[B, A, D, C]</td>\n",
       "      <td>True</td>\n",
       "      <td>B</td>\n",
       "      <td>0.589513</td>\n",
       "      <td>0.000000</td>\n",
       "      <td>3.589513</td>\n",
       "      <td>3.410487</td>\n",
       "    </tr>\n",
       "    <tr>\n",
       "      <th>4</th>\n",
       "      <td>10</td>\n",
       "      <td>6</td>\n",
       "      <td>[B, A, D, C]</td>\n",
       "      <td>True</td>\n",
       "      <td>B</td>\n",
       "      <td>0.589513</td>\n",
       "      <td>0.000000</td>\n",
       "      <td>3.589513</td>\n",
       "      <td>3.410487</td>\n",
       "    </tr>\n",
       "  </tbody>\n",
       "</table>\n",
       "</div>"
      ],
      "text/plain": [
       "   coalition_group  voter strategic_voting  is_stable new_result  strategic_H  \\\n",
       "0                5      5     [B, A, D, C]       True          B     0.589513   \n",
       "1                5      6     [B, A, D, C]       True          B     0.589513   \n",
       "2               10      1     [B, D, C, A]       True          B     1.000000   \n",
       "3               10      5     [B, A, D, C]       True          B     0.589513   \n",
       "4               10      6     [B, A, D, C]       True          B     0.589513   \n",
       "\n",
       "   previous_H  strategic_overall_H  previous_overall_H  \n",
       "0    0.000000             3.589513            3.410487  \n",
       "1    0.000000             3.589513            3.410487  \n",
       "2    0.410487             3.589513            3.410487  \n",
       "3    0.000000             3.589513            3.410487  \n",
       "4    0.000000             3.589513            3.410487  "
      ]
     },
     "metadata": {},
     "output_type": "display_data"
    }
   ],
   "source": [
    "c_pv = find_stable_coalitions_by_compromising(\n",
    "    4,\n",
    "    pd.DataFrame(voting).T,\n",
    "    pv_h,\n",
    "    outcomes[VotingSchemas.PLURALITY_VOTING.value],\n",
    "    VotingSchemas.PLURALITY_VOTING,\n",
    "    plurality_outcome,\n",
    ")\n",
    "\n",
    "display(c_pv)"
   ]
  },
  {
   "cell_type": "markdown",
   "metadata": {},
   "source": [
    "### Borda Voting"
   ]
  },
  {
   "cell_type": "code",
   "execution_count": 16,
   "metadata": {},
   "outputs": [
    {
     "name": "stdout",
     "output_type": "stream",
     "text": [
      "Pushing D made everyone in the group 5 happier, here the new winner:   {'A': 11, 'B': 11, 'C': 8, 'D': 12}\n",
      "is it stable?\n",
      "True\n",
      "Pushing C made everyone in the group 10 happier, here the new winner:   {'A': 11, 'B': 10, 'C': 12, 'D': 9}\n",
      "is it stable?\n",
      "True\n",
      "Pushing D made everyone in the group 10 happier, here the new winner:   {'A': 11, 'B': 10, 'C': 8, 'D': 13}\n",
      "is it stable?\n",
      "True\n"
     ]
    },
    {
     "data": {
      "text/html": [
       "<div>\n",
       "<style scoped>\n",
       "    .dataframe tbody tr th:only-of-type {\n",
       "        vertical-align: middle;\n",
       "    }\n",
       "\n",
       "    .dataframe tbody tr th {\n",
       "        vertical-align: top;\n",
       "    }\n",
       "\n",
       "    .dataframe thead th {\n",
       "        text-align: right;\n",
       "    }\n",
       "</style>\n",
       "<table border=\"1\" class=\"dataframe\">\n",
       "  <thead>\n",
       "    <tr style=\"text-align: right;\">\n",
       "      <th></th>\n",
       "      <th>coalition_group</th>\n",
       "      <th>voter</th>\n",
       "      <th>strategic_voting</th>\n",
       "      <th>is_stable</th>\n",
       "      <th>new_result</th>\n",
       "      <th>strategic_H</th>\n",
       "      <th>previous_H</th>\n",
       "      <th>strategic_overall_H</th>\n",
       "      <th>previous_overall_H</th>\n",
       "    </tr>\n",
       "  </thead>\n",
       "  <tbody>\n",
       "    <tr>\n",
       "      <th>0</th>\n",
       "      <td>5</td>\n",
       "      <td>2</td>\n",
       "      <td>[D, C, A, B]</td>\n",
       "      <td>True</td>\n",
       "      <td>D</td>\n",
       "      <td>0.589513</td>\n",
       "      <td>0.410487</td>\n",
       "      <td>3.410487</td>\n",
       "      <td>3.589513</td>\n",
       "    </tr>\n",
       "    <tr>\n",
       "      <th>1</th>\n",
       "      <td>5</td>\n",
       "      <td>3</td>\n",
       "      <td>[D, C, B, A]</td>\n",
       "      <td>True</td>\n",
       "      <td>D</td>\n",
       "      <td>0.589513</td>\n",
       "      <td>0.000000</td>\n",
       "      <td>3.410487</td>\n",
       "      <td>3.589513</td>\n",
       "    </tr>\n",
       "    <tr>\n",
       "      <th>2</th>\n",
       "      <td>10</td>\n",
       "      <td>1</td>\n",
       "      <td>[C, B, D, A]</td>\n",
       "      <td>True</td>\n",
       "      <td>C</td>\n",
       "      <td>0.410487</td>\n",
       "      <td>0.000000</td>\n",
       "      <td>3.410487</td>\n",
       "      <td>3.589513</td>\n",
       "    </tr>\n",
       "    <tr>\n",
       "      <th>3</th>\n",
       "      <td>10</td>\n",
       "      <td>2</td>\n",
       "      <td>[C, D, A, B]</td>\n",
       "      <td>True</td>\n",
       "      <td>C</td>\n",
       "      <td>1.000000</td>\n",
       "      <td>0.410487</td>\n",
       "      <td>3.410487</td>\n",
       "      <td>3.589513</td>\n",
       "    </tr>\n",
       "    <tr>\n",
       "      <th>4</th>\n",
       "      <td>10</td>\n",
       "      <td>3</td>\n",
       "      <td>[C, D, B, A]</td>\n",
       "      <td>True</td>\n",
       "      <td>C</td>\n",
       "      <td>1.000000</td>\n",
       "      <td>0.000000</td>\n",
       "      <td>3.410487</td>\n",
       "      <td>3.589513</td>\n",
       "    </tr>\n",
       "    <tr>\n",
       "      <th>5</th>\n",
       "      <td>10</td>\n",
       "      <td>1</td>\n",
       "      <td>[D, B, C, A]</td>\n",
       "      <td>True</td>\n",
       "      <td>D</td>\n",
       "      <td>0.589513</td>\n",
       "      <td>0.000000</td>\n",
       "      <td>3.410487</td>\n",
       "      <td>3.589513</td>\n",
       "    </tr>\n",
       "    <tr>\n",
       "      <th>6</th>\n",
       "      <td>10</td>\n",
       "      <td>2</td>\n",
       "      <td>[D, C, A, B]</td>\n",
       "      <td>True</td>\n",
       "      <td>D</td>\n",
       "      <td>0.589513</td>\n",
       "      <td>0.410487</td>\n",
       "      <td>3.410487</td>\n",
       "      <td>3.589513</td>\n",
       "    </tr>\n",
       "    <tr>\n",
       "      <th>7</th>\n",
       "      <td>10</td>\n",
       "      <td>3</td>\n",
       "      <td>[D, C, B, A]</td>\n",
       "      <td>True</td>\n",
       "      <td>D</td>\n",
       "      <td>0.589513</td>\n",
       "      <td>0.000000</td>\n",
       "      <td>3.410487</td>\n",
       "      <td>3.589513</td>\n",
       "    </tr>\n",
       "  </tbody>\n",
       "</table>\n",
       "</div>"
      ],
      "text/plain": [
       "   coalition_group  voter strategic_voting  is_stable new_result  strategic_H  \\\n",
       "0                5      2     [D, C, A, B]       True          D     0.589513   \n",
       "1                5      3     [D, C, B, A]       True          D     0.589513   \n",
       "2               10      1     [C, B, D, A]       True          C     0.410487   \n",
       "3               10      2     [C, D, A, B]       True          C     1.000000   \n",
       "4               10      3     [C, D, B, A]       True          C     1.000000   \n",
       "5               10      1     [D, B, C, A]       True          D     0.589513   \n",
       "6               10      2     [D, C, A, B]       True          D     0.589513   \n",
       "7               10      3     [D, C, B, A]       True          D     0.589513   \n",
       "\n",
       "   previous_H  strategic_overall_H  previous_overall_H  \n",
       "0    0.410487             3.410487            3.589513  \n",
       "1    0.000000             3.410487            3.589513  \n",
       "2    0.000000             3.410487            3.589513  \n",
       "3    0.410487             3.410487            3.589513  \n",
       "4    0.000000             3.410487            3.589513  \n",
       "5    0.000000             3.410487            3.589513  \n",
       "6    0.410487             3.410487            3.589513  \n",
       "7    0.000000             3.410487            3.589513  "
      ]
     },
     "metadata": {},
     "output_type": "display_data"
    }
   ],
   "source": [
    "cp_bv = find_stable_coalitions_by_compromising(\n",
    "    4,\n",
    "    pd.DataFrame(voting).T,\n",
    "    bv_h,\n",
    "    outcomes[VotingSchemas.BORDA_VOTING.value],\n",
    "    VotingSchemas.BORDA_VOTING,\n",
    "    borda_outcome,\n",
    ")\n",
    "display(cp_bv)"
   ]
  }
 ],
 "metadata": {
  "kernelspec": {
   "display_name": "venv",
   "language": "python",
   "name": "python3"
  },
  "language_info": {
   "codemirror_mode": {
    "name": "ipython",
    "version": 3
   },
   "file_extension": ".py",
   "mimetype": "text/x-python",
   "name": "python",
   "nbconvert_exporter": "python",
   "pygments_lexer": "ipython3",
   "version": "3.10.12"
  }
 },
 "nbformat": 4,
 "nbformat_minor": 2
}
