{
 "cells": [
  {
   "cell_type": "markdown",
   "metadata": {},
   "source": [
    "# TVA"
   ]
  },
  {
   "cell_type": "code",
   "execution_count": 1,
   "metadata": {},
   "outputs": [],
   "source": [
    "import warnings\n",
    "\n",
    "warnings.filterwarnings(\"ignore\")\n",
    "\n",
    "import numpy as np\n",
    "from src import utils\n",
    "import pandas as pd\n",
    "import matplotlib.pyplot as plt\n",
    "import os"
   ]
  },
  {
   "cell_type": "code",
   "execution_count": 24,
   "metadata": {},
   "outputs": [],
   "source": [
    "path_voting = \"input/voting_result.json\"\n",
    "if \"env\" in os.environ:\n",
    "    if os.environ[\"env\"] == \"docker\":\n",
    "        path_voting = \"/input/voting_result.json\""
   ]
  },
  {
   "cell_type": "markdown",
   "metadata": {},
   "source": [
    "This is the voting input"
   ]
  },
  {
   "cell_type": "code",
   "execution_count": 25,
   "metadata": {},
   "outputs": [
    {
     "data": {
      "text/html": [
       "<div>\n",
       "<style scoped>\n",
       "    .dataframe tbody tr th:only-of-type {\n",
       "        vertical-align: middle;\n",
       "    }\n",
       "\n",
       "    .dataframe tbody tr th {\n",
       "        vertical-align: top;\n",
       "    }\n",
       "\n",
       "    .dataframe thead th {\n",
       "        text-align: right;\n",
       "    }\n",
       "</style>\n",
       "<table border=\"1\" class=\"dataframe\">\n",
       "  <thead>\n",
       "    <tr style=\"text-align: right;\">\n",
       "      <th></th>\n",
       "      <th>voter_0</th>\n",
       "      <th>voter_1</th>\n",
       "      <th>voter_2</th>\n",
       "      <th>voter_3</th>\n",
       "      <th>voter_4</th>\n",
       "    </tr>\n",
       "  </thead>\n",
       "  <tbody>\n",
       "    <tr>\n",
       "      <th>preference_0</th>\n",
       "      <td>C</td>\n",
       "      <td>B</td>\n",
       "      <td>C</td>\n",
       "      <td>B</td>\n",
       "      <td>B</td>\n",
       "    </tr>\n",
       "    <tr>\n",
       "      <th>preference_1</th>\n",
       "      <td>A</td>\n",
       "      <td>D</td>\n",
       "      <td>D</td>\n",
       "      <td>D</td>\n",
       "      <td>A</td>\n",
       "    </tr>\n",
       "    <tr>\n",
       "      <th>preference_2</th>\n",
       "      <td>D</td>\n",
       "      <td>C</td>\n",
       "      <td>A</td>\n",
       "      <td>C</td>\n",
       "      <td>D</td>\n",
       "    </tr>\n",
       "    <tr>\n",
       "      <th>preference_3</th>\n",
       "      <td>B</td>\n",
       "      <td>A</td>\n",
       "      <td>B</td>\n",
       "      <td>A</td>\n",
       "      <td>C</td>\n",
       "    </tr>\n",
       "  </tbody>\n",
       "</table>\n",
       "</div>"
      ],
      "text/plain": [
       "             voter_0 voter_1 voter_2 voter_3 voter_4\n",
       "preference_0       C       B       C       B       B\n",
       "preference_1       A       D       D       D       A\n",
       "preference_2       D       C       A       C       D\n",
       "preference_3       B       A       B       A       C"
      ]
     },
     "execution_count": 25,
     "metadata": {},
     "output_type": "execute_result"
    }
   ],
   "source": [
    "voting = utils.read_voting(path_voting)\n",
    "p, v = voting.shape\n",
    "voting_table = pd.DataFrame(\n",
    "    voting, columns=[f\"voter_{i}\" for i in range(v)], index=[f\"preference_{i}\" for i in range(p)]\n",
    ")\n",
    "voting_table"
   ]
  },
  {
   "cell_type": "markdown",
   "metadata": {},
   "source": [
    "This is just a random plot."
   ]
  },
  {
   "cell_type": "code",
   "execution_count": 4,
   "metadata": {},
   "outputs": [
    {
     "data": {
      "image/png": "[encoded data removed]",
      "text/plain": [
       "<Figure size 640x480 with 1 Axes>"
      ]
     },
     "metadata": {},
     "output_type": "display_data"
    }
   ],
   "source": [
    "# Generating random data\n",
    "x = np.random.rand(50)\n",
    "y = np.random.rand(50)\n",
    "\n",
    "# Creating the plot\n",
    "plt.scatter(x, y)\n",
    "plt.title(\"Random Plot\")\n",
    "plt.xlabel(\"X-axis\")\n",
    "plt.ylabel(\"Y-axis\")\n",
    "plt.grid(True)\n",
    "plt.show()"
   ]
  },
  {
   "cell_type": "markdown",
   "metadata": {},
   "source": [
    "# Happiness Level"
   ]
  },
  {
   "cell_type": "markdown",
   "metadata": {},
   "source": [
    "$\n",
    "HL_i = 1 - \\frac{|\\sum_{j \\in \\hat{A}}{(P_{ij} - \\hat{P_{j}})}|}{|\\hat{A}|}\n",
    "$"
   ]
  },
  {
   "cell_type": "code",
   "execution_count": 44,
   "metadata": {},
   "outputs": [
    {
     "name": "stdout",
     "output_type": "stream",
     "text": [
      "-0.5\n"
     ]
    }
   ],
   "source": [
    "voter_1 = s[:, 0]\n",
    "outcome = {\"B\": 3, \"C\": 2, \"D\": 1, \"A\": 0}\n",
    "preference_voter_1 = {k: (p - i -1) for k, i in zip(voter_1, range(p))}\n",
    "p, v = s.shape\n",
    "\n",
    "sum_buffer = 0\n",
    "for k in preference_voter_1:\n",
    "    sum_buffer += np.abs(preference_voter_1[k] - outcome[k])\n",
    "\n",
    "hl_1 = 1-np.divide(sum_buffer, p)\n",
    "print(hl_1)"
   ]
  },
  {
   "cell_type": "code",
   "execution_count": 43,
   "metadata": {},
   "outputs": [
    {
     "data": {
      "text/plain": [
       "{'C': 3, 'A': 2, 'D': 1, 'B': 0}"
      ]
     },
     "execution_count": 43,
     "metadata": {},
     "output_type": "execute_result"
    }
   ],
   "source": [
    "preference_voter_1"
   ]
  },
  {
   "cell_type": "code",
   "execution_count": 35,
   "metadata": {},
   "outputs": [],
   "source": [
    "s = np.array([\n",
    "    [\"C\", \"B\", \"C\", \"B\", \"B\"],\n",
    "    [\"A\", \"D\", \"D\", \"D\", \"A\"],\n",
    "    [\"D\", \"C\", \"A\", \"C\", \"D\"],\n",
    "    [\"B\", \"A\", \"B\", \"A\", \"C\"],\n",
    "])\n",
    "\n",
    "def borda_voting(s: np.array) -> dict:\n",
    "    p, v = s.shape\n",
    "    alternatives = np.unique(s)\n",
    "    alternatives_votes = {a: 0 for a in alternatives}\n",
    "\n",
    "    for i in range(p):\n",
    "        p_i_alternatives, counts = np.unique(s[i, :], return_counts=True, )\n",
    "        for p_i, c in zip(p_i_alternatives, counts):\n",
    "            alternatives_votes[p_i] += (p - i - 1) * c\n",
    "            \n",
    "    # TODO: Return ordered result\n",
    "            \n",
    "    return alternatives_votes"
   ]
  },
  {
   "cell_type": "code",
   "execution_count": 40,
   "metadata": {},
   "outputs": [
    {
     "data": {
      "text/plain": [
       "{'A': 5, 'B': 9, 'C': 8, 'D': 8}"
      ]
     },
     "execution_count": 40,
     "metadata": {},
     "output_type": "execute_result"
    }
   ],
   "source": [
    "borda_voting(s)"
   ]
  }
 ],
 "metadata": {
  "kernelspec": {
   "display_name": "venv",
   "language": "python",
   "name": "python3"
  },
  "language_info": {
   "codemirror_mode": {
    "name": "ipython",
    "version": 3
   },
   "file_extension": ".py",
   "mimetype": "text/x-python",
   "name": "python",
   "nbconvert_exporter": "python",
   "pygments_lexer": "ipython3",
   "version": "3.10.12"
  }
 },
 "nbformat": 4,
 "nbformat_minor": 2
}
