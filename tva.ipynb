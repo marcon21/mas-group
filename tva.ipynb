{
 "cells": [
  {
   "cell_type": "markdown",
   "metadata": {},
   "source": [
    "# TVA"
   ]
  },
  {
   "cell_type": "code",
   "execution_count": 1,
   "metadata": {},
   "outputs": [],
   "source": [
    "import warnings\n",
    "\n",
    "warnings.filterwarnings(\"ignore\")\n",
    "\n",
    "from src import utils\n",
    "from src.utils import VotingSchemas\n",
    "from src.outcomes import *\n",
    "from src.happiness_level import HappinessLevel\n",
    "from src.strategic_voting_risk import StrategicVoting\n",
    "import os\n",
    "import numpy as np"
   ]
  },
  {
   "cell_type": "code",
   "execution_count": 2,
   "metadata": {},
   "outputs": [],
   "source": [
    "path_voting = \"input/voting_result.json\"\n",
    "if \"env\" in os.environ:\n",
    "    if os.environ[\"env\"] == \"docker\":\n",
    "        path_voting = \"/input/voting_result.json\""
   ]
  },
  {
   "cell_type": "markdown",
   "metadata": {},
   "source": [
    "## Input Voting Preference"
   ]
  },
  {
   "cell_type": "code",
   "execution_count": 3,
   "metadata": {},
   "outputs": [
    {
     "data": {
      "text/html": [
       "<div>\n",
       "<style scoped>\n",
       "    .dataframe tbody tr th:only-of-type {\n",
       "        vertical-align: middle;\n",
       "    }\n",
       "\n",
       "    .dataframe tbody tr th {\n",
       "        vertical-align: top;\n",
       "    }\n",
       "\n",
       "    .dataframe thead th {\n",
       "        text-align: right;\n",
       "    }\n",
       "</style>\n",
       "<table border=\"1\" class=\"dataframe\">\n",
       "  <thead>\n",
       "    <tr style=\"text-align: right;\">\n",
       "      <th></th>\n",
       "      <th>voter_0</th>\n",
       "      <th>voter_1</th>\n",
       "      <th>voter_2</th>\n",
       "      <th>voter_3</th>\n",
       "      <th>voter_4</th>\n",
       "      <th>voter_5</th>\n",
       "    </tr>\n",
       "  </thead>\n",
       "  <tbody>\n",
       "    <tr>\n",
       "      <th>preference_0</th>\n",
       "      <td>C</td>\n",
       "      <td>B</td>\n",
       "      <td>C</td>\n",
       "      <td>C</td>\n",
       "      <td>B</td>\n",
       "      <td>A</td>\n",
       "    </tr>\n",
       "    <tr>\n",
       "      <th>preference_1</th>\n",
       "      <td>A</td>\n",
       "      <td>D</td>\n",
       "      <td>D</td>\n",
       "      <td>D</td>\n",
       "      <td>A</td>\n",
       "      <td>D</td>\n",
       "    </tr>\n",
       "    <tr>\n",
       "      <th>preference_2</th>\n",
       "      <td>D</td>\n",
       "      <td>C</td>\n",
       "      <td>A</td>\n",
       "      <td>B</td>\n",
       "      <td>D</td>\n",
       "      <td>B</td>\n",
       "    </tr>\n",
       "    <tr>\n",
       "      <th>preference_3</th>\n",
       "      <td>B</td>\n",
       "      <td>A</td>\n",
       "      <td>B</td>\n",
       "      <td>A</td>\n",
       "      <td>C</td>\n",
       "      <td>C</td>\n",
       "    </tr>\n",
       "  </tbody>\n",
       "</table>\n",
       "</div>"
      ],
      "text/plain": [
       "             voter_0 voter_1 voter_2 voter_3 voter_4 voter_5\n",
       "preference_0       C       B       C       C       B       A\n",
       "preference_1       A       D       D       D       A       D\n",
       "preference_2       D       C       A       B       D       B\n",
       "preference_3       B       A       B       A       C       C"
      ]
     },
     "execution_count": 3,
     "metadata": {},
     "output_type": "execute_result"
    }
   ],
   "source": [
    "voting = utils.read_voting(path_voting, table_name=\"voting5\")\n",
    "voting.to_pandas()"
   ]
  },
  {
   "cell_type": "markdown",
   "metadata": {},
   "source": [
    "## Voting Outcomes"
   ]
  },
  {
   "cell_type": "code",
   "execution_count": 4,
   "metadata": {},
   "outputs": [
    {
     "data": {
      "text/html": [
       "<div>\n",
       "<style scoped>\n",
       "    .dataframe tbody tr th:only-of-type {\n",
       "        vertical-align: middle;\n",
       "    }\n",
       "\n",
       "    .dataframe tbody tr th {\n",
       "        vertical-align: top;\n",
       "    }\n",
       "\n",
       "    .dataframe thead th {\n",
       "        text-align: right;\n",
       "    }\n",
       "</style>\n",
       "<table border=\"1\" class=\"dataframe\">\n",
       "  <thead>\n",
       "    <tr style=\"text-align: right;\">\n",
       "      <th></th>\n",
       "      <th>A</th>\n",
       "      <th>B</th>\n",
       "      <th>C</th>\n",
       "      <th>D</th>\n",
       "      <th>Winner</th>\n",
       "    </tr>\n",
       "  </thead>\n",
       "  <tbody>\n",
       "    <tr>\n",
       "      <th>Plurality Voting</th>\n",
       "      <td>1</td>\n",
       "      <td>2</td>\n",
       "      <td>3</td>\n",
       "      <td>0</td>\n",
       "      <td>C</td>\n",
       "    </tr>\n",
       "    <tr>\n",
       "      <th>Voting for Two</th>\n",
       "      <td>3</td>\n",
       "      <td>2</td>\n",
       "      <td>3</td>\n",
       "      <td>4</td>\n",
       "      <td>D</td>\n",
       "    </tr>\n",
       "    <tr>\n",
       "      <th>Veto Voting</th>\n",
       "      <td>4</td>\n",
       "      <td>4</td>\n",
       "      <td>4</td>\n",
       "      <td>6</td>\n",
       "      <td>D</td>\n",
       "    </tr>\n",
       "    <tr>\n",
       "      <th>Borda Voting</th>\n",
       "      <td>8</td>\n",
       "      <td>8</td>\n",
       "      <td>10</td>\n",
       "      <td>10</td>\n",
       "      <td>C</td>\n",
       "    </tr>\n",
       "  </tbody>\n",
       "</table>\n",
       "</div>"
      ],
      "text/plain": [
       "                  A  B   C   D Winner\n",
       "Plurality Voting  1  2   3   0      C\n",
       "Voting for Two    3  2   3   4      D\n",
       "Veto Voting       4  4   4   6      D\n",
       "Borda Voting      8  8  10  10      C"
      ]
     },
     "execution_count": 4,
     "metadata": {},
     "output_type": "execute_result"
    }
   ],
   "source": [
    "outcomes = all_schemas_outcomes(voting)\n",
    "outcomes_df = all_schemas_outcomes_to_pandas(outcomes)\n",
    "outcomes_df"
   ]
  },
  {
   "cell_type": "markdown",
   "metadata": {},
   "source": [
    "## Happiness Level"
   ]
  },
  {
   "cell_type": "markdown",
   "metadata": {},
   "source": [
    "### Plurality Voting"
   ]
  },
  {
   "cell_type": "code",
   "execution_count": 5,
   "metadata": {},
   "outputs": [],
   "source": [
    "pv_h = HappinessLevel(\n",
    "    voting,\n",
    "    outcomes[VotingSchemas.PLURALITY_VOTING.value].winner,\n",
    "    VotingSchemas.PLURALITY_VOTING,\n",
    ").run(show=True)"
   ]
  },
  {
   "cell_type": "markdown",
   "metadata": {},
   "source": [
    "### Voting for Two"
   ]
  },
  {
   "cell_type": "code",
   "execution_count": 6,
   "metadata": {},
   "outputs": [],
   "source": [
    "vt_h = HappinessLevel(\n",
    "    voting,\n",
    "    outcomes[VotingSchemas.VOTING_FOR_TWO.value].winner,\n",
    "    VotingSchemas.VOTING_FOR_TWO,\n",
    ").run(show=True)"
   ]
  },
  {
   "cell_type": "markdown",
   "metadata": {},
   "source": [
    "### Veto Voting"
   ]
  },
  {
   "cell_type": "code",
   "execution_count": 7,
   "metadata": {},
   "outputs": [],
   "source": [
    "vv_h = HappinessLevel(\n",
    "    voting,\n",
    "    outcomes[VotingSchemas.VETO_VOTING.value].winner,\n",
    "    VotingSchemas.VETO_VOTING,\n",
    ").run(show=True)"
   ]
  },
  {
   "cell_type": "markdown",
   "metadata": {},
   "source": [
    "### Borda Voting"
   ]
  },
  {
   "cell_type": "code",
   "execution_count": 8,
   "metadata": {},
   "outputs": [],
   "source": [
    "bv_h = HappinessLevel(\n",
    "    voting,\n",
    "    outcomes[VotingSchemas.BORDA_VOTING.value].winner,\n",
    "    VotingSchemas.BORDA_VOTING,\n",
    ").run(show=True)"
   ]
  },
  {
   "cell_type": "markdown",
   "metadata": {},
   "source": [
    "## Strategic Voting"
   ]
  },
  {
   "cell_type": "markdown",
   "metadata": {},
   "source": [
    "### Plurality Voting"
   ]
  },
  {
   "cell_type": "code",
   "execution_count": 9,
   "metadata": {},
   "outputs": [
    {
     "name": "stdout",
     "output_type": "stream",
     "text": [
      "Strategic Voting\n"
     ]
    },
    {
     "data": {
      "text/html": [
       "<div>\n",
       "<style scoped>\n",
       "    .dataframe tbody tr th:only-of-type {\n",
       "        vertical-align: middle;\n",
       "    }\n",
       "\n",
       "    .dataframe tbody tr th {\n",
       "        vertical-align: top;\n",
       "    }\n",
       "\n",
       "    .dataframe thead th {\n",
       "        text-align: right;\n",
       "    }\n",
       "</style>\n",
       "<table border=\"1\" class=\"dataframe\">\n",
       "  <thead>\n",
       "    <tr style=\"text-align: right;\">\n",
       "      <th></th>\n",
       "      <th>voter</th>\n",
       "      <th>strategic_voting</th>\n",
       "      <th>new_result</th>\n",
       "      <th>strategic_H</th>\n",
       "      <th>previous_H</th>\n",
       "      <th>strategic_overall_H</th>\n",
       "      <th>previous_overall_H</th>\n",
       "    </tr>\n",
       "  </thead>\n",
       "  <tbody>\n",
       "    <tr>\n",
       "      <th>0</th>\n",
       "      <td>5</td>\n",
       "      <td>[B, A, D, C]</td>\n",
       "      <td>B</td>\n",
       "      <td>0.410487</td>\n",
       "      <td>0.0</td>\n",
       "      <td>2.820973</td>\n",
       "      <td>3.410487</td>\n",
       "    </tr>\n",
       "    <tr>\n",
       "      <th>1</th>\n",
       "      <td>5</td>\n",
       "      <td>[B, D, A, C]</td>\n",
       "      <td>B</td>\n",
       "      <td>0.410487</td>\n",
       "      <td>0.0</td>\n",
       "      <td>2.820973</td>\n",
       "      <td>3.410487</td>\n",
       "    </tr>\n",
       "  </tbody>\n",
       "</table>\n",
       "</div>"
      ],
      "text/plain": [
       "   voter strategic_voting new_result  strategic_H  previous_H  \\\n",
       "0      5     [B, A, D, C]          B     0.410487         0.0   \n",
       "1      5     [B, D, A, C]          B     0.410487         0.0   \n",
       "\n",
       "   strategic_overall_H  previous_overall_H  \n",
       "0             2.820973            3.410487  \n",
       "1             2.820973            3.410487  "
      ]
     },
     "metadata": {},
     "output_type": "display_data"
    },
    {
     "name": "stdout",
     "output_type": "stream",
     "text": [
      "Best Strategic Voting\n"
     ]
    },
    {
     "data": {
      "text/html": [
       "<div>\n",
       "<style scoped>\n",
       "    .dataframe tbody tr th:only-of-type {\n",
       "        vertical-align: middle;\n",
       "    }\n",
       "\n",
       "    .dataframe tbody tr th {\n",
       "        vertical-align: top;\n",
       "    }\n",
       "\n",
       "    .dataframe thead th {\n",
       "        text-align: right;\n",
       "    }\n",
       "</style>\n",
       "<table border=\"1\" class=\"dataframe\">\n",
       "  <thead>\n",
       "    <tr style=\"text-align: right;\">\n",
       "      <th></th>\n",
       "      <th>voter</th>\n",
       "      <th>strategic_voting</th>\n",
       "      <th>new_result</th>\n",
       "      <th>strategic_H</th>\n",
       "      <th>previous_H</th>\n",
       "      <th>strategic_overall_H</th>\n",
       "      <th>previous_overall_H</th>\n",
       "    </tr>\n",
       "  </thead>\n",
       "  <tbody>\n",
       "    <tr>\n",
       "      <th>0</th>\n",
       "      <td>5</td>\n",
       "      <td>[B, A, D, C]</td>\n",
       "      <td>B</td>\n",
       "      <td>0.410487</td>\n",
       "      <td>0.0</td>\n",
       "      <td>2.820973</td>\n",
       "      <td>3.410487</td>\n",
       "    </tr>\n",
       "  </tbody>\n",
       "</table>\n",
       "</div>"
      ],
      "text/plain": [
       "   voter strategic_voting new_result  strategic_H  previous_H  \\\n",
       "0      5     [B, A, D, C]          B     0.410487         0.0   \n",
       "\n",
       "   strategic_overall_H  previous_overall_H  \n",
       "0             2.820973            3.410487  "
      ]
     },
     "metadata": {},
     "output_type": "display_data"
    },
    {
     "name": "stdout",
     "output_type": "stream",
     "text": [
      "Risk: 0.13682886358890622\n"
     ]
    }
   ],
   "source": [
    "pv_s = StrategicVoting(voting, pv_h, plurality_outcome).run(show=True)"
   ]
  },
  {
   "cell_type": "markdown",
   "metadata": {},
   "source": [
    "### Voting for Two"
   ]
  },
  {
   "cell_type": "code",
   "execution_count": 10,
   "metadata": {},
   "outputs": [
    {
     "name": "stdout",
     "output_type": "stream",
     "text": [
      "Strategic Voting\n"
     ]
    },
    {
     "data": {
      "text/html": [
       "<div>\n",
       "<style scoped>\n",
       "    .dataframe tbody tr th:only-of-type {\n",
       "        vertical-align: middle;\n",
       "    }\n",
       "\n",
       "    .dataframe tbody tr th {\n",
       "        vertical-align: top;\n",
       "    }\n",
       "\n",
       "    .dataframe thead th {\n",
       "        text-align: right;\n",
       "    }\n",
       "</style>\n",
       "<table border=\"1\" class=\"dataframe\">\n",
       "  <thead>\n",
       "    <tr style=\"text-align: right;\">\n",
       "      <th></th>\n",
       "      <th>voter</th>\n",
       "      <th>strategic_voting</th>\n",
       "      <th>new_result</th>\n",
       "      <th>strategic_H</th>\n",
       "      <th>previous_H</th>\n",
       "      <th>strategic_overall_H</th>\n",
       "      <th>previous_overall_H</th>\n",
       "    </tr>\n",
       "  </thead>\n",
       "  <tbody>\n",
       "    <tr>\n",
       "      <th>0</th>\n",
       "      <td>5</td>\n",
       "      <td>[A, B, D, C]</td>\n",
       "      <td>A</td>\n",
       "      <td>1.0</td>\n",
       "      <td>0.589513</td>\n",
       "      <td>2.589513</td>\n",
       "      <td>3.179027</td>\n",
       "    </tr>\n",
       "    <tr>\n",
       "      <th>1</th>\n",
       "      <td>5</td>\n",
       "      <td>[A, B, C, D]</td>\n",
       "      <td>A</td>\n",
       "      <td>1.0</td>\n",
       "      <td>0.589513</td>\n",
       "      <td>2.589513</td>\n",
       "      <td>3.179027</td>\n",
       "    </tr>\n",
       "    <tr>\n",
       "      <th>2</th>\n",
       "      <td>5</td>\n",
       "      <td>[B, A, D, C]</td>\n",
       "      <td>A</td>\n",
       "      <td>1.0</td>\n",
       "      <td>0.589513</td>\n",
       "      <td>2.589513</td>\n",
       "      <td>3.179027</td>\n",
       "    </tr>\n",
       "    <tr>\n",
       "      <th>3</th>\n",
       "      <td>5</td>\n",
       "      <td>[B, A, C, D]</td>\n",
       "      <td>A</td>\n",
       "      <td>1.0</td>\n",
       "      <td>0.589513</td>\n",
       "      <td>2.589513</td>\n",
       "      <td>3.179027</td>\n",
       "    </tr>\n",
       "  </tbody>\n",
       "</table>\n",
       "</div>"
      ],
      "text/plain": [
       "   voter strategic_voting new_result  strategic_H  previous_H  \\\n",
       "0      5     [A, B, D, C]          A          1.0    0.589513   \n",
       "1      5     [A, B, C, D]          A          1.0    0.589513   \n",
       "2      5     [B, A, D, C]          A          1.0    0.589513   \n",
       "3      5     [B, A, C, D]          A          1.0    0.589513   \n",
       "\n",
       "   strategic_overall_H  previous_overall_H  \n",
       "0             2.589513            3.179027  \n",
       "1             2.589513            3.179027  \n",
       "2             2.589513            3.179027  \n",
       "3             2.589513            3.179027  "
      ]
     },
     "metadata": {},
     "output_type": "display_data"
    },
    {
     "name": "stdout",
     "output_type": "stream",
     "text": [
      "Best Strategic Voting\n"
     ]
    },
    {
     "data": {
      "text/html": [
       "<div>\n",
       "<style scoped>\n",
       "    .dataframe tbody tr th:only-of-type {\n",
       "        vertical-align: middle;\n",
       "    }\n",
       "\n",
       "    .dataframe tbody tr th {\n",
       "        vertical-align: top;\n",
       "    }\n",
       "\n",
       "    .dataframe thead th {\n",
       "        text-align: right;\n",
       "    }\n",
       "</style>\n",
       "<table border=\"1\" class=\"dataframe\">\n",
       "  <thead>\n",
       "    <tr style=\"text-align: right;\">\n",
       "      <th></th>\n",
       "      <th>voter</th>\n",
       "      <th>strategic_voting</th>\n",
       "      <th>new_result</th>\n",
       "      <th>strategic_H</th>\n",
       "      <th>previous_H</th>\n",
       "      <th>strategic_overall_H</th>\n",
       "      <th>previous_overall_H</th>\n",
       "    </tr>\n",
       "  </thead>\n",
       "  <tbody>\n",
       "    <tr>\n",
       "      <th>0</th>\n",
       "      <td>5</td>\n",
       "      <td>[A, B, D, C]</td>\n",
       "      <td>A</td>\n",
       "      <td>1.0</td>\n",
       "      <td>0.589513</td>\n",
       "      <td>2.589513</td>\n",
       "      <td>3.179027</td>\n",
       "    </tr>\n",
       "  </tbody>\n",
       "</table>\n",
       "</div>"
      ],
      "text/plain": [
       "   voter strategic_voting new_result  strategic_H  previous_H  \\\n",
       "0      5     [A, B, D, C]          A          1.0    0.589513   \n",
       "\n",
       "   strategic_overall_H  previous_overall_H  \n",
       "0             2.589513            3.179027  "
      ]
     },
     "metadata": {},
     "output_type": "display_data"
    },
    {
     "name": "stdout",
     "output_type": "stream",
     "text": [
      "Risk: 0.06841443179445311\n"
     ]
    }
   ],
   "source": [
    "vt_s = StrategicVoting(voting, vt_h, for_two_outcome).run(show=True)"
   ]
  },
  {
   "cell_type": "markdown",
   "metadata": {},
   "source": [
    "### Veto Voting"
   ]
  },
  {
   "cell_type": "code",
   "execution_count": 16,
   "metadata": {},
   "outputs": [
    {
     "name": "stdout",
     "output_type": "stream",
     "text": [
      "Strategic Voting\n"
     ]
    },
    {
     "data": {
      "text/html": [
       "<div>\n",
       "<style scoped>\n",
       "    .dataframe tbody tr th:only-of-type {\n",
       "        vertical-align: middle;\n",
       "    }\n",
       "\n",
       "    .dataframe tbody tr th {\n",
       "        vertical-align: top;\n",
       "    }\n",
       "\n",
       "    .dataframe thead th {\n",
       "        text-align: right;\n",
       "    }\n",
       "</style>\n",
       "<table border=\"1\" class=\"dataframe\">\n",
       "  <thead>\n",
       "    <tr style=\"text-align: right;\">\n",
       "      <th></th>\n",
       "      <th>voter</th>\n",
       "      <th>strategic_voting</th>\n",
       "      <th>new_result</th>\n",
       "      <th>strategic_H</th>\n",
       "      <th>previous_H</th>\n",
       "      <th>strategic_overall_H</th>\n",
       "      <th>previous_overall_H</th>\n",
       "    </tr>\n",
       "  </thead>\n",
       "  <tbody>\n",
       "  </tbody>\n",
       "</table>\n",
       "</div>"
      ],
      "text/plain": [
       "Empty DataFrame\n",
       "Columns: [voter, strategic_voting, new_result, strategic_H, previous_H, strategic_overall_H, previous_overall_H]\n",
       "Index: []"
      ]
     },
     "metadata": {},
     "output_type": "display_data"
    },
    {
     "name": "stdout",
     "output_type": "stream",
     "text": [
      "Best Strategic Voting\n"
     ]
    },
    {
     "data": {
      "text/html": [
       "<div>\n",
       "<style scoped>\n",
       "    .dataframe tbody tr th:only-of-type {\n",
       "        vertical-align: middle;\n",
       "    }\n",
       "\n",
       "    .dataframe tbody tr th {\n",
       "        vertical-align: top;\n",
       "    }\n",
       "\n",
       "    .dataframe thead th {\n",
       "        text-align: right;\n",
       "    }\n",
       "</style>\n",
       "<table border=\"1\" class=\"dataframe\">\n",
       "  <thead>\n",
       "    <tr style=\"text-align: right;\">\n",
       "      <th></th>\n",
       "      <th>voter</th>\n",
       "      <th>strategic_voting</th>\n",
       "      <th>new_result</th>\n",
       "      <th>strategic_H</th>\n",
       "      <th>previous_H</th>\n",
       "      <th>strategic_overall_H</th>\n",
       "      <th>previous_overall_H</th>\n",
       "    </tr>\n",
       "  </thead>\n",
       "  <tbody>\n",
       "  </tbody>\n",
       "</table>\n",
       "</div>"
      ],
      "text/plain": [
       "Empty DataFrame\n",
       "Columns: [voter, strategic_voting, new_result, strategic_H, previous_H, strategic_overall_H, previous_overall_H]\n",
       "Index: []"
      ]
     },
     "metadata": {},
     "output_type": "display_data"
    },
    {
     "name": "stdout",
     "output_type": "stream",
     "text": [
      "Risk: 0.0\n"
     ]
    }
   ],
   "source": [
    "vv_s = StrategicVoting(voting, vv_h, veto_outcome).run(show=True)"
   ]
  },
  {
   "cell_type": "markdown",
   "metadata": {},
   "source": [
    "### Borda Voting"
   ]
  },
  {
   "cell_type": "code",
   "execution_count": 19,
   "metadata": {},
   "outputs": [
    {
     "data": {
      "text/html": [
       "<div>\n",
       "<style scoped>\n",
       "    .dataframe tbody tr th:only-of-type {\n",
       "        vertical-align: middle;\n",
       "    }\n",
       "\n",
       "    .dataframe tbody tr th {\n",
       "        vertical-align: top;\n",
       "    }\n",
       "\n",
       "    .dataframe thead th {\n",
       "        text-align: right;\n",
       "    }\n",
       "</style>\n",
       "<table border=\"1\" class=\"dataframe\">\n",
       "  <thead>\n",
       "    <tr style=\"text-align: right;\">\n",
       "      <th></th>\n",
       "      <th>voter_0</th>\n",
       "      <th>voter_1</th>\n",
       "      <th>voter_2</th>\n",
       "      <th>voter_3</th>\n",
       "      <th>voter_4</th>\n",
       "      <th>voter_5</th>\n",
       "    </tr>\n",
       "  </thead>\n",
       "  <tbody>\n",
       "    <tr>\n",
       "      <th>preference_0</th>\n",
       "      <td>C</td>\n",
       "      <td>B</td>\n",
       "      <td>C</td>\n",
       "      <td>C</td>\n",
       "      <td>B</td>\n",
       "      <td>A</td>\n",
       "    </tr>\n",
       "    <tr>\n",
       "      <th>preference_1</th>\n",
       "      <td>A</td>\n",
       "      <td>D</td>\n",
       "      <td>D</td>\n",
       "      <td>D</td>\n",
       "      <td>A</td>\n",
       "      <td>D</td>\n",
       "    </tr>\n",
       "    <tr>\n",
       "      <th>preference_2</th>\n",
       "      <td>D</td>\n",
       "      <td>C</td>\n",
       "      <td>A</td>\n",
       "      <td>B</td>\n",
       "      <td>D</td>\n",
       "      <td>B</td>\n",
       "    </tr>\n",
       "    <tr>\n",
       "      <th>preference_3</th>\n",
       "      <td>B</td>\n",
       "      <td>A</td>\n",
       "      <td>B</td>\n",
       "      <td>A</td>\n",
       "      <td>C</td>\n",
       "      <td>C</td>\n",
       "    </tr>\n",
       "  </tbody>\n",
       "</table>\n",
       "</div>"
      ],
      "text/plain": [
       "             voter_0 voter_1 voter_2 voter_3 voter_4 voter_5\n",
       "preference_0       C       B       C       C       B       A\n",
       "preference_1       A       D       D       D       A       D\n",
       "preference_2       D       C       A       B       D       B\n",
       "preference_3       B       A       B       A       C       C"
      ]
     },
     "execution_count": 19,
     "metadata": {},
     "output_type": "execute_result"
    }
   ],
   "source": [
    "voting.to_pandas()"
   ]
  },
  {
   "cell_type": "code",
   "execution_count": 20,
   "metadata": {},
   "outputs": [
    {
     "data": {
      "text/html": [
       "<div>\n",
       "<style scoped>\n",
       "    .dataframe tbody tr th:only-of-type {\n",
       "        vertical-align: middle;\n",
       "    }\n",
       "\n",
       "    .dataframe tbody tr th {\n",
       "        vertical-align: top;\n",
       "    }\n",
       "\n",
       "    .dataframe thead th {\n",
       "        text-align: right;\n",
       "    }\n",
       "</style>\n",
       "<table border=\"1\" class=\"dataframe\">\n",
       "  <thead>\n",
       "    <tr style=\"text-align: right;\">\n",
       "      <th></th>\n",
       "      <th>A</th>\n",
       "      <th>B</th>\n",
       "      <th>C</th>\n",
       "      <th>D</th>\n",
       "      <th>Winner</th>\n",
       "    </tr>\n",
       "  </thead>\n",
       "  <tbody>\n",
       "    <tr>\n",
       "      <th>Plurality Voting</th>\n",
       "      <td>1</td>\n",
       "      <td>2</td>\n",
       "      <td>3</td>\n",
       "      <td>0</td>\n",
       "      <td>C</td>\n",
       "    </tr>\n",
       "    <tr>\n",
       "      <th>Voting for Two</th>\n",
       "      <td>3</td>\n",
       "      <td>2</td>\n",
       "      <td>3</td>\n",
       "      <td>4</td>\n",
       "      <td>D</td>\n",
       "    </tr>\n",
       "    <tr>\n",
       "      <th>Veto Voting</th>\n",
       "      <td>4</td>\n",
       "      <td>4</td>\n",
       "      <td>4</td>\n",
       "      <td>6</td>\n",
       "      <td>D</td>\n",
       "    </tr>\n",
       "    <tr>\n",
       "      <th>Borda Voting</th>\n",
       "      <td>8</td>\n",
       "      <td>8</td>\n",
       "      <td>10</td>\n",
       "      <td>10</td>\n",
       "      <td>C</td>\n",
       "    </tr>\n",
       "  </tbody>\n",
       "</table>\n",
       "</div>"
      ],
      "text/plain": [
       "                  A  B   C   D Winner\n",
       "Plurality Voting  1  2   3   0      C\n",
       "Voting for Two    3  2   3   4      D\n",
       "Veto Voting       4  4   4   6      D\n",
       "Borda Voting      8  8  10  10      C"
      ]
     },
     "execution_count": 20,
     "metadata": {},
     "output_type": "execute_result"
    }
   ],
   "source": [
    "outcomes_df"
   ]
  },
  {
   "cell_type": "code",
   "execution_count": 17,
   "metadata": {},
   "outputs": [
    {
     "name": "stdout",
     "output_type": "stream",
     "text": [
      "Strategic Voting\n"
     ]
    },
    {
     "data": {
      "text/html": [
       "<div>\n",
       "<style scoped>\n",
       "    .dataframe tbody tr th:only-of-type {\n",
       "        vertical-align: middle;\n",
       "    }\n",
       "\n",
       "    .dataframe tbody tr th {\n",
       "        vertical-align: top;\n",
       "    }\n",
       "\n",
       "    .dataframe thead th {\n",
       "        text-align: right;\n",
       "    }\n",
       "</style>\n",
       "<table border=\"1\" class=\"dataframe\">\n",
       "  <thead>\n",
       "    <tr style=\"text-align: right;\">\n",
       "      <th></th>\n",
       "      <th>voter</th>\n",
       "      <th>strategic_voting</th>\n",
       "      <th>new_result</th>\n",
       "      <th>strategic_H</th>\n",
       "      <th>previous_H</th>\n",
       "      <th>strategic_overall_H</th>\n",
       "      <th>previous_overall_H</th>\n",
       "    </tr>\n",
       "  </thead>\n",
       "  <tbody>\n",
       "    <tr>\n",
       "      <th>0</th>\n",
       "      <td>1</td>\n",
       "      <td>[B, D, A, C]</td>\n",
       "      <td>D</td>\n",
       "      <td>0.589513</td>\n",
       "      <td>0.410487</td>\n",
       "      <td>3.179027</td>\n",
       "      <td>3.410487</td>\n",
       "    </tr>\n",
       "    <tr>\n",
       "      <th>1</th>\n",
       "      <td>1</td>\n",
       "      <td>[D, B, C, A]</td>\n",
       "      <td>D</td>\n",
       "      <td>0.589513</td>\n",
       "      <td>0.410487</td>\n",
       "      <td>3.179027</td>\n",
       "      <td>3.410487</td>\n",
       "    </tr>\n",
       "    <tr>\n",
       "      <th>2</th>\n",
       "      <td>1</td>\n",
       "      <td>[D, B, A, C]</td>\n",
       "      <td>D</td>\n",
       "      <td>0.589513</td>\n",
       "      <td>0.410487</td>\n",
       "      <td>3.179027</td>\n",
       "      <td>3.410487</td>\n",
       "    </tr>\n",
       "    <tr>\n",
       "      <th>3</th>\n",
       "      <td>1</td>\n",
       "      <td>[D, A, B, C]</td>\n",
       "      <td>D</td>\n",
       "      <td>0.589513</td>\n",
       "      <td>0.410487</td>\n",
       "      <td>3.179027</td>\n",
       "      <td>3.410487</td>\n",
       "    </tr>\n",
       "    <tr>\n",
       "      <th>4</th>\n",
       "      <td>1</td>\n",
       "      <td>[D, A, C, B]</td>\n",
       "      <td>D</td>\n",
       "      <td>0.589513</td>\n",
       "      <td>0.410487</td>\n",
       "      <td>3.179027</td>\n",
       "      <td>3.410487</td>\n",
       "    </tr>\n",
       "    <tr>\n",
       "      <th>5</th>\n",
       "      <td>4</td>\n",
       "      <td>[B, D, A, C]</td>\n",
       "      <td>D</td>\n",
       "      <td>0.410487</td>\n",
       "      <td>0.000000</td>\n",
       "      <td>3.179027</td>\n",
       "      <td>3.410487</td>\n",
       "    </tr>\n",
       "    <tr>\n",
       "      <th>6</th>\n",
       "      <td>4</td>\n",
       "      <td>[A, D, B, C]</td>\n",
       "      <td>D</td>\n",
       "      <td>0.410487</td>\n",
       "      <td>0.000000</td>\n",
       "      <td>3.179027</td>\n",
       "      <td>3.410487</td>\n",
       "    </tr>\n",
       "    <tr>\n",
       "      <th>7</th>\n",
       "      <td>4</td>\n",
       "      <td>[D, B, A, C]</td>\n",
       "      <td>D</td>\n",
       "      <td>0.410487</td>\n",
       "      <td>0.000000</td>\n",
       "      <td>3.179027</td>\n",
       "      <td>3.410487</td>\n",
       "    </tr>\n",
       "    <tr>\n",
       "      <th>8</th>\n",
       "      <td>4</td>\n",
       "      <td>[D, A, B, C]</td>\n",
       "      <td>D</td>\n",
       "      <td>0.410487</td>\n",
       "      <td>0.000000</td>\n",
       "      <td>3.179027</td>\n",
       "      <td>3.410487</td>\n",
       "    </tr>\n",
       "    <tr>\n",
       "      <th>9</th>\n",
       "      <td>5</td>\n",
       "      <td>[D, A, B, C]</td>\n",
       "      <td>D</td>\n",
       "      <td>0.589513</td>\n",
       "      <td>0.000000</td>\n",
       "      <td>3.179027</td>\n",
       "      <td>3.410487</td>\n",
       "    </tr>\n",
       "    <tr>\n",
       "      <th>10</th>\n",
       "      <td>5</td>\n",
       "      <td>[D, B, A, C]</td>\n",
       "      <td>D</td>\n",
       "      <td>0.589513</td>\n",
       "      <td>0.000000</td>\n",
       "      <td>3.179027</td>\n",
       "      <td>3.410487</td>\n",
       "    </tr>\n",
       "    <tr>\n",
       "      <th>11</th>\n",
       "      <td>5</td>\n",
       "      <td>[B, A, D, C]</td>\n",
       "      <td>B</td>\n",
       "      <td>0.410487</td>\n",
       "      <td>0.000000</td>\n",
       "      <td>2.820973</td>\n",
       "      <td>3.410487</td>\n",
       "    </tr>\n",
       "    <tr>\n",
       "      <th>12</th>\n",
       "      <td>5</td>\n",
       "      <td>[B, D, A, C]</td>\n",
       "      <td>B</td>\n",
       "      <td>0.410487</td>\n",
       "      <td>0.000000</td>\n",
       "      <td>2.820973</td>\n",
       "      <td>3.410487</td>\n",
       "    </tr>\n",
       "  </tbody>\n",
       "</table>\n",
       "</div>"
      ],
      "text/plain": [
       "    voter strategic_voting new_result  strategic_H  previous_H  \\\n",
       "0       1     [B, D, A, C]          D     0.589513    0.410487   \n",
       "1       1     [D, B, C, A]          D     0.589513    0.410487   \n",
       "2       1     [D, B, A, C]          D     0.589513    0.410487   \n",
       "3       1     [D, A, B, C]          D     0.589513    0.410487   \n",
       "4       1     [D, A, C, B]          D     0.589513    0.410487   \n",
       "5       4     [B, D, A, C]          D     0.410487    0.000000   \n",
       "6       4     [A, D, B, C]          D     0.410487    0.000000   \n",
       "7       4     [D, B, A, C]          D     0.410487    0.000000   \n",
       "8       4     [D, A, B, C]          D     0.410487    0.000000   \n",
       "9       5     [D, A, B, C]          D     0.589513    0.000000   \n",
       "10      5     [D, B, A, C]          D     0.589513    0.000000   \n",
       "11      5     [B, A, D, C]          B     0.410487    0.000000   \n",
       "12      5     [B, D, A, C]          B     0.410487    0.000000   \n",
       "\n",
       "    strategic_overall_H  previous_overall_H  \n",
       "0              3.179027            3.410487  \n",
       "1              3.179027            3.410487  \n",
       "2              3.179027            3.410487  \n",
       "3              3.179027            3.410487  \n",
       "4              3.179027            3.410487  \n",
       "5              3.179027            3.410487  \n",
       "6              3.179027            3.410487  \n",
       "7              3.179027            3.410487  \n",
       "8              3.179027            3.410487  \n",
       "9              3.179027            3.410487  \n",
       "10             3.179027            3.410487  \n",
       "11             2.820973            3.410487  \n",
       "12             2.820973            3.410487  "
      ]
     },
     "metadata": {},
     "output_type": "display_data"
    },
    {
     "name": "stdout",
     "output_type": "stream",
     "text": [
      "Best Strategic Voting\n"
     ]
    },
    {
     "data": {
      "text/html": [
       "<div>\n",
       "<style scoped>\n",
       "    .dataframe tbody tr th:only-of-type {\n",
       "        vertical-align: middle;\n",
       "    }\n",
       "\n",
       "    .dataframe tbody tr th {\n",
       "        vertical-align: top;\n",
       "    }\n",
       "\n",
       "    .dataframe thead th {\n",
       "        text-align: right;\n",
       "    }\n",
       "</style>\n",
       "<table border=\"1\" class=\"dataframe\">\n",
       "  <thead>\n",
       "    <tr style=\"text-align: right;\">\n",
       "      <th></th>\n",
       "      <th>voter</th>\n",
       "      <th>strategic_voting</th>\n",
       "      <th>new_result</th>\n",
       "      <th>strategic_H</th>\n",
       "      <th>previous_H</th>\n",
       "      <th>strategic_overall_H</th>\n",
       "      <th>previous_overall_H</th>\n",
       "    </tr>\n",
       "  </thead>\n",
       "  <tbody>\n",
       "    <tr>\n",
       "      <th>0</th>\n",
       "      <td>1</td>\n",
       "      <td>[B, D, A, C]</td>\n",
       "      <td>D</td>\n",
       "      <td>0.589513</td>\n",
       "      <td>0.410487</td>\n",
       "      <td>3.179027</td>\n",
       "      <td>3.410487</td>\n",
       "    </tr>\n",
       "    <tr>\n",
       "      <th>9</th>\n",
       "      <td>5</td>\n",
       "      <td>[D, A, B, C]</td>\n",
       "      <td>D</td>\n",
       "      <td>0.589513</td>\n",
       "      <td>0.000000</td>\n",
       "      <td>3.179027</td>\n",
       "      <td>3.410487</td>\n",
       "    </tr>\n",
       "    <tr>\n",
       "      <th>5</th>\n",
       "      <td>4</td>\n",
       "      <td>[B, D, A, C]</td>\n",
       "      <td>D</td>\n",
       "      <td>0.410487</td>\n",
       "      <td>0.000000</td>\n",
       "      <td>3.179027</td>\n",
       "      <td>3.410487</td>\n",
       "    </tr>\n",
       "  </tbody>\n",
       "</table>\n",
       "</div>"
      ],
      "text/plain": [
       "   voter strategic_voting new_result  strategic_H  previous_H  \\\n",
       "0      1     [B, D, A, C]          D     0.589513    0.410487   \n",
       "9      5     [D, A, B, C]          D     0.589513    0.000000   \n",
       "5      4     [B, D, A, C]          D     0.410487    0.000000   \n",
       "\n",
       "   strategic_overall_H  previous_overall_H  \n",
       "0             3.179027            3.410487  \n",
       "9             3.179027            3.410487  \n",
       "5             3.179027            3.410487  "
      ]
     },
     "metadata": {},
     "output_type": "display_data"
    },
    {
     "name": "stdout",
     "output_type": "stream",
     "text": [
      "Risk: 0.39300893948885424\n"
     ]
    }
   ],
   "source": [
    "bv_s = StrategicVoting(voting, bv_h, borda_outcome).run(show=True)"
   ]
  }
 ],
 "metadata": {
  "kernelspec": {
   "display_name": "venv",
   "language": "python",
   "name": "python3"
  },
  "language_info": {
   "codemirror_mode": {
    "name": "ipython",
    "version": 3
   },
   "file_extension": ".py",
   "mimetype": "text/x-python",
   "name": "python",
   "nbconvert_exporter": "python",
   "pygments_lexer": "ipython3",
   "version": "3.10.12"
  }
 },
 "nbformat": 4,
 "nbformat_minor": 2
}
