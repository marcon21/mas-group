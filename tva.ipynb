{
 "cells": [
  {
   "cell_type": "markdown",
   "metadata": {},
   "source": [
    "# Advance TVA, with Clustering and Compromising"
   ]
  },
  {
   "cell_type": "code",
   "execution_count": 1,
   "metadata": {},
   "outputs": [],
   "source": [
    "import warnings\n",
    "\n",
    "warnings.filterwarnings(\"ignore\")\n",
    "\n",
    "from src import utils\n",
    "from src.outcomes import plurality_outcome\n",
    "from src.outcomes import borda_outcome\n",
    "from src.happiness_level import HappinessLevel\n",
    "from src.strategic_voting_risk import StrategicVoting\n",
    "from src.outcomes import for_two_outcome\n",
    "from src.Coalition_Compromising import find_stable_coalitions_by_compromising\n",
    "import os\n",
    "import numpy as np \n",
    "import pandas as pd"
   ]
  },
  {
   "cell_type": "code",
   "execution_count": 2,
   "metadata": {},
   "outputs": [],
   "source": [
    "path_voting = \"input/voting_result.json\"\n",
    "if \"env\" in os.environ:\n",
    "    if os.environ[\"env\"] == \"docker\":\n",
    "        path_voting = \"/input/voting_result.json\""
   ]
  },
  {
   "cell_type": "markdown",
   "metadata": {},
   "source": [
    "This is the voting input"
   ]
  },
  {
   "cell_type": "code",
   "execution_count": 4,
   "metadata": {},
   "outputs": [],
   "source": [
    "n_cand = 10\n",
    "random_voting = utils.random_voting(400, n_cand)\n",
    "result_random = plurality_outcome(random_voting)\n",
    "hlevel = HappinessLevel(random_voting, result_random.winner)\n"
   ]
  },
  {
   "cell_type": "code",
   "execution_count": 5,
   "metadata": {},
   "outputs": [
    {
     "name": "stdout",
     "output_type": "stream",
     "text": [
      "Winner: I\n",
      "{'A': 73, 'B': 68, 'C': 73, 'D': 86, 'E': 79, 'F': 80, 'G': 85, 'H': 78, 'I': 92, 'J': 86}\n"
     ]
    },
    {
     "ename": "UnboundLocalError",
     "evalue": "cannot access local variable 'new_results' where it is not associated with a value",
     "output_type": "error",
     "traceback": [
      "\u001b[1;31m---------------------------------------------------------------------------\u001b[0m",
      "\u001b[1;31mUnboundLocalError\u001b[0m                         Traceback (most recent call last)",
      "Cell \u001b[1;32mIn[5], line 6\u001b[0m\n\u001b[0;32m      4\u001b[0m hlevel \u001b[38;5;241m=\u001b[39m HappinessLevel(random_voting, borda_result\u001b[38;5;241m.\u001b[39mwinner)\n\u001b[0;32m      5\u001b[0m valori \u001b[38;5;241m=\u001b[39m np\u001b[38;5;241m.\u001b[39marray(\u001b[38;5;28mlist\u001b[39m(hlevel\u001b[38;5;241m.\u001b[39mhappiness_level_dict\u001b[38;5;241m.\u001b[39mvalues()))\n\u001b[1;32m----> 6\u001b[0m coals \u001b[38;5;241m=\u001b[39m find_stable_coalitions_by_compromising(\u001b[38;5;241m100\u001b[39m, voting_df_2, valori, borda_result, voting\u001b[38;5;241m=\u001b[39m\u001b[38;5;124m'\u001b[39m\u001b[38;5;124mvoting_for_two\u001b[39m\u001b[38;5;124m'\u001b[39m)\n",
      "File \u001b[1;32mc:\\Users\\Aurora Pia Ghiardell\\mas-group\\src\\Coalition_Compromising.py:251\u001b[0m, in \u001b[0;36mfind_stable_coalitions_by_compromising\u001b[1;34m(max_coal, voting_df, happiness_level, results, voting)\u001b[0m\n\u001b[0;32m    248\u001b[0m     pref\u001b[38;5;241m.\u001b[39minsert(\u001b[38;5;241m0\u001b[39m, alt)\n\u001b[0;32m    249\u001b[0m     man\u001b[38;5;241m.\u001b[39mappend(pref)\n\u001b[1;32m--> 251\u001b[0m coal_new_h, new_result \u001b[38;5;241m=\u001b[39m find_new_happiness(\n\u001b[0;32m    252\u001b[0m     man, coalition, voting_df, voting\n\u001b[0;32m    253\u001b[0m )  \u001b[38;5;66;03m# compute the new happiness\u001b[39;00m\n\u001b[0;32m    255\u001b[0m coalition \u001b[38;5;241m=\u001b[39m coalition\u001b[38;5;241m.\u001b[39miloc[:, :\u001b[38;5;241m-\u001b[39m\u001b[38;5;241m1\u001b[39m]\n\u001b[0;32m    257\u001b[0m \u001b[38;5;28;01mif\u001b[39;00m analyze_core(coal_new_h, \u001b[38;5;124m\"\u001b[39m\u001b[38;5;124mH\u001b[39m\u001b[38;5;124m\"\u001b[39m, \u001b[38;5;124m\"\u001b[39m\u001b[38;5;124mNew_H\u001b[39m\u001b[38;5;124m\"\u001b[39m) \u001b[38;5;241m==\u001b[39m \u001b[38;5;28;01mTrue\u001b[39;00m:\n",
      "File \u001b[1;32mc:\\Users\\Aurora Pia Ghiardell\\mas-group\\src\\Coalition_Compromising.py:96\u001b[0m, in \u001b[0;36mfind_new_happiness\u001b[1;34m(manipulations, coalition, voting_df, voting)\u001b[0m\n\u001b[0;32m     91\u001b[0m \u001b[38;5;28;01melif\u001b[39;00m voting \u001b[38;5;241m==\u001b[39m \u001b[38;5;124m\"\u001b[39m\u001b[38;5;124mvoting_for_2\u001b[39m\u001b[38;5;124m\"\u001b[39m:\n\u001b[0;32m     93\u001b[0m     new_results \u001b[38;5;241m=\u001b[39m for_two_outcome(new_voting_df\u001b[38;5;241m.\u001b[39miloc[:, :n_cand]\u001b[38;5;241m.\u001b[39mvalues\u001b[38;5;241m.\u001b[39mT)\n\u001b[0;32m     95\u001b[0m diz \u001b[38;5;241m=\u001b[39m HappinessLevel(\n\u001b[1;32m---> 96\u001b[0m     voting_df\u001b[38;5;241m.\u001b[39miloc[:, :n_cand]\u001b[38;5;241m.\u001b[39mvalues\u001b[38;5;241m.\u001b[39mT, new_results\u001b[38;5;241m.\u001b[39mwinner\n\u001b[0;32m     97\u001b[0m )\u001b[38;5;241m.\u001b[39mhappiness_level_dict\n\u001b[0;32m     98\u001b[0m New_Happiness_Levels \u001b[38;5;241m=\u001b[39m pd\u001b[38;5;241m.\u001b[39mDataFrame\u001b[38;5;241m.\u001b[39mfrom_dict(\n\u001b[0;32m     99\u001b[0m     diz, orient\u001b[38;5;241m=\u001b[39m\u001b[38;5;124m\"\u001b[39m\u001b[38;5;124mindex\u001b[39m\u001b[38;5;124m\"\u001b[39m, columns\u001b[38;5;241m=\u001b[39m[\u001b[38;5;124m\"\u001b[39m\u001b[38;5;124mNew_H\u001b[39m\u001b[38;5;124m\"\u001b[39m]\n\u001b[0;32m    100\u001b[0m )  \u001b[38;5;66;03m# compute the happiness of the new results with respect of the real preferences\u001b[39;00m\n\u001b[0;32m    101\u001b[0m coalition \u001b[38;5;241m=\u001b[39m pd\u001b[38;5;241m.\u001b[39mmerge(\n\u001b[0;32m    102\u001b[0m     coalition, New_Happiness_Levels, left_index\u001b[38;5;241m=\u001b[39m\u001b[38;5;28;01mTrue\u001b[39;00m, right_index\u001b[38;5;241m=\u001b[39m\u001b[38;5;28;01mTrue\u001b[39;00m\n\u001b[0;32m    103\u001b[0m )\n",
      "\u001b[1;31mUnboundLocalError\u001b[0m: cannot access local variable 'new_results' where it is not associated with a value"
     ]
    }
   ],
   "source": [
    "borda_result = for_two_outcome(random_voting)\n",
    "print(borda_result)\n",
    "voting_df_2= pd.DataFrame(random_voting).T\n",
    "hlevel = HappinessLevel(random_voting, borda_result.winner)\n",
    "valori = np.array(list(hlevel.happiness_level_dict.values()))\n",
    "coals = find_stable_coalitions_by_compromising(100, voting_df_2, valori, borda_result, voting='voting_for_two')"
   ]
  },
  {
   "cell_type": "code",
   "execution_count": 23,
   "metadata": {},
   "outputs": [
    {
     "name": "stdout",
     "output_type": "stream",
     "text": [
      "   Number_voters                          voters number_manipulations  \\\n",
      "0              6    (62, 63, 214, 216, 223, 305)                    1   \n",
      "1              5       (187, 204, 241, 248, 268)                    1   \n",
      "2              4             (42, 109, 138, 384)                    1   \n",
      "3              6  (136, 155, 170, 325, 334, 399)                    1   \n",
      "4              4            (209, 280, 308, 393)                    1   \n",
      "5              6      (23, 29, 36, 99, 104, 319)                    2   \n",
      "6              2                      (231, 338)                    2   \n",
      "7              5        (47, 125, 274, 311, 352)                    1   \n",
      "8              3                  (82, 103, 122)                    1   \n",
      "9              2                      (188, 296)                    2   \n",
      "10             2                      (100, 318)                    1   \n",
      "11             3                 (117, 370, 374)                    1   \n",
      "12             2                      (182, 356)                    2   \n",
      "13             4            (158, 175, 261, 288)                    1   \n",
      "14             2                        (51, 69)                    1   \n",
      "15             2                       (70, 173)                    1   \n",
      "16             3                 (156, 225, 292)                    1   \n",
      "17             4               (12, 60, 72, 350)                    1   \n",
      "18             2                       (65, 145)                    1   \n",
      "19             4            (256, 264, 304, 345)                    1   \n",
      "20             2                      (321, 337)                    2   \n",
      "21             2                      (336, 363)                    1   \n",
      "22             2                        (49, 79)                    1   \n",
      "23             3                  (19, 229, 243)                    1   \n",
      "24             3                  (80, 147, 265)                    1   \n",
      "25             2                       (50, 330)                    4   \n",
      "26             3                   (10, 50, 330)                    3   \n",
      "27             4            (197, 247, 326, 357)                    1   \n",
      "28             3                 (160, 323, 383)                    1   \n",
      "29             4             (67, 189, 237, 281)                    1   \n",
      "30             2                      (249, 347)                    1   \n",
      "31             2                      (368, 371)                    2   \n",
      "32             2                       (50, 371)                    3   \n",
      "33             2                      (330, 371)                    3   \n",
      "34             3                  (50, 330, 371)                    3   \n",
      "35             2                        (10, 50)                    2   \n",
      "36             2                       (10, 330)                    2   \n",
      "37             2                       (10, 371)                    2   \n",
      "38             3                   (10, 50, 371)                    2   \n",
      "39             3                  (10, 330, 371)                    2   \n",
      "40             5         (10, 50, 330, 368, 371)                    1   \n",
      "41             4            (100, 249, 318, 347)                    1   \n",
      "42             5         (19, 65, 145, 229, 243)                    1   \n",
      "43             2                      (122, 188)                    1   \n",
      "44             2                      (122, 296)                    1   \n",
      "45             3                 (122, 188, 296)                    1   \n",
      "46             2                      (223, 304)                    1   \n",
      "\n",
      "   strategic_voting_risk  \n",
      "0               0.229755  \n",
      "1               0.460763  \n",
      "2               0.436275  \n",
      "3                0.62415  \n",
      "4               0.270968  \n",
      "5               0.881048  \n",
      "6               0.463986  \n",
      "7               0.354532  \n",
      "8               0.648789  \n",
      "9                0.23423  \n",
      "10              0.552555  \n",
      "11              0.278066  \n",
      "12              0.463986  \n",
      "13              0.881048  \n",
      "14              0.535481  \n",
      "15              0.240828  \n",
      "16              0.695952  \n",
      "17              0.629807  \n",
      "18              0.205965  \n",
      "19              0.354136  \n",
      "20              0.370475  \n",
      "21              0.602982  \n",
      "22              0.439247  \n",
      "23              0.582644  \n",
      "24              0.298111  \n",
      "25              0.486409  \n",
      "26              0.629807  \n",
      "27              0.323119  \n",
      "28              0.454885  \n",
      "29              0.552555  \n",
      "30              0.298111  \n",
      "31               0.61143  \n",
      "32              0.147445  \n",
      "33              0.486409  \n",
      "34              0.486409  \n",
      "35              0.295656  \n",
      "36              0.486409  \n",
      "37              0.295656  \n",
      "38              0.295656  \n",
      "39              0.486409  \n",
      "40              0.629807  \n",
      "41              0.552555  \n",
      "42              0.582644  \n",
      "43              0.323848  \n",
      "44              0.323848  \n",
      "45              0.323848  \n",
      "46              0.353182  \n"
     ]
    }
   ],
   "source": [
    "\n",
    "df = pd.DataFrame(columns=['Number_voters', 'voters','number_manipulations', 'strategic_voting_risk', ])\n",
    "i=0\n",
    "\n",
    "dix={}\n",
    "for el in coals:\n",
    "    dataset = el[1]\n",
    "    \n",
    "    indici = tuple(dataset.index)\n",
    "    if indici not in list(df['voters']):\n",
    "        dataset['diff']= dataset['New_H']-dataset['H']\n",
    "        df.loc[i, 'Number_voters'] = len(indici)\n",
    "        df.loc[i, 'voters'] = tuple(indici)\n",
    "        df.loc[i, 'number_manipulations'] = 1\n",
    "        df.loc[i, 'strategic_voting_risk'] = dataset['diff'].max()\n",
    "        dix[tuple(indici)]=i\n",
    "        i+=1\n",
    "    else:\n",
    "        dataset['diff']= dataset['New_H']-dataset['H']\n",
    "        df.loc[dix[tuple(indici)], 'number_manipulations'] += 1\n",
    "        if dataset['diff'].max() > df.loc[dix[tuple(indici)], 'strategic_voting_risk']:\n",
    "            df.loc[dix[tuple(indici)], 'strategic_voting_risk'] = dataset['diff'].max()\n",
    "\n",
    "print(df)\n",
    "\n",
    "\n",
    "\n",
    "\n",
    "\n",
    "    "
   ]
  }
 ],
 "metadata": {
  "kernelspec": {
   "display_name": "venv",
   "language": "python",
   "name": "python3"
  },
  "language_info": {
   "codemirror_mode": {
    "name": "ipython",
    "version": 3
   },
   "file_extension": ".py",
   "mimetype": "text/x-python",
   "name": "python",
   "nbconvert_exporter": "python",
   "pygments_lexer": "ipython3",
   "version": "3.11.5"
  }
 },
 "nbformat": 4,
 "nbformat_minor": 2
}
