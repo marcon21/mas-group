{
 "cells": [
  {
   "cell_type": "code",
   "execution_count": 1,
   "metadata": {},
   "outputs": [],
   "source": [
    "import warnings\n",
    "\n",
    "warnings.filterwarnings(\"ignore\")\n",
    "\n",
    "from src import utils\n",
    "from src.utils import VotingSchemas\n",
    "from src.outcomes import *\n",
    "from src.happiness_level import HappinessLevel\n",
    "from src.strategic_voting_risk import StrategicVoting\n",
    "import os\n",
    "import numpy as np"
   ]
  },
  {
   "cell_type": "code",
   "execution_count": 2,
   "metadata": {},
   "outputs": [],
   "source": [
    "path_voting = \"input/voting_result.json\"\n",
    "if \"env\" in os.environ:\n",
    "    if os.environ[\"env\"] == \"docker\":\n",
    "        path_voting = \"/input/voting_result.json\""
   ]
  },
  {
   "cell_type": "code",
   "execution_count": 3,
   "metadata": {},
   "outputs": [
    {
     "data": {
      "text/html": [
       "<div>\n",
       "<style scoped>\n",
       "    .dataframe tbody tr th:only-of-type {\n",
       "        vertical-align: middle;\n",
       "    }\n",
       "\n",
       "    .dataframe tbody tr th {\n",
       "        vertical-align: top;\n",
       "    }\n",
       "\n",
       "    .dataframe thead th {\n",
       "        text-align: right;\n",
       "    }\n",
       "</style>\n",
       "<table border=\"1\" class=\"dataframe\">\n",
       "  <thead>\n",
       "    <tr style=\"text-align: right;\">\n",
       "      <th></th>\n",
       "      <th>voter_0</th>\n",
       "      <th>voter_1</th>\n",
       "      <th>voter_2</th>\n",
       "      <th>voter_3</th>\n",
       "      <th>voter_4</th>\n",
       "      <th>voter_5</th>\n",
       "    </tr>\n",
       "  </thead>\n",
       "  <tbody>\n",
       "    <tr>\n",
       "      <th>preference_0</th>\n",
       "      <td>C</td>\n",
       "      <td>B</td>\n",
       "      <td>C</td>\n",
       "      <td>C</td>\n",
       "      <td>B</td>\n",
       "      <td>A</td>\n",
       "    </tr>\n",
       "    <tr>\n",
       "      <th>preference_1</th>\n",
       "      <td>A</td>\n",
       "      <td>D</td>\n",
       "      <td>D</td>\n",
       "      <td>D</td>\n",
       "      <td>A</td>\n",
       "      <td>D</td>\n",
       "    </tr>\n",
       "    <tr>\n",
       "      <th>preference_2</th>\n",
       "      <td>D</td>\n",
       "      <td>C</td>\n",
       "      <td>A</td>\n",
       "      <td>B</td>\n",
       "      <td>D</td>\n",
       "      <td>B</td>\n",
       "    </tr>\n",
       "    <tr>\n",
       "      <th>preference_3</th>\n",
       "      <td>B</td>\n",
       "      <td>A</td>\n",
       "      <td>B</td>\n",
       "      <td>A</td>\n",
       "      <td>C</td>\n",
       "      <td>C</td>\n",
       "    </tr>\n",
       "  </tbody>\n",
       "</table>\n",
       "</div>"
      ],
      "text/plain": [
       "             voter_0 voter_1 voter_2 voter_3 voter_4 voter_5\n",
       "preference_0       C       B       C       C       B       A\n",
       "preference_1       A       D       D       D       A       D\n",
       "preference_2       D       C       A       B       D       B\n",
       "preference_3       B       A       B       A       C       C"
      ]
     },
     "execution_count": 3,
     "metadata": {},
     "output_type": "execute_result"
    }
   ],
   "source": [
    "voting = utils.read_voting(path_voting, table_name=\"voting5\")\n",
    "voting.to_pandas()"
   ]
  },
  {
   "cell_type": "markdown",
   "metadata": {},
   "source": [
    "## Strategic Voting"
   ]
  },
  {
   "cell_type": "code",
   "execution_count": 4,
   "metadata": {},
   "outputs": [
    {
     "data": {
      "text/plain": [
       "{'A': 1, 'B': 2, 'C': 3, 'D': 0}"
      ]
     },
     "execution_count": 4,
     "metadata": {},
     "output_type": "execute_result"
    }
   ],
   "source": [
    "result = plurality_outcome(voting)\n",
    "result"
   ]
  },
  {
   "cell_type": "markdown",
   "metadata": {},
   "source": [
    "Note that **voter 5** is the only voter that can engage in strategic voting. Voter 5 prefers $B$ over the winner $C$. Hence, they can increase their $\\text{Happiness Level}$ by placing $B$ as their first preference, resulting in a tie between $C$ and $B$ in the voting outcome (for plurality, voting for two, Borda). Since ties are resolved in alphabetical order, $B$ wins over $C$.\n",
    "\n",
    "The table below displays the two voting strategies available to voter 5."
   ]
  },
  {
   "cell_type": "code",
   "execution_count": 5,
   "metadata": {},
   "outputs": [
    {
     "name": "stdout",
     "output_type": "stream",
     "text": [
      "Strategic Voting\n"
     ]
    },
    {
     "data": {
      "text/html": [
       "<div>\n",
       "<style scoped>\n",
       "    .dataframe tbody tr th:only-of-type {\n",
       "        vertical-align: middle;\n",
       "    }\n",
       "\n",
       "    .dataframe tbody tr th {\n",
       "        vertical-align: top;\n",
       "    }\n",
       "\n",
       "    .dataframe thead th {\n",
       "        text-align: right;\n",
       "    }\n",
       "</style>\n",
       "<table border=\"1\" class=\"dataframe\">\n",
       "  <thead>\n",
       "    <tr style=\"text-align: right;\">\n",
       "      <th></th>\n",
       "      <th>voter</th>\n",
       "      <th>strategic_voting</th>\n",
       "      <th>new_result</th>\n",
       "      <th>strategic_H</th>\n",
       "      <th>previous_H</th>\n",
       "      <th>strategic_overall_H</th>\n",
       "      <th>previous_overall_H</th>\n",
       "    </tr>\n",
       "  </thead>\n",
       "  <tbody>\n",
       "    <tr>\n",
       "      <th>0</th>\n",
       "      <td>5</td>\n",
       "      <td>[B, A, D, C]</td>\n",
       "      <td>B</td>\n",
       "      <td>0.410487</td>\n",
       "      <td>0.0</td>\n",
       "      <td>2.820973</td>\n",
       "      <td>3.410487</td>\n",
       "    </tr>\n",
       "    <tr>\n",
       "      <th>1</th>\n",
       "      <td>5</td>\n",
       "      <td>[B, D, A, C]</td>\n",
       "      <td>B</td>\n",
       "      <td>0.410487</td>\n",
       "      <td>0.0</td>\n",
       "      <td>2.820973</td>\n",
       "      <td>3.410487</td>\n",
       "    </tr>\n",
       "  </tbody>\n",
       "</table>\n",
       "</div>"
      ],
      "text/plain": [
       "   voter strategic_voting new_result  strategic_H  previous_H  \\\n",
       "0      5     [B, A, D, C]          B     0.410487         0.0   \n",
       "1      5     [B, D, A, C]          B     0.410487         0.0   \n",
       "\n",
       "   strategic_overall_H  previous_overall_H  \n",
       "0             2.820973            3.410487  \n",
       "1             2.820973            3.410487  "
      ]
     },
     "metadata": {},
     "output_type": "display_data"
    },
    {
     "name": "stdout",
     "output_type": "stream",
     "text": [
      "Best Strategic Voting\n"
     ]
    },
    {
     "data": {
      "text/html": [
       "<div>\n",
       "<style scoped>\n",
       "    .dataframe tbody tr th:only-of-type {\n",
       "        vertical-align: middle;\n",
       "    }\n",
       "\n",
       "    .dataframe tbody tr th {\n",
       "        vertical-align: top;\n",
       "    }\n",
       "\n",
       "    .dataframe thead th {\n",
       "        text-align: right;\n",
       "    }\n",
       "</style>\n",
       "<table border=\"1\" class=\"dataframe\">\n",
       "  <thead>\n",
       "    <tr style=\"text-align: right;\">\n",
       "      <th></th>\n",
       "      <th>voter</th>\n",
       "      <th>strategic_voting</th>\n",
       "      <th>new_result</th>\n",
       "      <th>strategic_H</th>\n",
       "      <th>previous_H</th>\n",
       "      <th>strategic_overall_H</th>\n",
       "      <th>previous_overall_H</th>\n",
       "    </tr>\n",
       "  </thead>\n",
       "  <tbody>\n",
       "    <tr>\n",
       "      <th>0</th>\n",
       "      <td>5</td>\n",
       "      <td>[B, A, D, C]</td>\n",
       "      <td>B</td>\n",
       "      <td>0.410487</td>\n",
       "      <td>0.0</td>\n",
       "      <td>2.820973</td>\n",
       "      <td>3.410487</td>\n",
       "    </tr>\n",
       "  </tbody>\n",
       "</table>\n",
       "</div>"
      ],
      "text/plain": [
       "   voter strategic_voting new_result  strategic_H  previous_H  \\\n",
       "0      5     [B, A, D, C]          B     0.410487         0.0   \n",
       "\n",
       "   strategic_overall_H  previous_overall_H  \n",
       "0             2.820973            3.410487  "
      ]
     },
     "metadata": {},
     "output_type": "display_data"
    },
    {
     "name": "stdout",
     "output_type": "stream",
     "text": [
      "Risk: 0.13682886358890622\n"
     ]
    }
   ],
   "source": [
    "happiness_level = HappinessLevel(voting, result.winner, VotingSchemas.PLURALITY_VOTING).run()\n",
    "strategic_voting = StrategicVoting(voting, happiness_level, plurality_outcome).run(show=True)"
   ]
  },
  {
   "cell_type": "markdown",
   "metadata": {},
   "source": [
    "The table displays the best strategic voting for each voter"
   ]
  },
  {
   "cell_type": "code",
   "execution_count": 6,
   "metadata": {},
   "outputs": [
    {
     "data": {
      "text/html": [
       "<div>\n",
       "<style scoped>\n",
       "    .dataframe tbody tr th:only-of-type {\n",
       "        vertical-align: middle;\n",
       "    }\n",
       "\n",
       "    .dataframe tbody tr th {\n",
       "        vertical-align: top;\n",
       "    }\n",
       "\n",
       "    .dataframe thead th {\n",
       "        text-align: right;\n",
       "    }\n",
       "</style>\n",
       "<table border=\"1\" class=\"dataframe\">\n",
       "  <thead>\n",
       "    <tr style=\"text-align: right;\">\n",
       "      <th></th>\n",
       "      <th>voter</th>\n",
       "      <th>strategic_voting</th>\n",
       "      <th>new_result</th>\n",
       "      <th>strategic_H</th>\n",
       "      <th>previous_H</th>\n",
       "      <th>strategic_overall_H</th>\n",
       "      <th>previous_overall_H</th>\n",
       "    </tr>\n",
       "  </thead>\n",
       "  <tbody>\n",
       "    <tr>\n",
       "      <th>0</th>\n",
       "      <td>5</td>\n",
       "      <td>[B, A, D, C]</td>\n",
       "      <td>B</td>\n",
       "      <td>0.410487</td>\n",
       "      <td>0.0</td>\n",
       "      <td>2.820973</td>\n",
       "      <td>3.410487</td>\n",
       "    </tr>\n",
       "  </tbody>\n",
       "</table>\n",
       "</div>"
      ],
      "text/plain": [
       "   voter strategic_voting new_result  strategic_H  previous_H  \\\n",
       "0      5     [B, A, D, C]          B     0.410487         0.0   \n",
       "\n",
       "   strategic_overall_H  previous_overall_H  \n",
       "0             2.820973            3.410487  "
      ]
     },
     "execution_count": 6,
     "metadata": {},
     "output_type": "execute_result"
    }
   ],
   "source": [
    "strategic_voting.best"
   ]
  },
  {
   "cell_type": "markdown",
   "metadata": {},
   "source": [
    "Strategic Voting Risk"
   ]
  },
  {
   "cell_type": "code",
   "execution_count": 7,
   "metadata": {},
   "outputs": [
    {
     "data": {
      "text/plain": [
       "0.13682886358890622"
      ]
     },
     "execution_count": 7,
     "metadata": {},
     "output_type": "execute_result"
    }
   ],
   "source": [
    "strategic_voting.risk"
   ]
  },
  {
   "cell_type": "code",
   "execution_count": 8,
   "metadata": {},
   "outputs": [
    {
     "ename": "ImportError",
     "evalue": "cannot import name 'compute_risk_parallel' from 'src.optimized_code' (/Users/macbook/Desktop/mas-group-1/src/optimized_code.py)",
     "output_type": "error",
     "traceback": [
      "\u001b[0;31m---------------------------------------------------------------------------\u001b[0m",
      "\u001b[0;31mImportError\u001b[0m                               Traceback (most recent call last)",
      "Cell \u001b[0;32mIn[8], line 8\u001b[0m\n\u001b[1;32m      6\u001b[0m \u001b[38;5;28;01mimport\u001b[39;00m \u001b[38;5;21;01mmatplotlib\u001b[39;00m\u001b[38;5;21;01m.\u001b[39;00m\u001b[38;5;21;01mpyplot\u001b[39;00m \u001b[38;5;28;01mas\u001b[39;00m \u001b[38;5;21;01mplt\u001b[39;00m\n\u001b[1;32m      7\u001b[0m \u001b[38;5;28;01mfrom\u001b[39;00m \u001b[38;5;21;01mjoblib\u001b[39;00m \u001b[38;5;28;01mimport\u001b[39;00m Parallel, delayed\n\u001b[0;32m----> 8\u001b[0m \u001b[38;5;28;01mfrom\u001b[39;00m \u001b[38;5;21;01msrc\u001b[39;00m\u001b[38;5;21;01m.\u001b[39;00m\u001b[38;5;21;01moptimized_code\u001b[39;00m \u001b[38;5;28;01mimport\u001b[39;00m read_voting_, compute_risk, plurality_outcome_op, veto_outcome_op, borda_outcome_op, for_two_outcome_op, compute_risk_parallel, compute_risk_combinations, happiness_level_total\n\u001b[1;32m      9\u001b[0m \u001b[38;5;28;01mimport\u001b[39;00m \u001b[38;5;21;01mos\u001b[39;00m\n\u001b[1;32m     10\u001b[0m \u001b[38;5;28;01mimport\u001b[39;00m \u001b[38;5;21;01mjson\u001b[39;00m\n",
      "\u001b[0;31mImportError\u001b[0m: cannot import name 'compute_risk_parallel' from 'src.optimized_code' (/Users/macbook/Desktop/mas-group-1/src/optimized_code.py)"
     ]
    }
   ],
   "source": [
    "import numpy as np\n",
    "from typing import Callable\n",
    "from itertools import permutations\n",
    "import pandas as pd\n",
    "from collections import Counter\n",
    "import matplotlib.pyplot as plt\n",
    "from joblib import Parallel, delayed\n",
    "from src.optimized_code import read_voting_, compute_risk, plurality_outcome_op, veto_outcome_op, borda_outcome_op, for_two_outcome_op, compute_risk_parallel, compute_risk_combinations, happiness_level_total\n",
    "import os\n",
    "import json\n",
    "import multiprocessing"
   ]
  },
  {
   "cell_type": "code",
   "execution_count": null,
   "metadata": {},
   "outputs": [],
   "source": [
    "def compute_voter_risk(preferences: np.ndarray, result: int, initial_happinesses: np.ndarray, i: int, schema_outcome_f: Callable) -> float:\n",
    "    initial_happiness = initial_happinesses[i]\n",
    "    vwr_idx = np.flatnonzero(preferences[:, i] == result)\n",
    "    if vwr_idx.size == 0:\n",
    "        return 0 \n",
    "\n",
    "    vwr = vwr_idx[0]\n",
    "    best_happiness = initial_happiness\n",
    "\n",
    "    perms = list(permutations(preferences[:, i]))\n",
    "    perm_array = np.array(perms)\n",
    "\n",
    "    new_voting = preferences.copy()\n",
    "    for perm in perm_array:\n",
    "        idx = np.argwhere(perm == result)[0][0]\n",
    "        if idx >= vwr:\n",
    "            new_voting[:, i] = perm\n",
    "            new_result = schema_outcome_f(new_voting)\n",
    "            new_happiness = happiness_level(preferences, i, new_result)\n",
    "            best_happiness = max(best_happiness, new_happiness)\n",
    "\n",
    "    return best_happiness - initial_happiness\n",
    "\n",
    "def compute_risk(preferences: np.ndarray, schema_outcome_f: Callable) -> float:\n",
    "    result = schema_outcome_f(preferences)\n",
    "    initial_happinesses = happiness_level_total(preferences, result)\n",
    "    num_unhappy_voters = np.count_nonzero(initial_happinesses != 1)\n",
    "\n",
    "    total_risk = sum(compute_voter_risk(preferences, result, initial_happinesses, voter, schema_outcome_f) \n",
    "                    for voter in range(preferences.shape[1]))\n",
    "\n",
    "    if num_unhappy_voters == 0:\n",
    "        return 0\n",
    "    return total_risk / num_unhappy_voters\n",
    "\n",
    "def compute_risk_parallel(preferences: np.ndarray, schema_outcome_f: Callable) -> float:\n",
    "    result = schema_outcome_f(preferences)\n",
    "    initial_happinesses = happiness_level_total(preferences, result)\n",
    "    num_unhappy_voters = np.count_nonzero(initial_happinesses != 1)\n",
    "\n",
    "\n",
    "    risk = Parallel(n_jobs=multiprocessing.cpu_count())(delayed(compute_voter_risk)(preferences,result,initial_happinesses,i,schema_outcome_f) for i in range(preferences.shape[1]))\n",
    "    total_risk = risk.sum()\n",
    "\n",
    "    if num_unhappy_voters == 0:\n",
    "        return 0\n",
    "    return total_risk / num_unhappy_voters"
   ]
  },
  {
   "cell_type": "code",
   "execution_count": null,
   "metadata": {},
   "outputs": [],
   "source": []
  }
 ],
 "metadata": {
  "kernelspec": {
   "display_name": "venv",
   "language": "python",
   "name": "python3"
  },
  "language_info": {
   "codemirror_mode": {
    "name": "ipython",
    "version": 3
   },
   "file_extension": ".py",
   "mimetype": "text/x-python",
   "name": "python",
   "nbconvert_exporter": "python",
   "pygments_lexer": "ipython3",
   "version": "3.9.6"
  }
 },
 "nbformat": 4,
 "nbformat_minor": 2
}
